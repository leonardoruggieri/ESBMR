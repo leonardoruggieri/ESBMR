{
 "cells": [
  {
   "cell_type": "markdown",
   "metadata": {},
   "source": [
    "# Merchant Recommendation - aggiunta di info covariate"
   ]
  },
  {
   "cell_type": "code",
   "execution_count": 1,
   "metadata": {},
   "outputs": [
    {
     "name": "stdout",
     "output_type": "stream",
     "text": [
      "Collecting pyathena\n",
      "  Downloading PyAthena-2.0.0-py3-none-any.whl (35 kB)\n",
      "Requirement already satisfied: boto3>=1.4.4 in /home/ec2-user/anaconda3/envs/python3/lib/python3.6/site-packages (from pyathena) (1.16.9)\n",
      "Requirement already satisfied: botocore>=1.5.52 in /home/ec2-user/anaconda3/envs/python3/lib/python3.6/site-packages (from pyathena) (1.19.9)\n",
      "Collecting tenacity>=4.1.0\n",
      "  Downloading tenacity-6.2.0-py2.py3-none-any.whl (24 kB)\n",
      "Requirement already satisfied: s3transfer<0.4.0,>=0.3.0 in /home/ec2-user/anaconda3/envs/python3/lib/python3.6/site-packages (from boto3>=1.4.4->pyathena) (0.3.3)\n",
      "Requirement already satisfied: jmespath<1.0.0,>=0.7.1 in /home/ec2-user/anaconda3/envs/python3/lib/python3.6/site-packages (from boto3>=1.4.4->pyathena) (0.10.0)\n",
      "Requirement already satisfied: urllib3<1.26,>=1.25.4; python_version != \"3.4\" in /home/ec2-user/anaconda3/envs/python3/lib/python3.6/site-packages (from botocore>=1.5.52->pyathena) (1.25.10)\n",
      "Requirement already satisfied: python-dateutil<3.0.0,>=2.1 in /home/ec2-user/anaconda3/envs/python3/lib/python3.6/site-packages (from botocore>=1.5.52->pyathena) (2.8.1)\n",
      "Requirement already satisfied: six>=1.9.0 in /home/ec2-user/anaconda3/envs/python3/lib/python3.6/site-packages (from tenacity>=4.1.0->pyathena) (1.14.0)\n",
      "Installing collected packages: tenacity, pyathena\n",
      "Successfully installed pyathena-2.0.0 tenacity-6.2.0\n",
      "\u001b[33mWARNING: You are using pip version 20.0.2; however, version 20.2.4 is available.\n",
      "You should consider upgrading via the '/home/ec2-user/anaconda3/envs/python3/bin/python -m pip install --upgrade pip' command.\u001b[0m\n",
      "Collecting kneed\n",
      "  Downloading kneed-0.7.0-py2.py3-none-any.whl (9.4 kB)\n",
      "Requirement already satisfied: scipy in /home/ec2-user/anaconda3/envs/python3/lib/python3.6/site-packages (from kneed) (1.4.1)\n",
      "Requirement already satisfied: numpy>=1.14.2 in /home/ec2-user/anaconda3/envs/python3/lib/python3.6/site-packages (from kneed) (1.18.1)\n",
      "Requirement already satisfied: matplotlib in /home/ec2-user/anaconda3/envs/python3/lib/python3.6/site-packages (from kneed) (3.1.3)\n",
      "Requirement already satisfied: cycler>=0.10 in /home/ec2-user/anaconda3/envs/python3/lib/python3.6/site-packages (from matplotlib->kneed) (0.10.0)\n",
      "Requirement already satisfied: pyparsing!=2.0.4,!=2.1.2,!=2.1.6,>=2.0.1 in /home/ec2-user/anaconda3/envs/python3/lib/python3.6/site-packages (from matplotlib->kneed) (2.4.6)\n",
      "Requirement already satisfied: kiwisolver>=1.0.1 in /home/ec2-user/anaconda3/envs/python3/lib/python3.6/site-packages (from matplotlib->kneed) (1.1.0)\n",
      "Requirement already satisfied: python-dateutil>=2.1 in /home/ec2-user/anaconda3/envs/python3/lib/python3.6/site-packages (from matplotlib->kneed) (2.8.1)\n",
      "Requirement already satisfied: six in /home/ec2-user/anaconda3/envs/python3/lib/python3.6/site-packages (from cycler>=0.10->matplotlib->kneed) (1.14.0)\n",
      "Requirement already satisfied: setuptools in /home/ec2-user/anaconda3/envs/python3/lib/python3.6/site-packages (from kiwisolver>=1.0.1->matplotlib->kneed) (45.2.0.post20200210)\n",
      "Installing collected packages: kneed\n",
      "Successfully installed kneed-0.7.0\n",
      "\u001b[33mWARNING: You are using pip version 20.0.2; however, version 20.2.4 is available.\n",
      "You should consider upgrading via the '/home/ec2-user/anaconda3/envs/python3/bin/python -m pip install --upgrade pip' command.\u001b[0m\n"
     ]
    }
   ],
   "source": [
    "!pip install pyathena\n",
    "!pip install kneed"
   ]
  },
  {
   "cell_type": "code",
   "execution_count": 2,
   "metadata": {},
   "outputs": [],
   "source": [
    "import numpy as np\n",
    "import pandas as pd\n",
    "import seaborn as sns\n",
    "import matplotlib.pyplot as plt\n",
    "from esbmr2 import esbmr2\n",
    "from hpf_vi import hpf_vi\n",
    "from pyathena import connect\n",
    "import boto3\n",
    "import plotly.express as px\n",
    "import plotly.offline as py\n",
    "import plotly.graph_objects as go\n",
    "from plotly.subplots import make_subplots\n",
    "import matplotlib.pyplot as plt\n",
    "import datetime\n",
    "from IPython.display import display, HTML\n",
    "from sklearn.cluster import KMeans\n",
    "from kneed import KneeLocator\n",
    "from sklearn.metrics import silhouette_score\n",
    "from importlib import reload\n",
    "from esbmr2 import esbmr2\n",
    "\n",
    "# %% Importing custom modules\n",
    "import train_test_split\n",
    "import data_processing\n",
    "import scoring\n",
    "from CF import CF # importing the class for the heuristics"
   ]
  },
  {
   "cell_type": "code",
   "execution_count": 3,
   "metadata": {},
   "outputs": [],
   "source": [
    "import pandas as pd\n",
    "import numpy as np\n",
    "import time\n",
    "from functools import partial\n",
    "import multiprocessing\n",
    "from importlib import reload\n",
    "# Custom modules\n",
    "import multiprocessing_functions\n",
    "reload(multiprocessing_functions)\n",
    "from CF import CF"
   ]
  },
  {
   "cell_type": "code",
   "execution_count": 4,
   "metadata": {},
   "outputs": [],
   "source": [
    "s3 = boto3.resource('s3')\n",
    "s3_client = boto3.client('s3')\n",
    "STAGING_BUCKET = 'nexi-tmp-athena-staging'\n",
    "STAGING_AREA = 'tmp-athena-queries'\n",
    "REGION_NAME = 'eu-west-1'\n",
    "cursor = connect(s3_staging_dir=\"s3://{}/{}\".format(STAGING_BUCKET,STAGING_AREA),\n",
    "                 region_name=REGION_NAME,\n",
    "                 work_group='WKGP-SM-DATA'\n",
    "                ).cursor()\n",
    "def runQueryFromString(sqlQuery):\n",
    "    cursor.execute(sqlQuery)\n",
    "    resultPath = cursor.output_location.replace('s3://','').split('/')\n",
    "    try:\n",
    "        obj = s3_client.get_object(Bucket=resultPath[0], Key=resultPath[1] + '/' + resultPath[2])\n",
    "    except:\n",
    "        return None\n",
    "    return pd.read_csv(obj['Body'])"
   ]
  },
  {
   "cell_type": "markdown",
   "metadata": {},
   "source": [
    "## Import dei dati\n",
    "1. Interazioni carte-merchant con conteggio\n",
    "2. Covariate carte\n",
    "3. Covariate merchant"
   ]
  },
  {
   "cell_type": "code",
   "execution_count": 5,
   "metadata": {},
   "outputs": [],
   "source": [
    "df =  runQueryFromString(\"\"\"\n",
    "SELECT * FROM merch_recom.interazioni_sbt_2020_attivi\n",
    "\"\"\")"
   ]
  },
  {
   "cell_type": "code",
   "execution_count": 6,
   "metadata": {},
   "outputs": [
    {
     "data": {
      "text/html": [
       "<div>\n",
       "<style scoped>\n",
       "    .dataframe tbody tr th:only-of-type {\n",
       "        vertical-align: middle;\n",
       "    }\n",
       "\n",
       "    .dataframe tbody tr th {\n",
       "        vertical-align: top;\n",
       "    }\n",
       "\n",
       "    .dataframe thead th {\n",
       "        text-align: right;\n",
       "    }\n",
       "</style>\n",
       "<table border=\"1\" class=\"dataframe\">\n",
       "  <thead>\n",
       "    <tr style=\"text-align: right;\">\n",
       "      <th></th>\n",
       "      <th>id_car</th>\n",
       "      <th>post_code_mov</th>\n",
       "      <th>id_cluster</th>\n",
       "      <th>nm_nome_cleaned</th>\n",
       "      <th>conteggio</th>\n",
       "      <th>co_corr_acq</th>\n",
       "      <th>co_ese_acc</th>\n",
       "      <th>nm_nome_acc</th>\n",
       "      <th>id_macro_prod_iss</th>\n",
       "      <th>te_macro_prod_iss</th>\n",
       "      <th>id_fam_prod_iss</th>\n",
       "      <th>te_fam_prod_iss</th>\n",
       "      <th>id_ctg_2</th>\n",
       "      <th>te_ctg_2</th>\n",
       "      <th>id_macro_ctg_2</th>\n",
       "      <th>te_macro_ctg_2</th>\n",
       "      <th>co_proc_pv</th>\n",
       "      <th>co_pv</th>\n",
       "    </tr>\n",
       "  </thead>\n",
       "  <tbody>\n",
       "    <tr>\n",
       "      <th>0</th>\n",
       "      <td>F33EB32072FBED8B465A64FEC1DB977E</td>\n",
       "      <td>63074.0</td>\n",
       "      <td>241</td>\n",
       "      <td>PARAFARMACIA SAN BENEDET</td>\n",
       "      <td>1</td>\n",
       "      <td>434495</td>\n",
       "      <td>394756500117001</td>\n",
       "      <td>PARAFARMACIA SAN BENEDET</td>\n",
       "      <td>1</td>\n",
       "      <td>Classic</td>\n",
       "      <td>1</td>\n",
       "      <td>Classic e Rateali</td>\n",
       "      <td>34</td>\n",
       "      <td>PRODOTTI SANITARI</td>\n",
       "      <td>7</td>\n",
       "      <td>RETAIL</td>\n",
       "      <td>NaN</td>\n",
       "      <td>NaN</td>\n",
       "    </tr>\n",
       "    <tr>\n",
       "      <th>1</th>\n",
       "      <td>89855A2B8963D0106079FCB552323462</td>\n",
       "      <td>63074.0</td>\n",
       "      <td>241</td>\n",
       "      <td>PARAFARMACIA SAN BENEDET</td>\n",
       "      <td>1</td>\n",
       "      <td>434495</td>\n",
       "      <td>394756500117001</td>\n",
       "      <td>PARAFARMACIA SAN BENEDET</td>\n",
       "      <td>1</td>\n",
       "      <td>Classic</td>\n",
       "      <td>1</td>\n",
       "      <td>Classic e Rateali</td>\n",
       "      <td>34</td>\n",
       "      <td>PRODOTTI SANITARI</td>\n",
       "      <td>7</td>\n",
       "      <td>RETAIL</td>\n",
       "      <td>NaN</td>\n",
       "      <td>NaN</td>\n",
       "    </tr>\n",
       "    <tr>\n",
       "      <th>2</th>\n",
       "      <td>753C4AA227C63F070EAFB3D8BEEED475</td>\n",
       "      <td>63074.0</td>\n",
       "      <td>241</td>\n",
       "      <td>PARAFARMACIA SAN BENEDET</td>\n",
       "      <td>1</td>\n",
       "      <td>434495</td>\n",
       "      <td>394756500117001</td>\n",
       "      <td>PARAFARMACIA SAN BENEDET</td>\n",
       "      <td>1</td>\n",
       "      <td>Classic</td>\n",
       "      <td>1</td>\n",
       "      <td>Classic e Rateali</td>\n",
       "      <td>34</td>\n",
       "      <td>PRODOTTI SANITARI</td>\n",
       "      <td>7</td>\n",
       "      <td>RETAIL</td>\n",
       "      <td>NaN</td>\n",
       "      <td>NaN</td>\n",
       "    </tr>\n",
       "    <tr>\n",
       "      <th>3</th>\n",
       "      <td>3CAC2708C269ABEB6E5783FB354B99A7</td>\n",
       "      <td>63074.0</td>\n",
       "      <td>241</td>\n",
       "      <td>PARAFARMACIA SAN BENEDET</td>\n",
       "      <td>5</td>\n",
       "      <td>434495</td>\n",
       "      <td>394756500117001</td>\n",
       "      <td>PARAFARMACIA SAN BENEDET</td>\n",
       "      <td>1</td>\n",
       "      <td>Classic</td>\n",
       "      <td>1</td>\n",
       "      <td>Classic e Rateali</td>\n",
       "      <td>34</td>\n",
       "      <td>PRODOTTI SANITARI</td>\n",
       "      <td>7</td>\n",
       "      <td>RETAIL</td>\n",
       "      <td>NaN</td>\n",
       "      <td>NaN</td>\n",
       "    </tr>\n",
       "    <tr>\n",
       "      <th>4</th>\n",
       "      <td>79A2E3540CD3180A789F7F17E458EDC8</td>\n",
       "      <td>63074.0</td>\n",
       "      <td>241</td>\n",
       "      <td>PARAFARMACIA SAN BENEDET</td>\n",
       "      <td>1</td>\n",
       "      <td>434495</td>\n",
       "      <td>394756500117001</td>\n",
       "      <td>PARAFARMACIA SAN BENEDET</td>\n",
       "      <td>1</td>\n",
       "      <td>Classic</td>\n",
       "      <td>1</td>\n",
       "      <td>Classic e Rateali</td>\n",
       "      <td>34</td>\n",
       "      <td>PRODOTTI SANITARI</td>\n",
       "      <td>7</td>\n",
       "      <td>RETAIL</td>\n",
       "      <td>NaN</td>\n",
       "      <td>NaN</td>\n",
       "    </tr>\n",
       "  </tbody>\n",
       "</table>\n",
       "</div>"
      ],
      "text/plain": [
       "                             id_car  post_code_mov  id_cluster  \\\n",
       "0  F33EB32072FBED8B465A64FEC1DB977E        63074.0         241   \n",
       "1  89855A2B8963D0106079FCB552323462        63074.0         241   \n",
       "2  753C4AA227C63F070EAFB3D8BEEED475        63074.0         241   \n",
       "3  3CAC2708C269ABEB6E5783FB354B99A7        63074.0         241   \n",
       "4  79A2E3540CD3180A789F7F17E458EDC8        63074.0         241   \n",
       "\n",
       "            nm_nome_cleaned  conteggio  co_corr_acq       co_ese_acc  \\\n",
       "0  PARAFARMACIA SAN BENEDET          1       434495  394756500117001   \n",
       "1  PARAFARMACIA SAN BENEDET          1       434495  394756500117001   \n",
       "2  PARAFARMACIA SAN BENEDET          1       434495  394756500117001   \n",
       "3  PARAFARMACIA SAN BENEDET          5       434495  394756500117001   \n",
       "4  PARAFARMACIA SAN BENEDET          1       434495  394756500117001   \n",
       "\n",
       "                nm_nome_acc  id_macro_prod_iss te_macro_prod_iss  \\\n",
       "0  PARAFARMACIA SAN BENEDET                  1           Classic   \n",
       "1  PARAFARMACIA SAN BENEDET                  1           Classic   \n",
       "2  PARAFARMACIA SAN BENEDET                  1           Classic   \n",
       "3  PARAFARMACIA SAN BENEDET                  1           Classic   \n",
       "4  PARAFARMACIA SAN BENEDET                  1           Classic   \n",
       "\n",
       "   id_fam_prod_iss    te_fam_prod_iss  id_ctg_2           te_ctg_2  \\\n",
       "0                1  Classic e Rateali        34  PRODOTTI SANITARI   \n",
       "1                1  Classic e Rateali        34  PRODOTTI SANITARI   \n",
       "2                1  Classic e Rateali        34  PRODOTTI SANITARI   \n",
       "3                1  Classic e Rateali        34  PRODOTTI SANITARI   \n",
       "4                1  Classic e Rateali        34  PRODOTTI SANITARI   \n",
       "\n",
       "   id_macro_ctg_2 te_macro_ctg_2 co_proc_pv  co_pv  \n",
       "0               7         RETAIL        NaN    NaN  \n",
       "1               7         RETAIL        NaN    NaN  \n",
       "2               7         RETAIL        NaN    NaN  \n",
       "3               7         RETAIL        NaN    NaN  \n",
       "4               7         RETAIL        NaN    NaN  "
      ]
     },
     "execution_count": 6,
     "metadata": {},
     "output_type": "execute_result"
    }
   ],
   "source": [
    "df.head()"
   ]
  },
  {
   "cell_type": "code",
   "execution_count": 7,
   "metadata": {},
   "outputs": [],
   "source": [
    "df = df.sort_values(\"id_car\")"
   ]
  },
  {
   "cell_type": "code",
   "execution_count": 243,
   "metadata": {},
   "outputs": [],
   "source": [
    "df[df['conteggio']>=10] = 10"
   ]
  },
  {
   "cell_type": "code",
   "execution_count": 8,
   "metadata": {},
   "outputs": [],
   "source": [
    "covar_merchant = runQueryFromString(\"\"\"\n",
    "SELECT * FROM merch_recom.covar_merchant\n",
    "\"\"\")\n",
    "covar_carte = runQueryFromString(\"\"\"\n",
    "SELECT * FROM merch_recom.covar_carte\n",
    "\"\"\")"
   ]
  },
  {
   "cell_type": "code",
   "execution_count": 9,
   "metadata": {},
   "outputs": [
    {
     "data": {
      "text/html": [
       "<div>\n",
       "<style scoped>\n",
       "    .dataframe tbody tr th:only-of-type {\n",
       "        vertical-align: middle;\n",
       "    }\n",
       "\n",
       "    .dataframe tbody tr th {\n",
       "        vertical-align: top;\n",
       "    }\n",
       "\n",
       "    .dataframe thead th {\n",
       "        text-align: right;\n",
       "    }\n",
       "</style>\n",
       "<table border=\"1\" class=\"dataframe\">\n",
       "  <thead>\n",
       "    <tr style=\"text-align: right;\">\n",
       "      <th></th>\n",
       "      <th>nm_nome_cleaned</th>\n",
       "      <th>te_ctg_2</th>\n",
       "      <th>avg_spe</th>\n",
       "      <th>tot_spe</th>\n",
       "      <th>nu_trx</th>\n",
       "    </tr>\n",
       "  </thead>\n",
       "  <tbody>\n",
       "    <tr>\n",
       "      <th>34</th>\n",
       "      <td>AGRIFARMA</td>\n",
       "      <td>ARTICOLI SPORTIVI</td>\n",
       "      <td>49.048300</td>\n",
       "      <td>173729.08</td>\n",
       "      <td>3542</td>\n",
       "    </tr>\n",
       "    <tr>\n",
       "      <th>21</th>\n",
       "      <td>ANGOLO</td>\n",
       "      <td>PROFUMERIE</td>\n",
       "      <td>173.142857</td>\n",
       "      <td>12120.00</td>\n",
       "      <td>70</td>\n",
       "    </tr>\n",
       "    <tr>\n",
       "      <th>7</th>\n",
       "      <td>ARCAPLANET</td>\n",
       "      <td>ANIMALI E ACCESSORI</td>\n",
       "      <td>43.180019</td>\n",
       "      <td>380675.05</td>\n",
       "      <td>8816</td>\n",
       "    </tr>\n",
       "    <tr>\n",
       "      <th>87</th>\n",
       "      <td>ART ET PARFUM</td>\n",
       "      <td>PROFUMERIE</td>\n",
       "      <td>334.255556</td>\n",
       "      <td>120332.00</td>\n",
       "      <td>360</td>\n",
       "    </tr>\n",
       "    <tr>\n",
       "      <th>8</th>\n",
       "      <td>BALDASSARRI OTTICA</td>\n",
       "      <td>CINE FOTO OTTICA</td>\n",
       "      <td>173.891544</td>\n",
       "      <td>94597.00</td>\n",
       "      <td>544</td>\n",
       "    </tr>\n",
       "  </tbody>\n",
       "</table>\n",
       "</div>"
      ],
      "text/plain": [
       "       nm_nome_cleaned             te_ctg_2     avg_spe    tot_spe  nu_trx\n",
       "34           AGRIFARMA    ARTICOLI SPORTIVI   49.048300  173729.08    3542\n",
       "21              ANGOLO           PROFUMERIE  173.142857   12120.00      70\n",
       "7           ARCAPLANET  ANIMALI E ACCESSORI   43.180019  380675.05    8816\n",
       "87       ART ET PARFUM           PROFUMERIE  334.255556  120332.00     360\n",
       "8   BALDASSARRI OTTICA     CINE FOTO OTTICA  173.891544   94597.00     544"
      ]
     },
     "execution_count": 9,
     "metadata": {},
     "output_type": "execute_result"
    }
   ],
   "source": [
    "covar_merchant = covar_merchant.sort_values(\"nm_nome_cleaned\")\n",
    "covar_merchant.head()"
   ]
  },
  {
   "cell_type": "code",
   "execution_count": 10,
   "metadata": {},
   "outputs": [
    {
     "data": {
      "text/html": [
       "<div>\n",
       "<style scoped>\n",
       "    .dataframe tbody tr th:only-of-type {\n",
       "        vertical-align: middle;\n",
       "    }\n",
       "\n",
       "    .dataframe tbody tr th {\n",
       "        vertical-align: top;\n",
       "    }\n",
       "\n",
       "    .dataframe thead th {\n",
       "        text-align: right;\n",
       "    }\n",
       "</style>\n",
       "<table border=\"1\" class=\"dataframe\">\n",
       "  <thead>\n",
       "    <tr style=\"text-align: right;\">\n",
       "      <th></th>\n",
       "      <th>id_car</th>\n",
       "      <th>n_transaz_2020</th>\n",
       "      <th>va_lim_uti</th>\n",
       "      <th>dt_nasc</th>\n",
       "      <th>dt_prima_sped</th>\n",
       "    </tr>\n",
       "  </thead>\n",
       "  <tbody>\n",
       "    <tr>\n",
       "      <th>216</th>\n",
       "      <td>0017585EF174473DBA79173E5329F793</td>\n",
       "      <td>172</td>\n",
       "      <td>5200.0</td>\n",
       "      <td>1975-12-01 00:00:00.000</td>\n",
       "      <td>2016-12-29 00:00:00.000</td>\n",
       "    </tr>\n",
       "    <tr>\n",
       "      <th>67</th>\n",
       "      <td>0042FE3E0748C5197B868D71BF2A3FE6</td>\n",
       "      <td>290</td>\n",
       "      <td>1600.0</td>\n",
       "      <td>1976-10-01 00:00:00.000</td>\n",
       "      <td>2016-09-09 00:00:00.000</td>\n",
       "    </tr>\n",
       "    <tr>\n",
       "      <th>277</th>\n",
       "      <td>00A49D6841C8DD0970B171B357CCBCDC</td>\n",
       "      <td>135</td>\n",
       "      <td>1600.0</td>\n",
       "      <td>1962-12-01 00:00:00.000</td>\n",
       "      <td>2002-08-10 00:00:00.000</td>\n",
       "    </tr>\n",
       "    <tr>\n",
       "      <th>126</th>\n",
       "      <td>02526C5C76CBAA759E42EC003038A308</td>\n",
       "      <td>235</td>\n",
       "      <td>1600.0</td>\n",
       "      <td>1973-12-01 00:00:00.000</td>\n",
       "      <td>2002-03-08 00:00:00.000</td>\n",
       "    </tr>\n",
       "    <tr>\n",
       "      <th>204</th>\n",
       "      <td>02D680C742FC8B7C32BA883CCF0EFC04</td>\n",
       "      <td>179</td>\n",
       "      <td>5000.0</td>\n",
       "      <td>1977-07-01 00:00:00.000</td>\n",
       "      <td>2017-10-10 00:00:00.000</td>\n",
       "    </tr>\n",
       "  </tbody>\n",
       "</table>\n",
       "</div>"
      ],
      "text/plain": [
       "                               id_car  n_transaz_2020  va_lim_uti  \\\n",
       "216  0017585EF174473DBA79173E5329F793             172      5200.0   \n",
       "67   0042FE3E0748C5197B868D71BF2A3FE6             290      1600.0   \n",
       "277  00A49D6841C8DD0970B171B357CCBCDC             135      1600.0   \n",
       "126  02526C5C76CBAA759E42EC003038A308             235      1600.0   \n",
       "204  02D680C742FC8B7C32BA883CCF0EFC04             179      5000.0   \n",
       "\n",
       "                     dt_nasc            dt_prima_sped  \n",
       "216  1975-12-01 00:00:00.000  2016-12-29 00:00:00.000  \n",
       "67   1976-10-01 00:00:00.000  2016-09-09 00:00:00.000  \n",
       "277  1962-12-01 00:00:00.000  2002-08-10 00:00:00.000  \n",
       "126  1973-12-01 00:00:00.000  2002-03-08 00:00:00.000  \n",
       "204  1977-07-01 00:00:00.000  2017-10-10 00:00:00.000  "
      ]
     },
     "execution_count": 10,
     "metadata": {},
     "output_type": "execute_result"
    }
   ],
   "source": [
    "covar_carte = covar_carte.sort_values(\"id_car\")\n",
    "covar_carte.head()"
   ]
  },
  {
   "cell_type": "markdown",
   "metadata": {},
   "source": [
    "### Feature Engineering"
   ]
  },
  {
   "cell_type": "code",
   "execution_count": 11,
   "metadata": {},
   "outputs": [],
   "source": [
    "covar_carte[\"dt_nasc\"] = covar_carte[\"dt_nasc\"].str.slice(0,4)\n",
    "covar_carte[\"dt_prima_sped\"] = covar_carte[\"dt_prima_sped\"].str.slice(0,4)\n",
    "\n",
    "covar_carte['n_transaz_2020_bin'] = pd.cut(x=covar_carte['n_transaz_2020'], bins=[0, 50, 100, 200, 1000])\n",
    "covar_carte[\"n_transaz_2020_bin\"] = pd.Categorical(covar_carte.n_transaz_2020_bin).codes\n",
    "\n",
    "covar_carte['dt_nasc_bin'] = pd.cut(x=covar_carte['dt_nasc'].astype(int), bins=[1900, 1940, 1960, 1980, 1990])\n",
    "covar_carte[\"dt_nasc_bin\"] = pd.Categorical(covar_carte.dt_nasc_bin).codes\n",
    "\n",
    "covar_carte['dt_prima_sped_bin'] = pd.cut(x=covar_carte['dt_prima_sped'].astype(int), bins=[covar_carte['dt_prima_sped'].astype(int).min(), 2005, 2010, 2015, covar_carte['dt_prima_sped'].astype(int).max()])\n",
    "covar_carte[\"dt_prima_sped_bin\"] = pd.Categorical(covar_carte.dt_prima_sped_bin).codes\n",
    "\n",
    "covar_carte['va_lim_uti_bin'] = pd.cut(x=covar_carte['va_lim_uti'].astype(int), bins=[covar_carte['va_lim_uti'].astype(int).min(), 2500, 5000, covar_carte['va_lim_uti'].astype(int).max()])\n",
    "covar_carte[\"va_lim_uti_bin\"] = pd.Categorical(covar_carte.va_lim_uti_bin).codes"
   ]
  },
  {
   "cell_type": "code",
   "execution_count": 13,
   "metadata": {},
   "outputs": [
    {
     "data": {
      "text/html": [
       "<div>\n",
       "<style scoped>\n",
       "    .dataframe tbody tr th:only-of-type {\n",
       "        vertical-align: middle;\n",
       "    }\n",
       "\n",
       "    .dataframe tbody tr th {\n",
       "        vertical-align: top;\n",
       "    }\n",
       "\n",
       "    .dataframe thead th {\n",
       "        text-align: right;\n",
       "    }\n",
       "</style>\n",
       "<table border=\"1\" class=\"dataframe\">\n",
       "  <thead>\n",
       "    <tr style=\"text-align: right;\">\n",
       "      <th></th>\n",
       "      <th>id_car</th>\n",
       "      <th>n_transaz_2020</th>\n",
       "      <th>va_lim_uti</th>\n",
       "      <th>dt_nasc</th>\n",
       "      <th>dt_prima_sped</th>\n",
       "      <th>n_transaz_2020_bin</th>\n",
       "      <th>dt_nasc_bin</th>\n",
       "      <th>dt_prima_sped_bin</th>\n",
       "      <th>va_lim_uti_bin</th>\n",
       "    </tr>\n",
       "  </thead>\n",
       "  <tbody>\n",
       "    <tr>\n",
       "      <th>216</th>\n",
       "      <td>0017585EF174473DBA79173E5329F793</td>\n",
       "      <td>172</td>\n",
       "      <td>5200.0</td>\n",
       "      <td>1975</td>\n",
       "      <td>2016</td>\n",
       "      <td>2</td>\n",
       "      <td>2</td>\n",
       "      <td>3</td>\n",
       "      <td>2</td>\n",
       "    </tr>\n",
       "    <tr>\n",
       "      <th>67</th>\n",
       "      <td>0042FE3E0748C5197B868D71BF2A3FE6</td>\n",
       "      <td>290</td>\n",
       "      <td>1600.0</td>\n",
       "      <td>1976</td>\n",
       "      <td>2016</td>\n",
       "      <td>3</td>\n",
       "      <td>2</td>\n",
       "      <td>3</td>\n",
       "      <td>0</td>\n",
       "    </tr>\n",
       "    <tr>\n",
       "      <th>277</th>\n",
       "      <td>00A49D6841C8DD0970B171B357CCBCDC</td>\n",
       "      <td>135</td>\n",
       "      <td>1600.0</td>\n",
       "      <td>1962</td>\n",
       "      <td>2002</td>\n",
       "      <td>2</td>\n",
       "      <td>2</td>\n",
       "      <td>0</td>\n",
       "      <td>0</td>\n",
       "    </tr>\n",
       "    <tr>\n",
       "      <th>126</th>\n",
       "      <td>02526C5C76CBAA759E42EC003038A308</td>\n",
       "      <td>235</td>\n",
       "      <td>1600.0</td>\n",
       "      <td>1973</td>\n",
       "      <td>2002</td>\n",
       "      <td>3</td>\n",
       "      <td>2</td>\n",
       "      <td>0</td>\n",
       "      <td>0</td>\n",
       "    </tr>\n",
       "    <tr>\n",
       "      <th>204</th>\n",
       "      <td>02D680C742FC8B7C32BA883CCF0EFC04</td>\n",
       "      <td>179</td>\n",
       "      <td>5000.0</td>\n",
       "      <td>1977</td>\n",
       "      <td>2017</td>\n",
       "      <td>2</td>\n",
       "      <td>2</td>\n",
       "      <td>3</td>\n",
       "      <td>1</td>\n",
       "    </tr>\n",
       "  </tbody>\n",
       "</table>\n",
       "</div>"
      ],
      "text/plain": [
       "                               id_car  n_transaz_2020  va_lim_uti dt_nasc  \\\n",
       "216  0017585EF174473DBA79173E5329F793             172      5200.0    1975   \n",
       "67   0042FE3E0748C5197B868D71BF2A3FE6             290      1600.0    1976   \n",
       "277  00A49D6841C8DD0970B171B357CCBCDC             135      1600.0    1962   \n",
       "126  02526C5C76CBAA759E42EC003038A308             235      1600.0    1973   \n",
       "204  02D680C742FC8B7C32BA883CCF0EFC04             179      5000.0    1977   \n",
       "\n",
       "    dt_prima_sped  n_transaz_2020_bin  dt_nasc_bin  dt_prima_sped_bin  \\\n",
       "216          2016                   2            2                  3   \n",
       "67           2016                   3            2                  3   \n",
       "277          2002                   2            2                  0   \n",
       "126          2002                   3            2                  0   \n",
       "204          2017                   2            2                  3   \n",
       "\n",
       "     va_lim_uti_bin  \n",
       "216               2  \n",
       "67                0  \n",
       "277               0  \n",
       "126               0  \n",
       "204               1  "
      ]
     },
     "execution_count": 13,
     "metadata": {},
     "output_type": "execute_result"
    }
   ],
   "source": [
    "covar_carte.head()"
   ]
  },
  {
   "cell_type": "code",
   "execution_count": 91,
   "metadata": {},
   "outputs": [],
   "source": [
    "# covar_c = np.array(covar_carte.sort_values('id_car')['n_transaz_2020_bin']) # np.array:n_transaz_2020 and va_lim_uti\n",
    "covar_c = np.array(covar_carte.sort_values('id_car')[['n_transaz_2020', 'dt_nasc']]) # np.array:n_transaz_2020 and va_lim_uti\n",
    "# covar_c = np.array(covar_carte.sort_values('id_car')['n_transaz_2020_bin']) # np.array:n_transaz_2020 and va_lim_uti"
   ]
  },
  {
   "cell_type": "code",
   "execution_count": 92,
   "metadata": {},
   "outputs": [
    {
     "data": {
      "text/plain": [
       "<matplotlib.collections.PathCollection at 0x7fc588b27208>"
      ]
     },
     "execution_count": 92,
     "metadata": {},
     "output_type": "execute_result"
    },
    {
     "data": {
      "image/png": "[encoded data removed]",
      "text/plain": [
       "<Figure size 432x288 with 1 Axes>"
      ]
     },
     "metadata": {
      "needs_background": "light"
     },
     "output_type": "display_data"
    }
   ],
   "source": [
    "plt.scatter(x=covar_carte[\"n_transaz_2020\"], y=covar_carte[\"dt_nasc\"])"
   ]
  },
  {
   "cell_type": "code",
   "execution_count": 93,
   "metadata": {},
   "outputs": [],
   "source": [
    "covar_c = covar_c.astype(float)"
   ]
  },
  {
   "cell_type": "code",
   "execution_count": 94,
   "metadata": {},
   "outputs": [
    {
     "data": {
      "text/plain": [
       "dtype('float64')"
      ]
     },
     "execution_count": 94,
     "metadata": {},
     "output_type": "execute_result"
    }
   ],
   "source": [
    "covar_merchant['co_ctg_2'] = pd.Categorical(covar_merchant.te_ctg_2).codes\n",
    "covar_m = np.array(covar_merchant.sort_values('nm_nome_cleaned')[['co_ctg_2', 'avg_spe','tot_spe','nu_trx']])\n",
    "covar_m.dtype"
   ]
  },
  {
   "cell_type": "code",
   "execution_count": 95,
   "metadata": {},
   "outputs": [
    {
     "data": {
      "text/html": [
       "<div>\n",
       "<style scoped>\n",
       "    .dataframe tbody tr th:only-of-type {\n",
       "        vertical-align: middle;\n",
       "    }\n",
       "\n",
       "    .dataframe tbody tr th {\n",
       "        vertical-align: top;\n",
       "    }\n",
       "\n",
       "    .dataframe thead th {\n",
       "        text-align: right;\n",
       "    }\n",
       "</style>\n",
       "<table border=\"1\" class=\"dataframe\">\n",
       "  <thead>\n",
       "    <tr style=\"text-align: right;\">\n",
       "      <th></th>\n",
       "      <th>nm_nome_cleaned</th>\n",
       "      <th>te_ctg_2</th>\n",
       "      <th>avg_spe</th>\n",
       "      <th>tot_spe</th>\n",
       "      <th>nu_trx</th>\n",
       "      <th>co_ctg_2</th>\n",
       "    </tr>\n",
       "  </thead>\n",
       "  <tbody>\n",
       "    <tr>\n",
       "      <th>34</th>\n",
       "      <td>AGRIFARMA</td>\n",
       "      <td>ARTICOLI SPORTIVI</td>\n",
       "      <td>49.048300</td>\n",
       "      <td>173729.08</td>\n",
       "      <td>3542</td>\n",
       "      <td>3</td>\n",
       "    </tr>\n",
       "    <tr>\n",
       "      <th>21</th>\n",
       "      <td>ANGOLO</td>\n",
       "      <td>PROFUMERIE</td>\n",
       "      <td>173.142857</td>\n",
       "      <td>12120.00</td>\n",
       "      <td>70</td>\n",
       "      <td>11</td>\n",
       "    </tr>\n",
       "    <tr>\n",
       "      <th>7</th>\n",
       "      <td>ARCAPLANET</td>\n",
       "      <td>ANIMALI E ACCESSORI</td>\n",
       "      <td>43.180019</td>\n",
       "      <td>380675.05</td>\n",
       "      <td>8816</td>\n",
       "      <td>1</td>\n",
       "    </tr>\n",
       "    <tr>\n",
       "      <th>87</th>\n",
       "      <td>ART ET PARFUM</td>\n",
       "      <td>PROFUMERIE</td>\n",
       "      <td>334.255556</td>\n",
       "      <td>120332.00</td>\n",
       "      <td>360</td>\n",
       "      <td>11</td>\n",
       "    </tr>\n",
       "    <tr>\n",
       "      <th>8</th>\n",
       "      <td>BALDASSARRI OTTICA</td>\n",
       "      <td>CINE FOTO OTTICA</td>\n",
       "      <td>173.891544</td>\n",
       "      <td>94597.00</td>\n",
       "      <td>544</td>\n",
       "      <td>5</td>\n",
       "    </tr>\n",
       "    <tr>\n",
       "      <th>...</th>\n",
       "      <td>...</td>\n",
       "      <td>...</td>\n",
       "      <td>...</td>\n",
       "      <td>...</td>\n",
       "      <td>...</td>\n",
       "      <td>...</td>\n",
       "    </tr>\n",
       "    <tr>\n",
       "      <th>71</th>\n",
       "      <td>TAG S</td>\n",
       "      <td>ARTE E COLLEZIONISMO</td>\n",
       "      <td>150.392857</td>\n",
       "      <td>12633.00</td>\n",
       "      <td>84</td>\n",
       "      <td>2</td>\n",
       "    </tr>\n",
       "    <tr>\n",
       "      <th>13</th>\n",
       "      <td>TEOREMA</td>\n",
       "      <td>CARTOLIBRERIE</td>\n",
       "      <td>37.627143</td>\n",
       "      <td>7901.70</td>\n",
       "      <td>210</td>\n",
       "      <td>4</td>\n",
       "    </tr>\n",
       "    <tr>\n",
       "      <th>38</th>\n",
       "      <td>TIGOTA</td>\n",
       "      <td>PROFUMERIE</td>\n",
       "      <td>28.744048</td>\n",
       "      <td>424779.54</td>\n",
       "      <td>14778</td>\n",
       "      <td>11</td>\n",
       "    </tr>\n",
       "    <tr>\n",
       "      <th>47</th>\n",
       "      <td>URBAN ESSENCE</td>\n",
       "      <td>PROFUMERIE</td>\n",
       "      <td>46.960000</td>\n",
       "      <td>2817.60</td>\n",
       "      <td>60</td>\n",
       "      <td>11</td>\n",
       "    </tr>\n",
       "    <tr>\n",
       "      <th>63</th>\n",
       "      <td>VISOH</td>\n",
       "      <td>PROFUMERIE</td>\n",
       "      <td>51.933353</td>\n",
       "      <td>26330.21</td>\n",
       "      <td>507</td>\n",
       "      <td>11</td>\n",
       "    </tr>\n",
       "  </tbody>\n",
       "</table>\n",
       "<p>89 rows × 6 columns</p>\n",
       "</div>"
      ],
      "text/plain": [
       "       nm_nome_cleaned              te_ctg_2     avg_spe    tot_spe  nu_trx  \\\n",
       "34           AGRIFARMA     ARTICOLI SPORTIVI   49.048300  173729.08    3542   \n",
       "21              ANGOLO            PROFUMERIE  173.142857   12120.00      70   \n",
       "7           ARCAPLANET   ANIMALI E ACCESSORI   43.180019  380675.05    8816   \n",
       "87       ART ET PARFUM            PROFUMERIE  334.255556  120332.00     360   \n",
       "8   BALDASSARRI OTTICA      CINE FOTO OTTICA  173.891544   94597.00     544   \n",
       "..                 ...                   ...         ...        ...     ...   \n",
       "71               TAG S  ARTE E COLLEZIONISMO  150.392857   12633.00      84   \n",
       "13             TEOREMA         CARTOLIBRERIE   37.627143    7901.70     210   \n",
       "38              TIGOTA            PROFUMERIE   28.744048  424779.54   14778   \n",
       "47       URBAN ESSENCE            PROFUMERIE   46.960000    2817.60      60   \n",
       "63               VISOH            PROFUMERIE   51.933353   26330.21     507   \n",
       "\n",
       "    co_ctg_2  \n",
       "34         3  \n",
       "21        11  \n",
       "7          1  \n",
       "87        11  \n",
       "8          5  \n",
       "..       ...  \n",
       "71         2  \n",
       "13         4  \n",
       "38        11  \n",
       "47        11  \n",
       "63        11  \n",
       "\n",
       "[89 rows x 6 columns]"
      ]
     },
     "execution_count": 95,
     "metadata": {},
     "output_type": "execute_result"
    }
   ],
   "source": [
    "covar_merchant"
   ]
  },
  {
   "cell_type": "code",
   "execution_count": 96,
   "metadata": {},
   "outputs": [],
   "source": [
    "reload(data_processing)\n",
    "expl, id_car, nm_nome_cleaned = data_processing.cross_tab(df)\n",
    "train, test = train_test_split.train_val_split(expl)"
   ]
  },
  {
   "cell_type": "markdown",
   "metadata": {},
   "source": [
    "## Fit del modello - implicit feedback\n",
    "Il modello è fittato con l'aggiunta di covariate."
   ]
  },
  {
   "cell_type": "code",
   "execution_count": 245,
   "metadata": {},
   "outputs": [
    {
     "name": "stdout",
     "output_type": "stream",
     "text": [
      "------------------\n",
      "Initial log-likelihood: -3.0414093201713376e+64\n",
      "------------------\n",
      "Gibbs Sampling simulation starts.\n",
      "Iteration 0 complete. Log-likelihood: -3.0414093201713376e+64.\n",
      "Iteration 10 complete. Log-likelihood: -3.0414093201713376e+64.\n",
      "Iteration 20 complete. Log-likelihood: -3.0414093201713376e+64.\n",
      "Iteration 30 complete. Log-likelihood: -3.0414093201713376e+64.\n",
      "Iteration 40 complete. Log-likelihood: -3.0414093201713376e+64.\n",
      "Iteration 50 complete. Log-likelihood: -3.0414093201713376e+64.\n",
      "Iteration 60 complete. Log-likelihood: -3.0414093201713376e+64.\n",
      "Iteration 70 complete. Log-likelihood: -3.0414093201713376e+64.\n",
      "Iteration 80 complete. Log-likelihood: -3.0414093201713376e+64.\n",
      "Iteration 90 complete. Log-likelihood: -3.0414093201713376e+64.\n",
      "Runtime: 76.70952486991882\n",
      "Computing block interactions...\n",
      "Block-interactions (mode estimator) computed.\n",
      "Block-interactions (k-means estimator) computed.\n",
      "End: 1605909920.5982869\n"
     ]
    }
   ],
   "source": [
    "del model\n",
    "impl = expl.copy()\n",
    "impl[expl.nonzero()] = 1\n",
    "train_i, test_i = train_test_split.train_val_split(impl)\n",
    "model = esbmr2(prior_u = 'GN', prior_i = 'DP', components = 10, gamma = 0.475, beta = 0.1, sigma = 0.4, alpha_urn_u = 2.55, alpha_urn_i = 2.55, a = 0.3, b = 0.5)\n",
    "model.fit(train[:,:], 100, \n",
    "#           xu = covar_c[:,:].T, xu_type = [\"count\", \"count\"], \n",
    "#           alpha_xu = 1.5, \n",
    "#           alpha_xi = 1.5, \n",
    "#           xi = covar_m[:,:].T, xi_type = [\"categ\", \"cont\", \"cont\", \"count\"]\n",
    "         )\n",
    "# pred_i = model.predict(test_i)"
   ]
  },
  {
   "cell_type": "code",
   "execution_count": 246,
   "metadata": {},
   "outputs": [],
   "source": [
    "model.co_clustering_matrices()"
   ]
  },
  {
   "cell_type": "markdown",
   "metadata": {},
   "source": [
    "## Community detection\n",
    "### 1. Carte\n",
    "Ciascun cluster è caratterizzato da diversi valori di interazione con i vari cluster dei merchant.\n",
    "\n",
    "La stima basata su KMeans è leggermente discordante poiché individua meno cluster."
   ]
  },
  {
   "cell_type": "code",
   "execution_count": 220,
   "metadata": {},
   "outputs": [],
   "source": [
    "# mod2.KMeans_estimator(method_u = \"silhouette\", method_i = \"silhouette\") # computes the KMeans estimator"
   ]
  },
  {
   "cell_type": "code",
   "execution_count": 247,
   "metadata": {},
   "outputs": [
    {
     "data": {
      "text/plain": [
       "array([ 0,  1,  2,  3,  4,  5,  6,  7,  8,  9, 10, 11, 12, 13, 14, 15, 16,\n",
       "       17, 18, 19, 20, 21, 22, 23, 24, 25, 26, 27, 28, 29, 30, 31, 32])"
      ]
     },
     "execution_count": 247,
     "metadata": {},
     "output_type": "execute_result"
    }
   ],
   "source": [
    "# model.vi_estimator()\n",
    "np.unique(model.zu_est)\n",
    "# model.zu_est_vi\n",
    "# np.unique(model.zu_est_kmeans)"
   ]
  },
  {
   "cell_type": "code",
   "execution_count": 248,
   "metadata": {},
   "outputs": [
    {
     "data": {
      "text/plain": [
       "[<matplotlib.lines.Line2D at 0x7fc562761fd0>]"
      ]
     },
     "execution_count": 248,
     "metadata": {},
     "output_type": "execute_result"
    },
    {
     "data": {
      "image/png": "[encoded data removed]",
      "text/plain": [
       "<Figure size 432x288 with 1 Axes>"
      ]
     },
     "metadata": {
      "needs_background": "light"
     },
     "output_type": "display_data"
    }
   ],
   "source": [
    "plt.plot(model.zu_mcmc[:,20])"
   ]
  },
  {
   "cell_type": "code",
   "execution_count": 249,
   "metadata": {},
   "outputs": [
    {
     "data": {
      "text/plain": [
       "array([ 0,  1,  2,  3,  4,  5,  6,  7,  8,  9, 10, 11, 12, 13, 14, 15, 16,\n",
       "       17, 18, 19, 20, 21, 22, 23, 24, 25])"
      ]
     },
     "execution_count": 249,
     "metadata": {},
     "output_type": "execute_result"
    }
   ],
   "source": [
    "# model.vi_estimator()\n",
    "np.unique(model.zi_est)\n",
    "# model.zu_est_vi\n",
    "# np.unique(model.zi_est_kmeans)"
   ]
  },
  {
   "cell_type": "code",
   "execution_count": 250,
   "metadata": {},
   "outputs": [
    {
     "name": "stdout",
     "output_type": "stream",
     "text": [
      "0.8200316060427039\n"
     ]
    }
   ],
   "source": [
    "pred, pred_kmeans = model.predict(test[:,:])\n",
    "print(sum([scoring.roc_auc(train_i[:,:],test_i[:,:], pred) for i in range(20)])/20)"
   ]
  },
  {
   "cell_type": "code",
   "execution_count": 251,
   "metadata": {},
   "outputs": [
    {
     "data": {
      "text/plain": [
       "0.5395819089497629"
      ]
     },
     "execution_count": 251,
     "metadata": {},
     "output_type": "execute_result"
    }
   ],
   "source": [
    "scoring.mse(train_i,test_i,pred)"
   ]
  },
  {
   "cell_type": "code",
   "execution_count": 255,
   "metadata": {},
   "outputs": [
    {
     "data": {
      "text/plain": [
       "<matplotlib.axes._subplots.AxesSubplot at 0x7fc549c1df60>"
      ]
     },
     "execution_count": 255,
     "metadata": {},
     "output_type": "execute_result"
    },
    {
     "data": {
      "image/png": "[encoded data removed]",
      "text/plain": [
       "<Figure size 1152x504 with 4 Axes>"
      ]
     },
     "metadata": {
      "needs_background": "light"
     },
     "output_type": "display_data"
    }
   ],
   "source": [
    "gig, ax = plt.subplots(figsize=(16,7),ncols=2,nrows=1)\n",
    "sns.heatmap(ax=ax[0],data=model.ccmatrix_u, cmap = 'YlGnBu')\n",
    "sns.heatmap(ax=ax[1],data=model.ccmatrix_i, cmap = 'YlGnBu')\n",
    "# plt.savefig(\"ccmatrix_covar.pdf\")"
   ]
  },
  {
   "cell_type": "markdown",
   "metadata": {},
   "source": [
    "### 2. Merchant\n",
    "Il modello individua 12 cluster di merchant.\n",
    "\n",
    "La stima basata su KMeans rileva 3 cluster. (!!!)\n",
    "\n",
    "Rispetto alle carte, il clustering dei merchant appare più netto."
   ]
  },
  {
   "cell_type": "code",
   "execution_count": 35,
   "metadata": {},
   "outputs": [
    {
     "data": {
      "text/plain": [
       "<matplotlib.axes._subplots.AxesSubplot at 0x7f8630fc3e10>"
      ]
     },
     "execution_count": 35,
     "metadata": {},
     "output_type": "execute_result"
    },
    {
     "data": {
      "image/png": "[encoded data removed]",
      "text/plain": [
       "<Figure size 432x288 with 2 Axes>"
      ]
     },
     "metadata": {
      "needs_background": "light"
     },
     "output_type": "display_data"
    }
   ],
   "source": [
    "sns.heatmap(model.ccmatrix_i)"
   ]
  },
  {
   "cell_type": "markdown",
   "metadata": {},
   "source": [
    "### Clustering at a glance"
   ]
  },
  {
   "cell_type": "code",
   "execution_count": 240,
   "metadata": {},
   "outputs": [
    {
     "name": "stdout",
     "output_type": "stream",
     "text": [
      "[['AGRIFARMA' 0]\n",
      " ['BUFFETTI' 0]\n",
      " ['FARMACIA ROSINI' 0]\n",
      " ['FARMACIE ANGELINI' 0]\n",
      " ['FLYING TIGERSBDEL TRON' 0]\n",
      " ['GALEAZZI PROFUMERIA' 0]\n",
      " ['KIKO' 0]\n",
      " ['SOCIETA AGRICOLA TERRA E' 0]]\n",
      "[['FARMACIA CARLINI' 1]\n",
      " ['FARMACIA OLIVIERI' 1]\n",
      " ['FARMACIA TOMASSINI' 1]\n",
      " ['FARMACIE ANGELINI DI' 1]\n",
      " ['TIGOTA' 1]]\n",
      "[['ART ET PARFUM' 2]\n",
      " ['BALDASSARRI OTTICA' 2]\n",
      " ['BATUFFOLI COCCOLE' 2]\n",
      " ['CARTOLIBRERIA ALIF' 2]\n",
      " ['FLYING TIGERSBDEL T' 2]\n",
      " ['IL MARENGO' 2]\n",
      " ['LA NUOVA ERBORISTERIA DE' 2]\n",
      " ['MARE CHEF' 2]\n",
      " ['NAVE CERVO' 2]\n",
      " ['OTTICA PANSARINI' 2]\n",
      " ['OTTICA TALAMONTI' 2]\n",
      " ['OTTICA VERDEROSA' 2]\n",
      " ['PIUNTI QUINTO' 2]\n",
      " ['RCB COLOURS BEAU' 2]\n",
      " ['SARNI ORO' 2]\n",
      " ['SHINE' 2]\n",
      " ['VISOH' 2]]\n",
      "[['ERBAMICA ERBORISTERIA' 3]\n",
      " ['FARMACIA ADRIATICA' 3]\n",
      " ['GIOCHERIA' 3]\n",
      " ['GIOIELLERIA FENOCCHI' 3]\n",
      " ['LIBRERIA MONDADORI ZELIG' 3]\n",
      " ['MEDICAL SAN' 3]\n",
      " ['PARAFARMACIA SAN BENEDET' 3]\n",
      " ['SPIPERCART' 3]]\n",
      "[['BEAUTIFUL HAIR' 4]\n",
      " ['BLOOMING' 4]\n",
      " ['CICLOFFICINA' 4]\n",
      " ['DOUGLAS ITALIA' 4]\n",
      " ['EQUIVALENZA' 4]\n",
      " ['GALILEI CENTRO OTTICO' 4]\n",
      " ['IL GIOIELLO' 4]\n",
      " ['MEGAOPTICS' 4]\n",
      " ['ORTOFRUTTA PALESTINI' 4]\n",
      " ['PARIS' 4]\n",
      " ['TEOREMA' 4]]\n",
      "[['CAFFE' 5]\n",
      " ['FLAMAR' 5]\n",
      " ['FUEL SERVICE' 5]\n",
      " ['GEISHA' 5]\n",
      " ['I MIEI PROFUMI' 5]\n",
      " ['LA BOUTIQUE MAKEUP CENTER' 5]\n",
      " ['LA NUOVA ERBORISTERIA' 5]\n",
      " ['SACCARIA IDROT SBENEDETT' 5]\n",
      " ['SERGIACOMI ORTOPEDIA' 5]\n",
      " ['SQUALO' 5]\n",
      " ['STEFANY' 5]\n",
      " ['URBAN ESSENCE' 5]]\n",
      "[['EVENTI FLOREALI' 6]\n",
      " ['GIOCA NATURA CREATI' 6]\n",
      " ['GIOCA NATURA CREATIVIT' 6]\n",
      " ['LEAU' 6]\n",
      " ['OKAY SPORT' 6]\n",
      " ['PARAFARMACIA TRAVAGLINI' 6]\n",
      " ['PRIMAVERA COOPERATIVA' 6]\n",
      " ['RCB COLOURS B' 6]]\n",
      "[['ANGOLO' 7]\n",
      " ['CICLI E MOTOSPORT' 7]\n",
      " ['FRANMY' 7]\n",
      " ['LA MIMOSA' 7]\n",
      " ['LIBRERIA MONDADORI ZEL' 7]\n",
      " ['NIKO FIORI' 7]\n",
      " ['OPTICAL CENTER' 7]\n",
      " ['OTTICA MEDICAL CONTACT' 7]\n",
      " ['PARAFARMACIA SAN BENED' 7]\n",
      " ['PRIMAVERA COOPERATIVA SO' 7]\n",
      " ['PRINK' 7]\n",
      " ['STEPHANIA ERBORISTERIE' 7]\n",
      " ['TAG S' 7]]\n",
      "[['ARCAPLANET' 8]\n",
      " ['CANEGATTO' 8]\n",
      " ['FARMACIA D AURIZIO' 8]\n",
      " ['FARMACIA DAURIZIO' 8]\n",
      " ['FARMACIA LAURI' 8]\n",
      " ['GARDEN LA FIORITA' 8]\n",
      " ['GIARDINANDO' 8]]\n",
      "[]\n",
      "[]\n",
      "[]\n",
      "[]\n",
      "[]\n",
      "[]\n",
      "[]\n",
      "[]\n",
      "[]\n",
      "[]\n",
      "[]\n",
      "[]\n",
      "[]\n",
      "[]\n",
      "[]\n",
      "[]\n",
      "[]\n",
      "[]\n",
      "[]\n",
      "[]\n",
      "[]\n",
      "[]\n",
      "[]\n",
      "[]\n",
      "[]\n",
      "[]\n",
      "[]\n",
      "[]\n",
      "[]\n",
      "[]\n",
      "[]\n",
      "[]\n",
      "[]\n",
      "[]\n",
      "[]\n",
      "[]\n",
      "[]\n",
      "[]\n",
      "[]\n",
      "[]\n",
      "[]\n",
      "[]\n",
      "[]\n",
      "[]\n",
      "[]\n",
      "[]\n",
      "[]\n",
      "[]\n",
      "[]\n",
      "[]\n",
      "[]\n",
      "[]\n",
      "[]\n",
      "[]\n",
      "[]\n",
      "[]\n",
      "[]\n",
      "[]\n",
      "[]\n",
      "[]\n",
      "[]\n",
      "[]\n",
      "[]\n",
      "[]\n",
      "[]\n",
      "[]\n",
      "[]\n",
      "[]\n",
      "[]\n",
      "[]\n",
      "[]\n",
      "[]\n",
      "[]\n",
      "[]\n",
      "[]\n",
      "[]\n",
      "[]\n",
      "[]\n",
      "[]\n",
      "[]\n"
     ]
    }
   ],
   "source": [
    "# id_car_clustered = np.vstack((id_car, model.zu_est)).T\n",
    "merchant_clustered = np.vstack((nm_nome_cleaned[:100], model.zi_est)).T\n",
    "for i in range(model.zi_est.shape[0]):\n",
    "    print(merchant_clustered[merchant_clustered[:,1] == i])"
   ]
  },
  {
   "cell_type": "markdown",
   "metadata": {},
   "source": [
    "## Matrice di interazione carte-merchant\n",
    "- L'heatmap riporta il grado di interazione normalizzato tra cluster di user e cluster di item.\n",
    "- Le prediction si baseranno su tali valori"
   ]
  },
  {
   "cell_type": "code",
   "execution_count": 205,
   "metadata": {},
   "outputs": [
    {
     "data": {
      "text/plain": [
       "<matplotlib.axes._subplots.AxesSubplot at 0x7fc54ee28198>"
      ]
     },
     "execution_count": 205,
     "metadata": {},
     "output_type": "execute_result"
    },
    {
     "data": {
      "image/png": "[encoded data removed]",
      "text/plain": [
       "<Figure size 432x288 with 2 Axes>"
      ]
     },
     "metadata": {
      "needs_background": "light"
     },
     "output_type": "display_data"
    }
   ],
   "source": [
    "sns.heatmap(model.theta_est)"
   ]
  },
  {
   "cell_type": "markdown",
   "metadata": {},
   "source": [
    "### Accuracy vs. Novelty\n",
    "L'accuracy del modello \"risente\" della struttura a blocchi, che tuttavia si rivela utile per raccomandare novità agli utenti.\n",
    "\n",
    "$Accuracy = \\frac{\\text{# correct predictions}}{\\text{# total predictions}}$"
   ]
  },
  {
   "cell_type": "code",
   "execution_count": 70,
   "metadata": {},
   "outputs": [],
   "source": [
    "pred_i = pred_i / pred_i.max()"
   ]
  },
  {
   "cell_type": "markdown",
   "metadata": {},
   "source": [
    "## Generare raccomandazioni\n",
    "- La funzione <b>block recommend</b> ritorna i merchant suddivisi per cluster."
   ]
  },
  {
   "cell_type": "code",
   "execution_count": 43,
   "metadata": {},
   "outputs": [],
   "source": [
    "# u1, u2 = 0,10\n",
    "# print(f\" - Recommendations for user {u1}: \",model.block_recommend([0],5))\n",
    "# print(f\" - Recommendations for user {u2}: \",model.block_recommend([10],5))"
   ]
  },
  {
   "cell_type": "markdown",
   "metadata": {},
   "source": [
    "### Affrontare il problema del \"cold start\"\n",
    "\"Cold start\" è l'espressione usata per indicare il problema di raccomandare items a users non inclusi nel dataset iniziale.\n",
    "\n",
    "Nell'ambito del modello in questione, in cui tutte le quantità sono modellate secondo distribuzioni di probabilità, è sufficiente una ipotesi per produrre \"cold-start recommendations\", ovvero che lo user abbia probabilità di appartenere ad uno dei cluster di users proporzionalmente alla loro cardinalità. In questo modo, le raccomandazioni saranno medie pesate delle raccomandazioni per gli users con cui è stato allenato il modello.\n",
    "\n",
    "Nel nostro caso, per una carta $c$ sconosciuta, l'interazione stimata sarà:\n",
    "$$ \\theta_{c,i} = \\sum_{h=1}^{H} w_{h} \\cdot \\theta_{h,c^I} $$\n",
    "dove $w_h$ è la frequenza relativa di user nel cluster $h$ e $c^I$ è il cluster assignment del merchant $i$."
   ]
  },
  {
   "cell_type": "code",
   "execution_count": null,
   "metadata": {},
   "outputs": [],
   "source": [
    "# cold start"
   ]
  },
  {
   "cell_type": "markdown",
   "metadata": {},
   "source": [
    "## Confronto con un'euristica: memory-based collaborative filtering\n",
    "Un memory-based collaborative filtering è un algoritmo di raccomandazione basato unicamente su logiche algoritmiche. Non vi è dunque alcun fitting di modello. Il CF implementato è un CF user-based: le raccomandazioni per ciascuna carta sono la media aritmetica dei movimenti delle 10 carte più simili. "
   ]
  },
  {
   "cell_type": "code",
   "execution_count": 194,
   "metadata": {},
   "outputs": [
    {
     "data": {
      "text/plain": [
       "array([[0.1, 0.2, 0.2, ..., 0.4, 0. , 0. ],\n",
       "       [0.1, 0.2, 0.2, ..., 0.4, 0. , 0. ],\n",
       "       [0.1, 0.1, 0.2, ..., 0.4, 0. , 0. ],\n",
       "       ...,\n",
       "       [0.2, 0.1, 0.2, ..., 0.3, 0. , 0.1],\n",
       "       [0.1, 0.2, 0.1, ..., 0.3, 0. , 0. ],\n",
       "       [0.1, 0.2, 0.2, ..., 0.3, 0. , 0. ]])"
      ]
     },
     "execution_count": 194,
     "metadata": {},
     "output_type": "execute_result"
    }
   ],
   "source": [
    "cf = CF()\n",
    "cf.fit(train_i[:,:], 10)"
   ]
  },
  {
   "cell_type": "markdown",
   "metadata": {},
   "source": [
    "## Confronto con un modello concorrente: Hierarchical Poisson Factorization (HPF)\n",
    "HPF è un latent feature model: al contrario dell'ESBMR, individua un vettore di feature per ciascuna carta e per ciascun merchant. Ciò si traduce in una elevata complessità modellistica, che limita le possibilità di fare inferenza dal modello.\n",
    "\n",
    "Per i nostri dati, HPF genera 35890 parametri. ESBMR appena 104! Nonstante ciò, i due modelli hanno performance comparabili."
   ]
  },
  {
   "cell_type": "code",
   "execution_count": 195,
   "metadata": {},
   "outputs": [
    {
     "name": "stderr",
     "output_type": "stream",
     "text": [
      "/home/ec2-user/SageMaker/dst-merchant-recommendation/hpf_vi.py:189: RuntimeWarning:\n",
      "\n",
      "divide by zero encountered in log\n",
      "\n"
     ]
    },
    {
     "name": "stdout",
     "output_type": "stream",
     "text": [
      "Iteration 1 completed. Log-likelihood: -4790.511618537938\n",
      "Iteration 2 completed. Log-likelihood: -3402.52137300973\n",
      "Iteration 3 completed. Log-likelihood: -3244.0377928792864\n",
      "Iteration 4 completed. Log-likelihood: -3088.0612946703864\n",
      "Iteration 5 completed. Log-likelihood: -2957.617931835629\n",
      "Iteration 6 completed. Log-likelihood: -2864.927288513322\n",
      "Iteration 7 completed. Log-likelihood: -2799.1148789101703\n",
      "Iteration 8 completed. Log-likelihood: -2754.295489143631\n",
      "Iteration 9 completed. Log-likelihood: -2723.4890964834804\n",
      "Iteration 10 completed. Log-likelihood: -2699.939868035568\n",
      "Stopped after 2.152 seconds, 10 iterations. Log-likelihood: -2699.939868035568.\n"
     ]
    }
   ],
   "source": [
    "hpf = hpf_vi()\n",
    "hpf.fit(train_i[:,:], 10, valid = test_i[:,:])"
   ]
  },
  {
   "cell_type": "markdown",
   "metadata": {},
   "source": [
    "## Performance metrics\n",
    "1. Mean squared Error (MSE): in-sample and out-of-sample\n",
    "2. Accuracy score\n",
    "3. Sensitivity\n",
    "3. Area under the ROC curve (AUC) - <i> for implicit feedback only </i>\n",
    "4. Precision-at-z\n",
    "5. Recall-at-z"
   ]
  },
  {
   "cell_type": "markdown",
   "metadata": {},
   "source": [
    "### 1. Mean Squared Error"
   ]
  },
  {
   "cell_type": "code",
   "execution_count": 206,
   "metadata": {},
   "outputs": [
    {
     "data": {
      "text/plain": [
       "0.04843454677340472"
      ]
     },
     "execution_count": 206,
     "metadata": {},
     "output_type": "execute_result"
    }
   ],
   "source": [
    "reload(scoring)\n",
    "scoring.mse(train_i, test_i, pred)"
   ]
  },
  {
   "cell_type": "markdown",
   "metadata": {},
   "source": [
    "### Random predictor"
   ]
  },
  {
   "cell_type": "code",
   "execution_count": 207,
   "metadata": {},
   "outputs": [],
   "source": [
    "pred_rand = np.random.randn(test.shape[0], test.shape[1])"
   ]
  },
  {
   "cell_type": "markdown",
   "metadata": {},
   "source": [
    "## AUC: confronto con le baseline"
   ]
  },
  {
   "cell_type": "code",
   "execution_count": 209,
   "metadata": {},
   "outputs": [
    {
     "name": "stdout",
     "output_type": "stream",
     "text": [
      "Score for CF: 0.6355510169634568\n",
      "Score for ESBMR: 0.7483769094438348\n",
      "Score for HPF: 0.7156696767659718\n",
      "Score for random: 0.4915906827580387\n"
     ]
    }
   ],
   "source": [
    "reload(scoring)\n",
    "print(f\"Score for CF: {scoring.roc_auc(train_i, test_i, cf.pred)}\")\n",
    "print(f\"Score for ESBMR: {scoring.roc_auc(train_i, test_i, pred)}\")\n",
    "print(f\"Score for HPF: {scoring.roc_auc(train_i, test_i, hpf.predicted)}\")\n",
    "print(f\"Score for random: {scoring.roc_auc(train_i, test_i, pred_rand)}\")"
   ]
  },
  {
   "cell_type": "markdown",
   "metadata": {},
   "source": [
    "### Distribuzione dell'AUC al variare del test set per i quattro recommender system\n",
    "ei grafici, in ordine: CF, ESBMR, HPF, random"
   ]
  },
  {
   "cell_type": "code",
   "execution_count": 181,
   "metadata": {},
   "outputs": [
    {
     "data": {
      "text/plain": [
       "(array([1., 1., 2., 4., 4., 3., 9., 6., 4., 4., 8., 4.]),\n",
       " array([0.48178665, 0.48278324, 0.48377984, 0.48477644, 0.48577303,\n",
       "        0.48676963, 0.48776622, 0.48876282, 0.48975942, 0.49075601,\n",
       "        0.49175261, 0.49274921, 0.4937458 ]),\n",
       " <a list of 12 Patch objects>)"
      ]
     },
     "execution_count": 181,
     "metadata": {},
     "output_type": "execute_result"
    },
    {
     "data": {
      "image/png": "[encoded data removed]",
      "text/plain": [
       "<Figure size 864x360 with 4 Axes>"
      ]
     },
     "metadata": {
      "needs_background": "light"
     },
     "output_type": "display_data"
    }
   ],
   "source": [
    "fig, ax = plt.subplots(figsize = (12,5), ncols = 4)\n",
    "\n",
    "ax[0].hist([scoring.roc_auc(train_i,test_i, cf.pred) for i in range(50)], bins = 12, alpha = 0.5)\n",
    "ax[1].hist([scoring.roc_auc(train_i,test_i, pred_i) for i in range(50)], bins = 12, alpha = 0.5)\n",
    "ax[2].hist([scoring.roc_auc(train_i,test_i, hpf.predicted) for i in range(50)], bins = 12, alpha = 0.5)\n",
    "ax[3].hist([scoring.roc_auc(train_i,test_i, pred_rand) for i in range(50)], bins = 12, alpha = 0.5)"
   ]
  },
  {
   "cell_type": "markdown",
   "metadata": {},
   "source": [
    "### Mean Squared Error - comparazione"
   ]
  },
  {
   "cell_type": "code",
   "execution_count": 211,
   "metadata": {},
   "outputs": [
    {
     "name": "stdout",
     "output_type": "stream",
     "text": [
      "Score for CF: 0.06086444007858547\n",
      "Score for ESBMR: 0.04889245696214501\n",
      "Score for HPF: 0.050957889821202605\n",
      "Score for random: 1.0218982189180306\n"
     ]
    }
   ],
   "source": [
    "reload(scoring)\n",
    "print(f\"Score for CF: {scoring.mse(train_i, test_i, cf.pred)}\")\n",
    "print(f\"Score for ESBMR: {scoring.mse(train_i, test_i, pred)}\")\n",
    "print(f\"Score for HPF: {scoring.mse(train_i, test_i, hpf.predicted)}\")\n",
    "print(f\"Score for random: {scoring.mse(train_i, test_i, pred_rand)}\")"
   ]
  },
  {
   "cell_type": "code",
   "execution_count": 183,
   "metadata": {},
   "outputs": [
    {
     "data": {
      "text/plain": [
       "0.2069408740359897"
      ]
     },
     "execution_count": 183,
     "metadata": {},
     "output_type": "execute_result"
    }
   ],
   "source": [
    "model.recall_at_z(test_i, pred_i, threshold = 0.1)"
   ]
  },
  {
   "cell_type": "markdown",
   "metadata": {},
   "source": [
    "Recall-at-z is much higher than precision-at-z: as expected, since the model is based on a block structure, \n",
    "it will suggest many items that are in line with the preference of the user, but that the user never consumed.\n",
    "Hence, on the one hand, we get a relatively low precision-at-z.\n",
    "On the other hand, a high recall confirms that the model detects a high proportion of relevant items on the total."
   ]
  },
  {
   "cell_type": "code",
   "execution_count": 130,
   "metadata": {},
   "outputs": [
    {
     "name": "stdout",
     "output_type": "stream",
     "text": [
      "[NbConvertApp] Converting notebook ESBMR_analysis_implicit.ipynb to html\n",
      "[NbConvertApp] Writing 559231 bytes to ESBMR_analysis_implicit.html\n"
     ]
    }
   ],
   "source": [
    "!jupyter nbconvert ESBMR_analysis_implicit.ipynb --to html --no-input"
   ]
  }
 ],
 "metadata": {
  "kernelspec": {
   "display_name": "conda_python3",
   "language": "python",
   "name": "conda_python3"
  },
  "language_info": {
   "codemirror_mode": {
    "name": "ipython",
    "version": 3
   },
   "file_extension": ".py",
   "mimetype": "text/x-python",
   "name": "python",
   "nbconvert_exporter": "python",
   "pygments_lexer": "ipython3",
   "version": "3.6.10"
  }
 },
 "nbformat": 4,
 "nbformat_minor": 4
}
