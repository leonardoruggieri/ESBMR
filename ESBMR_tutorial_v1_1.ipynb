{
 "cells": [
  {
   "cell_type": "markdown",
   "metadata": {
    "colab_type": "text",
    "id": "2FIX4_pwGc7P"
   },
   "source": [
    "# Extended Stochastic Block Model for Recommendations - Tutorial (draft 1.1)\n",
    "\n",
    "#### The following notebook is a preliminary tutorial on how to use the module \"esbmr\" for bipartite network, a blockmodel-based recommender system which allows to make inference on cluster assignments of users and items as well as on their block interactions.\n",
    "\n",
    "#### The module runs a collapsed Gibbs sampling algorithm. Coverged is assesed through the computation of the log-likelihood."
   ]
  },
  {
   "cell_type": "markdown",
   "metadata": {
    "colab_type": "text",
    "id": "EZpi5qj3H7iw"
   },
   "source": [
    "## Model formulation\n",
    "ESBMR can be seen as a Bayesian latent class model for bipartite networks (networks with two separate entity, i.e. users and items) and builds on the ESBM of Legramanti et al. (2020). The user-item interactions $y_{u,i}$ are drawn from a Poisson distribution, with parameter $\\theta_{z_u,z_i}$, where $z_u$ is the cluster assignment of user $u$ and $z_i$ is the cluster assignment of item $i$.\n",
    "\n",
    "In this way, the model discovers latent block structures in user and item entities. At the same time, it estimates the block interaction matrix $\\Theta = \\{\\theta_{h,k}\\}_{h,k}$: for each pair of user-item clusters, the higher is the value of $\\theta_{h,k}$, the higher will be their affinity or probability of interactions. Thanks to cluster assignments and block interaction parameters, we can set up an accurate and identifiable recommender system.\n",
    "\n",
    "The generative model can be summed up as follows:\n",
    "1. For each user $u=1,...,U$:\n",
    "- Draw a cluster assignment $z_u$ according to its prior.\n",
    "2. For each item $i = 1,...,I$:\n",
    "- Draw a cluster assignment $z_i$ according to its prior.\n",
    "3. For each pair of clusters $h,k$:\n",
    "- Sample block interaction parameter: $\\theta_{h,k} \\sim \\text{Gamma}(a,b)$\n",
    "4. For each pair of user-item $u,i$:\n",
    "- Sample the interaction value: $y_{u,i} \\sim \\text{Poisson}(\\theta_{z_u,z_i})$\n"
   ]
  },
  {
   "cell_type": "code",
   "execution_count": 1,
   "metadata": {
    "colab": {},
    "colab_type": "code",
    "id": "nNN_7AlvGc7R"
   },
   "outputs": [
    {
     "ename": "ModuleNotFoundError",
     "evalue": "No module named 'kneed'",
     "output_type": "error",
     "traceback": [
      "\u001b[0;31m---------------------------------------------------------------------------\u001b[0m",
      "\u001b[0;31mModuleNotFoundError\u001b[0m                       Traceback (most recent call last)",
      "\u001b[0;32m<ipython-input-1-2fde6ace2043>\u001b[0m in \u001b[0;36m<module>\u001b[0;34m\u001b[0m\n\u001b[0;32m----> 1\u001b[0;31m \u001b[0;32mfrom\u001b[0m \u001b[0mesbmr\u001b[0m \u001b[0;32mimport\u001b[0m \u001b[0mesbmr\u001b[0m \u001b[0;31m# importing the module\u001b[0m\u001b[0;34m\u001b[0m\u001b[0;34m\u001b[0m\u001b[0m\n\u001b[0m\u001b[1;32m      2\u001b[0m \u001b[0;34m\u001b[0m\u001b[0m\n\u001b[1;32m      3\u001b[0m \u001b[0;32mimport\u001b[0m \u001b[0mpandas\u001b[0m \u001b[0;32mas\u001b[0m \u001b[0mpd\u001b[0m\u001b[0;34m\u001b[0m\u001b[0;34m\u001b[0m\u001b[0m\n\u001b[1;32m      4\u001b[0m \u001b[0;32mimport\u001b[0m \u001b[0mnumpy\u001b[0m \u001b[0;32mas\u001b[0m \u001b[0mnp\u001b[0m\u001b[0;34m\u001b[0m\u001b[0;34m\u001b[0m\u001b[0m\n\u001b[1;32m      5\u001b[0m \u001b[0;32mimport\u001b[0m \u001b[0mrandom\u001b[0m\u001b[0;34m\u001b[0m\u001b[0;34m\u001b[0m\u001b[0m\n",
      "\u001b[0;32m~/SageMaker/dst-merchant-recommendation/esbmr.py\u001b[0m in \u001b[0;36m<module>\u001b[0;34m\u001b[0m\n\u001b[1;32m     16\u001b[0m \u001b[0;32mimport\u001b[0m \u001b[0mtrain_test_split\u001b[0m\u001b[0;34m\u001b[0m\u001b[0;34m\u001b[0m\u001b[0m\n\u001b[1;32m     17\u001b[0m \u001b[0;32mfrom\u001b[0m \u001b[0msklearn\u001b[0m\u001b[0;34m.\u001b[0m\u001b[0mcluster\u001b[0m \u001b[0;32mimport\u001b[0m \u001b[0mKMeans\u001b[0m\u001b[0;34m\u001b[0m\u001b[0;34m\u001b[0m\u001b[0m\n\u001b[0;32m---> 18\u001b[0;31m \u001b[0;32mfrom\u001b[0m \u001b[0mkneed\u001b[0m \u001b[0;32mimport\u001b[0m \u001b[0mKneeLocator\u001b[0m\u001b[0;34m\u001b[0m\u001b[0;34m\u001b[0m\u001b[0m\n\u001b[0m\u001b[1;32m     19\u001b[0m \u001b[0;32mfrom\u001b[0m \u001b[0msklearn\u001b[0m\u001b[0;34m.\u001b[0m\u001b[0mmetrics\u001b[0m \u001b[0;32mimport\u001b[0m \u001b[0msilhouette_score\u001b[0m\u001b[0;34m\u001b[0m\u001b[0;34m\u001b[0m\u001b[0m\n\u001b[1;32m     20\u001b[0m \u001b[0;34m\u001b[0m\u001b[0m\n",
      "\u001b[0;31mModuleNotFoundError\u001b[0m: No module named 'kneed'"
     ]
    }
   ],
   "source": [
    "from esbmr import esbmr # importing the module\n",
    "\n",
    "import pandas as pd\n",
    "import numpy as np \n",
    "import random\n",
    "from numpy import matlib\n",
    "from scipy.special import betaln\n",
    "from scipy.special import gammaln\n",
    "import time\n",
    "import matplotlib.pyplot as plt"
   ]
  },
  {
   "cell_type": "markdown",
   "metadata": {
    "colab_type": "text",
    "id": "UI_qYIPcGc7b"
   },
   "source": [
    "## Object instantiation\n",
    "The model allows for the choice of Bayesian nonparametric priors on cluster assignments: in this way, the number of clusters is fully inferred from the data, giving the model high flexibility. The priors allowed on cluster assignments are: Dirichlet-Multinomial (DM), Dirichlet process (DP), Pitman-Yor process (PY) and Gnedin process (GN).\n",
    "\n",
    "When an object \"esbmr\" is instantiated, if no arguments are passed, the priors on cluster assignments are automatically set to the Dirichlet process prior. In addition, the hyperparameters $a$ and $b$ are set to 1, to induce a prior with high density near zero."
   ]
  },
  {
   "cell_type": "code",
   "execution_count": 2,
   "metadata": {
    "colab": {
     "base_uri": "https://localhost:8080/",
     "height": 51
    },
    "colab_type": "code",
    "id": "nKocQvX0PuIo",
    "outputId": "f1eb744a-7681-454e-bf72-db5125ad98f6"
   },
   "outputs": [
    {
     "name": "stdout",
     "output_type": "stream",
     "text": [
      "Prior on cluster assignments of users: DP\n",
      "Prior on cluster assignments of items: DP\n"
     ]
    }
   ],
   "source": [
    "model = esbmr()\n",
    "print(f\"Prior on cluster assignments of users: {model.prior_u}\\nPrior on cluster assignments of items: {model.prior_i}\")"
   ]
  },
  {
   "cell_type": "markdown",
   "metadata": {
    "colab_type": "text",
    "id": "Ndxmho4hGc7c"
   },
   "source": [
    "## Implementation without covariates\n",
    "The method \"fit\" executes a collapsed Gibbs sampler, with user-specified number of iterations.\\\n",
    " If no covariates are passed, inference will be conducted on network data only.\n",
    "\n",
    "The required input of the model is an adjacency matrix $Y$ of user-item interactions, with implicit or explicit feedback."
   ]
  },
  {
   "cell_type": "code",
   "execution_count": 3,
   "metadata": {
    "colab": {
     "base_uri": "https://localhost:8080/",
     "height": 289
    },
    "colab_type": "code",
    "id": "u8ji-w8WGc7d",
    "outputId": "4de92912-a5cc-4260-c283-7e6707566826",
    "tags": []
   },
   "outputs": [
    {
     "name": "stdout",
     "output_type": "stream",
     "text": [
      "------------------\n",
      "Initial log-likelihood: -10804.275963861724\n",
      "------------------\n",
      "Gibbs Sampling simulation starts.\n",
      "Iteration 0 complete. Log-likelihood: -6976.75479641028.\n",
      "Iteration 10 complete. Log-likelihood: -6820.545112022612.\n",
      "Iteration 20 complete. Log-likelihood: -6813.295284591605.\n",
      "Iteration 30 complete. Log-likelihood: -6812.581461879774.\n",
      "Iteration 40 complete. Log-likelihood: -6812.4043710196975.\n",
      "Iteration 50 complete. Log-likelihood: -6822.58567139673.\n",
      "Iteration 60 complete. Log-likelihood: -6830.778737742282.\n",
      "Iteration 70 complete. Log-likelihood: -6834.853284236646.\n",
      "Iteration 80 complete. Log-likelihood: -6833.885650019513.\n",
      "Iteration 90 complete. Log-likelihood: -6812.807153664512.\n",
      "Runtime: 10.419027999999999\n",
      "Block-interactions computed.\n"
     ]
    }
   ],
   "source": [
    "Y = pd.read_csv(\"ratings.csv\")\n",
    "Y = np.array(Y)[:,1:] # data: 49 users and 130 items\n",
    "\n",
    "model.fit(Y,100)"
   ]
  },
  {
   "cell_type": "markdown",
   "metadata": {
    "colab_type": "text",
    "id": "QxQe7XsJGc7j"
   },
   "source": [
    "## Block interactions:\n",
    "At the end on the MCMC procedure, the block interaction matrix $\\Theta$ is computed, based on the estimated cluster assignments.\n",
    "\n",
    "Please note that, for the moment, we only take the last value of the MCMC to build our final estimates.\n"
   ]
  },
  {
   "cell_type": "code",
   "execution_count": 7,
   "metadata": {
    "colab": {
     "base_uri": "https://localhost:8080/",
     "height": 286
    },
    "colab_type": "code",
    "id": "BgO4GAdPGc7k",
    "outputId": "d7284ebf-5b53-47e4-f1ab-527fc5905a66"
   },
   "outputs": [
    {
     "data": {
      "text/plain": [
       "<matplotlib.axes._subplots.AxesSubplot at 0x7fd47cecd588>"
      ]
     },
     "execution_count": 7,
     "metadata": {
      "tags": []
     },
     "output_type": "execute_result"
    },
    {
     "data": {
      "image/png": "[encoded data removed]",
      "text/plain": [
       "<Figure size 432x288 with 2 Axes>"
      ]
     },
     "metadata": {
      "needs_background": "light",
      "tags": []
     },
     "output_type": "display_data"
    }
   ],
   "source": [
    "import seaborn as sns\n",
    "sns.heatmap(model.theta_est, cmap=\"YlGnBu\") # block-interaction parameters"
   ]
  },
  {
   "cell_type": "markdown",
   "metadata": {
    "colab_type": "text",
    "id": "iyo79nqOGc7p"
   },
   "source": [
    "## Implementation with covariates\n",
    "In addition to the adjacency matrix $Y$, it is possible to provide categorical, binary, count-type or continuous covariates to the model, which ultimately improves the overall performance. They can be provided both for user entity and for item entity: it sufficies to specify their type in a specific parameter of the \"fit\" method.\n",
    "\n",
    "In the following toy example, we provide two covariates for the user entity. Priors on cluster assignments are set to GN and appropriate parameters are passed.\n",
    "\n",
    "Note that, since the covariates are randomly generated, they are trivially non-informative, and hence they reduce the likelihood of the model, deteriorating the predictive performance as well."
   ]
  },
  {
   "cell_type": "code",
   "execution_count": 8,
   "metadata": {
    "colab": {
     "base_uri": "https://localhost:8080/",
     "height": 391
    },
    "colab_type": "code",
    "id": "U9ncQ_5BGc7q",
    "outputId": "d1e98732-2328-4fa9-8466-abf61b0278dc"
   },
   "outputs": [
    {
     "name": "stdout",
     "output_type": "stream",
     "text": [
      "------------------\n",
      "2 covariates for 'user' entity provided:\n",
      " - Continuous covariate 0 for users preprocessed.\n",
      " - Count-type covariate 1 for users preprocessed.\n",
      "------------------\n",
      "Initial log-likelihood: -10804.275963861724\n",
      "------------------\n",
      "Gibbs Sampling simulation starts.\n",
      "Iteration 0 complete. Log-likelihood: -7065.902008780809.\n",
      "Iteration 10 complete. Log-likelihood: -6855.5312735736015.\n",
      "Iteration 20 complete. Log-likelihood: -6844.070312741389.\n",
      "Iteration 30 complete. Log-likelihood: -6829.238372709035.\n",
      "Iteration 40 complete. Log-likelihood: -6825.897480052488.\n",
      "Iteration 50 complete. Log-likelihood: -6818.396298903395.\n",
      "Iteration 60 complete. Log-likelihood: -6812.591705332015.\n",
      "Iteration 70 complete. Log-likelihood: -6837.434926117076.\n",
      "Iteration 80 complete. Log-likelihood: -6822.176396202449.\n",
      "Iteration 90 complete. Log-likelihood: -6818.0143824803845.\n",
      "Runtime: 13.923455\n",
      "Block-interactions computed.\n"
     ]
    },
    {
     "data": {
      "text/plain": [
       "array([[0.00221582, 0.02852737, 0.17922078],\n",
       "       [0.35789474, 0.07142857, 0.11111111]])"
      ]
     },
     "execution_count": 8,
     "metadata": {
      "tags": []
     },
     "output_type": "execute_result"
    }
   ],
   "source": [
    "x1 = np.array([ 1.04, -1.93,  0.61, -1.04,  2.53, -2.33,  0.63,  0.4 ,  0.09,\n",
    "       -0.9 , -0.5 , -0.52, -0.6 , -0.3 ,  0.41,  0.41,  1.15, -0.8 ,\n",
    "       -0.42, -0.4 , -0.63,  0.89,  0.01, -0.91,  0.12, -0.83,  0.01,\n",
    "       -0.64, -2.2 , -0.62,  0.72,  0.45, -0.56,  0.77,  0.81, -0.88,\n",
    "       -0.39,  0.2 , -0.38,  0.69, -2.11, -0.57, -0.74,  0.79,  0.3 ,\n",
    "       -0.32,  0.44,  1.09,  0.11]) # continuous covariate for users\n",
    "\n",
    "x2 = np.array([[5, 8, 6, 6, 3, 8, 2, 6, 4, 6, 5, 3, 3, 9, 5, 6, 9, 0, 3, 4, 0, 9,\n",
    "       2, 2, 6, 8, 2, 5, 1, 6, 8, 9, 3, 1, 7, 9, 7, 1, 4, 2, 7, 5, 2, 0,\n",
    "       3, 3, 7, 8, 2]]) # count-type covariate for users\n",
    "\n",
    "x = np.empty(shape= (2,Y.shape[0]))\n",
    "\n",
    "mod1 = esbmr(prior_u = \"GN\", prior_i = \"GN\", beta = 0.1, components = 2, sigma = 0.4, gamma = 0)\n",
    "mod1.fit(Y, 100, xu = x, xi = None, xu_type = [\"cont\",\"count\"], xi_type = None, verbose = False)\n",
    "\n",
    "mod1.theta_est # block interaction parameters"
   ]
  },
  {
   "cell_type": "markdown",
   "metadata": {
    "colab_type": "text",
    "id": "fLRV-2SS_Mu8"
   },
   "source": [
    "### Prediction and Mean Squared Error computation\n",
    "In-sample MSE can be computed with the method 'mse', after the interactions have been predicted with the dedicated method 'predict'.\n",
    "\n",
    "The out-of-sample MSE can be computed as well, provided an appropriate train/validation split before the MCMC procedure, as in the following example."
   ]
  },
  {
   "cell_type": "code",
   "execution_count": 12,
   "metadata": {
    "colab": {
     "base_uri": "https://localhost:8080/",
     "height": 289
    },
    "colab_type": "code",
    "id": "3GO6e6db_Z2_",
    "outputId": "d222e0e1-af49-4d3f-9369-ffa613393e87"
   },
   "outputs": [
    {
     "name": "stdout",
     "output_type": "stream",
     "text": [
      "------------------\n",
      "Initial log-likelihood: -10785.560989986607\n",
      "------------------\n",
      "Gibbs Sampling simulation starts.\n",
      "Iteration 0 complete. Log-likelihood: -6974.150714416317.\n",
      "Iteration 10 complete. Log-likelihood: -6772.718309251438.\n",
      "Iteration 20 complete. Log-likelihood: -6771.165536513615.\n",
      "Iteration 30 complete. Log-likelihood: -6777.232199953111.\n",
      "Iteration 40 complete. Log-likelihood: -6761.912684338221.\n",
      "Iteration 50 complete. Log-likelihood: -6766.982310531878.\n",
      "Iteration 60 complete. Log-likelihood: -6758.233041052988.\n",
      "Iteration 70 complete. Log-likelihood: -6772.027173342385.\n",
      "Iteration 80 complete. Log-likelihood: -6770.622128458364.\n",
      "Iteration 90 complete. Log-likelihood: -6762.1792929679605.\n",
      "Runtime: 10.491347999999995\n",
      "Block-interactions computed.\n"
     ]
    }
   ],
   "source": [
    "def train_val_split(data, valid_dim=0.2):\n",
    "        '''\n",
    "        Creating two additional objects, i.e. training and validation set, which can be used in the fitting process\n",
    "\n",
    "        Parameters:\n",
    "        data = np.array\n",
    "        valid_dim = float\n",
    "        '''\n",
    "        if valid_dim >= 1:\n",
    "          raise ValueError(\"valid_dim must be lower than 1\")\n",
    "\n",
    "        train = data.copy()\n",
    "        valid = np.zeros(data.shape)\n",
    "\n",
    "        for u in np.unique(data.nonzero()[0]):\n",
    "            ind = data[u].nonzero()[0] \n",
    "\n",
    "            if len(ind) > 0: \n",
    "                valid_ind = np.random.choice(ind, round(len(ind)*valid_dim), replace=False)\n",
    "                for i in valid_ind:\n",
    "                    valid[u,i], train[u,i] = data[u,i], 0\n",
    "        return train, valid\n",
    "\n",
    "train, test = train_val_split(Y, valid_dim = 0.2)\n",
    "model = esbmr()\n",
    "model.fit(train, 100)\n",
    "y_pred = model.predict(test)"
   ]
  },
  {
   "cell_type": "markdown",
   "metadata": {
    "colab_type": "text",
    "id": "EN4SjXgkA0d2"
   },
   "source": [
    "Performances are pretty similar to other competing models, with the advantage of a much clearer interpretation of the output parameters as block interactions."
   ]
  },
  {
   "cell_type": "code",
   "execution_count": 13,
   "metadata": {
    "colab": {
     "base_uri": "https://localhost:8080/",
     "height": 34
    },
    "colab_type": "code",
    "id": "qp00nNfvE9je",
    "outputId": "a85224d9-d7c0-451c-90d3-bd59da4a3ad6"
   },
   "outputs": [
    {
     "data": {
      "text/plain": [
       "0.7477353015974535"
      ]
     },
     "execution_count": 13,
     "metadata": {
      "tags": []
     },
     "output_type": "execute_result"
    }
   ],
   "source": [
    "model.mse(values = train, pred = y_pred)"
   ]
  },
  {
   "cell_type": "markdown",
   "metadata": {
    "colab_type": "text",
    "id": "SHHRYJtQeHek"
   },
   "source": [
    "### Convergence diagnostics\n",
    "We plot a term which is proportional to the log-likelihood in order to assess the convergence of the model. \n",
    "\n",
    "Further diagnostics can be delivered for larger networks."
   ]
  },
  {
   "cell_type": "code",
   "execution_count": 11,
   "metadata": {
    "colab": {
     "base_uri": "https://localhost:8080/",
     "height": 334
    },
    "colab_type": "code",
    "id": "yN5sWrJ6fi7Q",
    "outputId": "4278a32b-4ac2-4bcc-f51c-efc8a5388d8d"
   },
   "outputs": [
    {
     "data": {
      "image/png": "[encoded data removed]",
      "text/plain": [
       "<Figure size 576x360 with 1 Axes>"
      ]
     },
     "metadata": {
      "needs_background": "light",
      "tags": []
     },
     "output_type": "display_data"
    }
   ],
   "source": [
    "fig, ax = plt.subplots(nrows = 1, ncols = 1, figsize = (8,5))\n",
    "ax.plot(mod1.ll, label = \"Log-likelihood\")\n",
    "plt.xlabel(\"Iteration\")\n",
    "ax.legend();"
   ]
  }
 ],
 "metadata": {
  "colab": {
   "collapsed_sections": [],
   "name": "tutorial.ipynb",
   "provenance": [],
   "toc_visible": true
  },
  "kernelspec": {
   "display_name": "conda_python3",
   "language": "python",
   "name": "conda_python3"
  },
  "language_info": {
   "codemirror_mode": {
    "name": "ipython",
    "version": 3
   },
   "file_extension": ".py",
   "mimetype": "text/x-python",
   "name": "python",
   "nbconvert_exporter": "python",
   "pygments_lexer": "ipython3",
   "version": "3.6.10"
  }
 },
 "nbformat": 4,
 "nbformat_minor": 1
}
