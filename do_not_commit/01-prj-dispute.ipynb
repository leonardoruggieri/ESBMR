{
 "cells": [
  {
   "cell_type": "markdown",
   "metadata": {},
   "source": [
    "# Dispute - work group\n",
    "### Individuazione automatica transazioni \"safe\" e transazioni da controllare\n",
    "\n",
    "#### Recommender system\n",
    "Un sistema di raccomandazione (recommender system) è in grado di individuare preferenze e profili di consumo di cardholder verso merchant selezionati.\n",
    "\n",
    "#### Scoring\n",
    "Nel sistema proposto, ciascuna carta è associata ad una lista di <i>score</i>, che rappresenta il gradimento del cardholder nei confronti di ciascuno dei merchant nel perimetro di analisi. Più è alto lo score, più il cardholder è propenso a transare verso quell'esercente. Di conseguenza, è possibile stilare un ranking per ciascun cardholder con i merchant meno affini alle proprie abitudini di consumo. \n",
    "\n",
    "#### Proposta\n",
    "Quando vengono effettuate transazioni, al successivo training, il sistema fa inferenza su un coefficiente di affinità (i.e. la prediction puntuale del modello). Tale score serve alla personalizzazione dell'esperienza utente nel sistema proposto."
   ]
  },
  {
   "cell_type": "markdown",
   "metadata": {},
   "source": [
    "## Un esempio\n",
    "\n",
    "A fini di esempio, prediamo i dati di carte a Milano che transano presso merchant ecommerce, per un totale di 10000 interazioni.\n",
    "\n",
    "Il modello verrà allenato a riconoscere le preferenze dei cardholder in base alle loro spese pregresse ed alla similarità con altri cardholder."
   ]
  },
  {
   "cell_type": "code",
   "execution_count": 58,
   "metadata": {},
   "outputs": [],
   "source": [
    "# !pip install pyathena\n",
    "# !pip install kneed"
   ]
  },
  {
   "cell_type": "code",
   "execution_count": 3,
   "metadata": {},
   "outputs": [],
   "source": [
    "import numpy as np\n",
    "import pandas as pd\n",
    "import seaborn as sns\n",
    "import matplotlib.pyplot as plt\n",
    "from esbmr2 import esbmr2\n",
    "from hpf_vi import hpf_vi\n",
    "from pyathena import connect\n",
    "import boto3\n",
    "import plotly.express as px\n",
    "import plotly.offline as py\n",
    "import plotly.graph_objects as go\n",
    "from plotly.subplots import make_subplots\n",
    "import matplotlib.pyplot as plt\n",
    "import datetime\n",
    "from IPython.display import display, HTML\n",
    "from sklearn.cluster import KMeans\n",
    "from sklearn.metrics import silhouette_score\n",
    "from importlib import reload\n",
    "from esbmr2 import esbmr2\n",
    "\n",
    "# %% Importing custom modules\n",
    "import train_test_split\n",
    "import data_processing\n",
    "import scoring\n",
    "from CF import CF # importing the class for the heuristics"
   ]
  },
  {
   "cell_type": "code",
   "execution_count": 4,
   "metadata": {},
   "outputs": [],
   "source": [
    "import pandas as pd\n",
    "import numpy as np\n",
    "import time\n",
    "from functools import partial\n",
    "import multiprocessing\n",
    "from importlib import reload\n",
    "# Custom modules\n",
    "import multiprocessing_functions\n",
    "reload(multiprocessing_functions)\n",
    "from CF import CF"
   ]
  },
  {
   "cell_type": "code",
   "execution_count": 5,
   "metadata": {},
   "outputs": [],
   "source": [
    "s3 = boto3.resource('s3')\n",
    "s3_client = boto3.client('s3')\n",
    "STAGING_BUCKET = 'nexi-tmp-athena-staging'\n",
    "STAGING_AREA = 'tmp-athena-queries'\n",
    "REGION_NAME = 'eu-west-1'\n",
    "cursor = connect(s3_staging_dir=\"s3://{}/{}\".format(STAGING_BUCKET,STAGING_AREA),\n",
    "                 region_name=REGION_NAME,\n",
    "                 work_group='WKGP-SM-DATA'\n",
    "                ).cursor()\n",
    "def runQueryFromString(sqlQuery):\n",
    "    cursor.execute(sqlQuery)\n",
    "    resultPath = cursor.output_location.replace('s3://','').split('/')\n",
    "    try:\n",
    "        obj = s3_client.get_object(Bucket=resultPath[0], Key=resultPath[1] + '/' + resultPath[2])\n",
    "    except:\n",
    "        return None\n",
    "    return pd.read_csv(obj['Body'])"
   ]
  },
  {
   "cell_type": "markdown",
   "metadata": {},
   "source": [
    "### Training del modello"
   ]
  },
  {
   "cell_type": "code",
   "execution_count": 11,
   "metadata": {},
   "outputs": [],
   "source": [
    "df =  runQueryFromString(\"\"\"\n",
    "SELECT * FROM merch_recom.interazioni_milano_2020\n",
    "\"\"\")"
   ]
  },
  {
   "cell_type": "code",
   "execution_count": 19,
   "metadata": {},
   "outputs": [],
   "source": [
    "df = df[:10000]"
   ]
  },
  {
   "cell_type": "code",
   "execution_count": 20,
   "metadata": {},
   "outputs": [],
   "source": [
    "expl, id_car, nm_nome_cleaned = data_processing.cross_tab(df)\n",
    "train, test = train_test_split.train_val_split(expl)"
   ]
  },
  {
   "cell_type": "code",
   "execution_count": 21,
   "metadata": {},
   "outputs": [
    {
     "data": {
      "text/plain": [
       "(6078, 719)"
      ]
     },
     "execution_count": 21,
     "metadata": {},
     "output_type": "execute_result"
    }
   ],
   "source": [
    "expl.shape"
   ]
  },
  {
   "cell_type": "code",
   "execution_count": 57,
   "metadata": {},
   "outputs": [],
   "source": [
    "# model = hpf_vi()\n",
    "# model.fit(train,100)"
   ]
  },
  {
   "cell_type": "code",
   "execution_count": 23,
   "metadata": {},
   "outputs": [],
   "source": [
    "model.predicted = model.predicted / model.predicted.max()"
   ]
  },
  {
   "cell_type": "code",
   "execution_count": 24,
   "metadata": {},
   "outputs": [],
   "source": [
    "predicted_interactions = pd.DataFrame(model.predicted)"
   ]
  },
  {
   "cell_type": "code",
   "execution_count": 25,
   "metadata": {},
   "outputs": [],
   "source": [
    "predicted_interactions.columns = nm_nome_cleaned"
   ]
  },
  {
   "cell_type": "code",
   "execution_count": 26,
   "metadata": {},
   "outputs": [],
   "source": [
    "predicted_interactions.index = id_car"
   ]
  },
  {
   "cell_type": "markdown",
   "metadata": {},
   "source": [
    "### Output\n",
    "\n",
    "L'output del modello è una matrice di scores."
   ]
  },
  {
   "cell_type": "code",
   "execution_count": 27,
   "metadata": {},
   "outputs": [
    {
     "data": {
      "text/html": [
       "<div>\n",
       "<style scoped>\n",
       "    .dataframe tbody tr th:only-of-type {\n",
       "        vertical-align: middle;\n",
       "    }\n",
       "\n",
       "    .dataframe tbody tr th {\n",
       "        vertical-align: top;\n",
       "    }\n",
       "\n",
       "    .dataframe thead th {\n",
       "        text-align: right;\n",
       "    }\n",
       "</style>\n",
       "<table border=\"1\" class=\"dataframe\">\n",
       "  <thead>\n",
       "    <tr style=\"text-align: right;\">\n",
       "      <th></th>\n",
       "      <th>ABBIGLIAMEN</th>\n",
       "      <th>AC MILAN</th>\n",
       "      <th>ACQUISTO</th>\n",
       "      <th>ACQUISTO ANTEO</th>\n",
       "      <th>ACQUISTO ONLINE</th>\n",
       "      <th>ADIDASITALY</th>\n",
       "      <th>ADSUPERCARS</th>\n",
       "      <th>AGOSDU</th>\n",
       "      <th>ALDO COPPOLA</th>\n",
       "      <th>ALESSI</th>\n",
       "      <th>...</th>\n",
       "      <th>WYCONCOSMETICSCOM</th>\n",
       "      <th>XENIA</th>\n",
       "      <th>YAMAMAY</th>\n",
       "      <th>YAP RICARICA</th>\n",
       "      <th>YAP RICARICA CLICK</th>\n",
       "      <th>YELLOWTAXMU</th>\n",
       "      <th>YOUFIT</th>\n",
       "      <th>YVES ROCHER</th>\n",
       "      <th>ZARA</th>\n",
       "      <th>ZERO ITALY</th>\n",
       "    </tr>\n",
       "  </thead>\n",
       "  <tbody>\n",
       "    <tr>\n",
       "      <th>B6DD772CF0D9808FA6BBC30D63DD17A3</th>\n",
       "      <td>0.000008</td>\n",
       "      <td>0.000082</td>\n",
       "      <td>0.000016</td>\n",
       "      <td>0.000011</td>\n",
       "      <td>0.000007</td>\n",
       "      <td>0.000093</td>\n",
       "      <td>0.000007</td>\n",
       "      <td>0.000007</td>\n",
       "      <td>0.000008</td>\n",
       "      <td>0.000008</td>\n",
       "      <td>...</td>\n",
       "      <td>0.000008</td>\n",
       "      <td>0.000040</td>\n",
       "      <td>0.000022</td>\n",
       "      <td>0.000026</td>\n",
       "      <td>0.000011</td>\n",
       "      <td>0.000014</td>\n",
       "      <td>0.000006</td>\n",
       "      <td>0.000008</td>\n",
       "      <td>0.000734</td>\n",
       "      <td>0.000007</td>\n",
       "    </tr>\n",
       "    <tr>\n",
       "      <th>B6DD77E990B366D9E5B924BDFC1FEC32</th>\n",
       "      <td>0.000030</td>\n",
       "      <td>0.000188</td>\n",
       "      <td>0.000033</td>\n",
       "      <td>0.000039</td>\n",
       "      <td>0.000033</td>\n",
       "      <td>0.000211</td>\n",
       "      <td>0.000032</td>\n",
       "      <td>0.000031</td>\n",
       "      <td>0.000033</td>\n",
       "      <td>0.000034</td>\n",
       "      <td>...</td>\n",
       "      <td>0.000033</td>\n",
       "      <td>0.000089</td>\n",
       "      <td>0.000059</td>\n",
       "      <td>0.000091</td>\n",
       "      <td>0.000041</td>\n",
       "      <td>0.000033</td>\n",
       "      <td>0.000030</td>\n",
       "      <td>0.000035</td>\n",
       "      <td>0.000239</td>\n",
       "      <td>0.000032</td>\n",
       "    </tr>\n",
       "    <tr>\n",
       "      <th>B6DD87DB2A0A0AC093051BE0C0F76131</th>\n",
       "      <td>0.000005</td>\n",
       "      <td>0.000071</td>\n",
       "      <td>0.000007</td>\n",
       "      <td>0.000010</td>\n",
       "      <td>0.000006</td>\n",
       "      <td>0.000081</td>\n",
       "      <td>0.000006</td>\n",
       "      <td>0.000006</td>\n",
       "      <td>0.000041</td>\n",
       "      <td>0.000007</td>\n",
       "      <td>...</td>\n",
       "      <td>0.000041</td>\n",
       "      <td>0.000035</td>\n",
       "      <td>0.000020</td>\n",
       "      <td>0.000010</td>\n",
       "      <td>0.000010</td>\n",
       "      <td>0.000007</td>\n",
       "      <td>0.000012</td>\n",
       "      <td>0.000007</td>\n",
       "      <td>0.000165</td>\n",
       "      <td>0.000006</td>\n",
       "    </tr>\n",
       "    <tr>\n",
       "      <th>B6DD97CC62F05D4B340BBFEA2B19F1B8</th>\n",
       "      <td>0.000003</td>\n",
       "      <td>0.000056</td>\n",
       "      <td>0.000005</td>\n",
       "      <td>0.000007</td>\n",
       "      <td>0.000004</td>\n",
       "      <td>0.000064</td>\n",
       "      <td>0.000004</td>\n",
       "      <td>0.000004</td>\n",
       "      <td>0.000013</td>\n",
       "      <td>0.000004</td>\n",
       "      <td>...</td>\n",
       "      <td>0.000013</td>\n",
       "      <td>0.000028</td>\n",
       "      <td>0.000015</td>\n",
       "      <td>0.000007</td>\n",
       "      <td>0.000007</td>\n",
       "      <td>0.000004</td>\n",
       "      <td>0.000005</td>\n",
       "      <td>0.000005</td>\n",
       "      <td>0.000148</td>\n",
       "      <td>0.000004</td>\n",
       "    </tr>\n",
       "    <tr>\n",
       "      <th>B6DD9F7DCEF9748C813B166645EF6795</th>\n",
       "      <td>0.000010</td>\n",
       "      <td>0.000107</td>\n",
       "      <td>0.000012</td>\n",
       "      <td>0.000016</td>\n",
       "      <td>0.000012</td>\n",
       "      <td>0.000121</td>\n",
       "      <td>0.000011</td>\n",
       "      <td>0.000011</td>\n",
       "      <td>0.000031</td>\n",
       "      <td>0.000012</td>\n",
       "      <td>...</td>\n",
       "      <td>0.000031</td>\n",
       "      <td>0.000051</td>\n",
       "      <td>0.000030</td>\n",
       "      <td>0.000017</td>\n",
       "      <td>0.000017</td>\n",
       "      <td>0.000012</td>\n",
       "      <td>0.000014</td>\n",
       "      <td>0.000013</td>\n",
       "      <td>0.000193</td>\n",
       "      <td>0.000012</td>\n",
       "    </tr>\n",
       "    <tr>\n",
       "      <th>...</th>\n",
       "      <td>...</td>\n",
       "      <td>...</td>\n",
       "      <td>...</td>\n",
       "      <td>...</td>\n",
       "      <td>...</td>\n",
       "      <td>...</td>\n",
       "      <td>...</td>\n",
       "      <td>...</td>\n",
       "      <td>...</td>\n",
       "      <td>...</td>\n",
       "      <td>...</td>\n",
       "      <td>...</td>\n",
       "      <td>...</td>\n",
       "      <td>...</td>\n",
       "      <td>...</td>\n",
       "      <td>...</td>\n",
       "      <td>...</td>\n",
       "      <td>...</td>\n",
       "      <td>...</td>\n",
       "      <td>...</td>\n",
       "      <td>...</td>\n",
       "    </tr>\n",
       "    <tr>\n",
       "      <th>F4D45ABF688893E3666B46C305C5B912</th>\n",
       "      <td>0.000004</td>\n",
       "      <td>0.000059</td>\n",
       "      <td>0.000005</td>\n",
       "      <td>0.000007</td>\n",
       "      <td>0.000004</td>\n",
       "      <td>0.000067</td>\n",
       "      <td>0.000004</td>\n",
       "      <td>0.000004</td>\n",
       "      <td>0.000005</td>\n",
       "      <td>0.000005</td>\n",
       "      <td>...</td>\n",
       "      <td>0.000005</td>\n",
       "      <td>0.000029</td>\n",
       "      <td>0.000016</td>\n",
       "      <td>0.000008</td>\n",
       "      <td>0.000007</td>\n",
       "      <td>0.000005</td>\n",
       "      <td>0.000003</td>\n",
       "      <td>0.000005</td>\n",
       "      <td>0.000151</td>\n",
       "      <td>0.000004</td>\n",
       "    </tr>\n",
       "    <tr>\n",
       "      <th>F4D462D0304A867F6906298C8EC77733</th>\n",
       "      <td>0.000005</td>\n",
       "      <td>0.000058</td>\n",
       "      <td>0.000012</td>\n",
       "      <td>0.000007</td>\n",
       "      <td>0.000004</td>\n",
       "      <td>0.000067</td>\n",
       "      <td>0.000004</td>\n",
       "      <td>0.000004</td>\n",
       "      <td>0.000005</td>\n",
       "      <td>0.000005</td>\n",
       "      <td>...</td>\n",
       "      <td>0.000005</td>\n",
       "      <td>0.000029</td>\n",
       "      <td>0.000016</td>\n",
       "      <td>0.000008</td>\n",
       "      <td>0.000007</td>\n",
       "      <td>0.000010</td>\n",
       "      <td>0.000003</td>\n",
       "      <td>0.000005</td>\n",
       "      <td>0.000643</td>\n",
       "      <td>0.000004</td>\n",
       "    </tr>\n",
       "    <tr>\n",
       "      <th>F4D463B0BD74735677368D0F26463861</th>\n",
       "      <td>0.000018</td>\n",
       "      <td>0.000089</td>\n",
       "      <td>0.000052</td>\n",
       "      <td>0.000013</td>\n",
       "      <td>0.000009</td>\n",
       "      <td>0.000101</td>\n",
       "      <td>0.000008</td>\n",
       "      <td>0.000008</td>\n",
       "      <td>0.000019</td>\n",
       "      <td>0.000009</td>\n",
       "      <td>...</td>\n",
       "      <td>0.000019</td>\n",
       "      <td>0.000043</td>\n",
       "      <td>0.000025</td>\n",
       "      <td>0.000014</td>\n",
       "      <td>0.000013</td>\n",
       "      <td>0.000040</td>\n",
       "      <td>0.000009</td>\n",
       "      <td>0.000010</td>\n",
       "      <td>0.003065</td>\n",
       "      <td>0.000009</td>\n",
       "    </tr>\n",
       "    <tr>\n",
       "      <th>F4D465E14137E8A491D4975A1BC4D1BB</th>\n",
       "      <td>0.000003</td>\n",
       "      <td>0.000056</td>\n",
       "      <td>0.000005</td>\n",
       "      <td>0.000007</td>\n",
       "      <td>0.000004</td>\n",
       "      <td>0.000064</td>\n",
       "      <td>0.000004</td>\n",
       "      <td>0.000004</td>\n",
       "      <td>0.000013</td>\n",
       "      <td>0.000004</td>\n",
       "      <td>...</td>\n",
       "      <td>0.000013</td>\n",
       "      <td>0.000028</td>\n",
       "      <td>0.000015</td>\n",
       "      <td>0.000007</td>\n",
       "      <td>0.000007</td>\n",
       "      <td>0.000004</td>\n",
       "      <td>0.000005</td>\n",
       "      <td>0.000005</td>\n",
       "      <td>0.000148</td>\n",
       "      <td>0.000004</td>\n",
       "    </tr>\n",
       "    <tr>\n",
       "      <th>F4D490FAB4BF935DE5FF51404409E7FE</th>\n",
       "      <td>0.000005</td>\n",
       "      <td>0.000069</td>\n",
       "      <td>0.000006</td>\n",
       "      <td>0.000009</td>\n",
       "      <td>0.000009</td>\n",
       "      <td>0.000078</td>\n",
       "      <td>0.000005</td>\n",
       "      <td>0.000005</td>\n",
       "      <td>0.000007</td>\n",
       "      <td>0.000006</td>\n",
       "      <td>...</td>\n",
       "      <td>0.000007</td>\n",
       "      <td>0.000034</td>\n",
       "      <td>0.000019</td>\n",
       "      <td>0.000015</td>\n",
       "      <td>0.000009</td>\n",
       "      <td>0.000006</td>\n",
       "      <td>0.000004</td>\n",
       "      <td>0.000015</td>\n",
       "      <td>0.000162</td>\n",
       "      <td>0.000009</td>\n",
       "    </tr>\n",
       "  </tbody>\n",
       "</table>\n",
       "<p>6078 rows × 719 columns</p>\n",
       "</div>"
      ],
      "text/plain": [
       "                                  ABBIGLIAMEN  AC MILAN  ACQUISTO  \\\n",
       "B6DD772CF0D9808FA6BBC30D63DD17A3     0.000008  0.000082  0.000016   \n",
       "B6DD77E990B366D9E5B924BDFC1FEC32     0.000030  0.000188  0.000033   \n",
       "B6DD87DB2A0A0AC093051BE0C0F76131     0.000005  0.000071  0.000007   \n",
       "B6DD97CC62F05D4B340BBFEA2B19F1B8     0.000003  0.000056  0.000005   \n",
       "B6DD9F7DCEF9748C813B166645EF6795     0.000010  0.000107  0.000012   \n",
       "...                                       ...       ...       ...   \n",
       "F4D45ABF688893E3666B46C305C5B912     0.000004  0.000059  0.000005   \n",
       "F4D462D0304A867F6906298C8EC77733     0.000005  0.000058  0.000012   \n",
       "F4D463B0BD74735677368D0F26463861     0.000018  0.000089  0.000052   \n",
       "F4D465E14137E8A491D4975A1BC4D1BB     0.000003  0.000056  0.000005   \n",
       "F4D490FAB4BF935DE5FF51404409E7FE     0.000005  0.000069  0.000006   \n",
       "\n",
       "                                  ACQUISTO ANTEO  ACQUISTO ONLINE  \\\n",
       "B6DD772CF0D9808FA6BBC30D63DD17A3        0.000011         0.000007   \n",
       "B6DD77E990B366D9E5B924BDFC1FEC32        0.000039         0.000033   \n",
       "B6DD87DB2A0A0AC093051BE0C0F76131        0.000010         0.000006   \n",
       "B6DD97CC62F05D4B340BBFEA2B19F1B8        0.000007         0.000004   \n",
       "B6DD9F7DCEF9748C813B166645EF6795        0.000016         0.000012   \n",
       "...                                          ...              ...   \n",
       "F4D45ABF688893E3666B46C305C5B912        0.000007         0.000004   \n",
       "F4D462D0304A867F6906298C8EC77733        0.000007         0.000004   \n",
       "F4D463B0BD74735677368D0F26463861        0.000013         0.000009   \n",
       "F4D465E14137E8A491D4975A1BC4D1BB        0.000007         0.000004   \n",
       "F4D490FAB4BF935DE5FF51404409E7FE        0.000009         0.000009   \n",
       "\n",
       "                                  ADIDASITALY  ADSUPERCARS    AGOSDU  \\\n",
       "B6DD772CF0D9808FA6BBC30D63DD17A3     0.000093     0.000007  0.000007   \n",
       "B6DD77E990B366D9E5B924BDFC1FEC32     0.000211     0.000032  0.000031   \n",
       "B6DD87DB2A0A0AC093051BE0C0F76131     0.000081     0.000006  0.000006   \n",
       "B6DD97CC62F05D4B340BBFEA2B19F1B8     0.000064     0.000004  0.000004   \n",
       "B6DD9F7DCEF9748C813B166645EF6795     0.000121     0.000011  0.000011   \n",
       "...                                       ...          ...       ...   \n",
       "F4D45ABF688893E3666B46C305C5B912     0.000067     0.000004  0.000004   \n",
       "F4D462D0304A867F6906298C8EC77733     0.000067     0.000004  0.000004   \n",
       "F4D463B0BD74735677368D0F26463861     0.000101     0.000008  0.000008   \n",
       "F4D465E14137E8A491D4975A1BC4D1BB     0.000064     0.000004  0.000004   \n",
       "F4D490FAB4BF935DE5FF51404409E7FE     0.000078     0.000005  0.000005   \n",
       "\n",
       "                                  ALDO COPPOLA    ALESSI  ...  \\\n",
       "B6DD772CF0D9808FA6BBC30D63DD17A3      0.000008  0.000008  ...   \n",
       "B6DD77E990B366D9E5B924BDFC1FEC32      0.000033  0.000034  ...   \n",
       "B6DD87DB2A0A0AC093051BE0C0F76131      0.000041  0.000007  ...   \n",
       "B6DD97CC62F05D4B340BBFEA2B19F1B8      0.000013  0.000004  ...   \n",
       "B6DD9F7DCEF9748C813B166645EF6795      0.000031  0.000012  ...   \n",
       "...                                        ...       ...  ...   \n",
       "F4D45ABF688893E3666B46C305C5B912      0.000005  0.000005  ...   \n",
       "F4D462D0304A867F6906298C8EC77733      0.000005  0.000005  ...   \n",
       "F4D463B0BD74735677368D0F26463861      0.000019  0.000009  ...   \n",
       "F4D465E14137E8A491D4975A1BC4D1BB      0.000013  0.000004  ...   \n",
       "F4D490FAB4BF935DE5FF51404409E7FE      0.000007  0.000006  ...   \n",
       "\n",
       "                                  WYCONCOSMETICSCOM     XENIA   YAMAMAY  \\\n",
       "B6DD772CF0D9808FA6BBC30D63DD17A3           0.000008  0.000040  0.000022   \n",
       "B6DD77E990B366D9E5B924BDFC1FEC32           0.000033  0.000089  0.000059   \n",
       "B6DD87DB2A0A0AC093051BE0C0F76131           0.000041  0.000035  0.000020   \n",
       "B6DD97CC62F05D4B340BBFEA2B19F1B8           0.000013  0.000028  0.000015   \n",
       "B6DD9F7DCEF9748C813B166645EF6795           0.000031  0.000051  0.000030   \n",
       "...                                             ...       ...       ...   \n",
       "F4D45ABF688893E3666B46C305C5B912           0.000005  0.000029  0.000016   \n",
       "F4D462D0304A867F6906298C8EC77733           0.000005  0.000029  0.000016   \n",
       "F4D463B0BD74735677368D0F26463861           0.000019  0.000043  0.000025   \n",
       "F4D465E14137E8A491D4975A1BC4D1BB           0.000013  0.000028  0.000015   \n",
       "F4D490FAB4BF935DE5FF51404409E7FE           0.000007  0.000034  0.000019   \n",
       "\n",
       "                                  YAP RICARICA  YAP RICARICA CLICK  \\\n",
       "B6DD772CF0D9808FA6BBC30D63DD17A3      0.000026            0.000011   \n",
       "B6DD77E990B366D9E5B924BDFC1FEC32      0.000091            0.000041   \n",
       "B6DD87DB2A0A0AC093051BE0C0F76131      0.000010            0.000010   \n",
       "B6DD97CC62F05D4B340BBFEA2B19F1B8      0.000007            0.000007   \n",
       "B6DD9F7DCEF9748C813B166645EF6795      0.000017            0.000017   \n",
       "...                                        ...                 ...   \n",
       "F4D45ABF688893E3666B46C305C5B912      0.000008            0.000007   \n",
       "F4D462D0304A867F6906298C8EC77733      0.000008            0.000007   \n",
       "F4D463B0BD74735677368D0F26463861      0.000014            0.000013   \n",
       "F4D465E14137E8A491D4975A1BC4D1BB      0.000007            0.000007   \n",
       "F4D490FAB4BF935DE5FF51404409E7FE      0.000015            0.000009   \n",
       "\n",
       "                                  YELLOWTAXMU    YOUFIT  YVES ROCHER  \\\n",
       "B6DD772CF0D9808FA6BBC30D63DD17A3     0.000014  0.000006     0.000008   \n",
       "B6DD77E990B366D9E5B924BDFC1FEC32     0.000033  0.000030     0.000035   \n",
       "B6DD87DB2A0A0AC093051BE0C0F76131     0.000007  0.000012     0.000007   \n",
       "B6DD97CC62F05D4B340BBFEA2B19F1B8     0.000004  0.000005     0.000005   \n",
       "B6DD9F7DCEF9748C813B166645EF6795     0.000012  0.000014     0.000013   \n",
       "...                                       ...       ...          ...   \n",
       "F4D45ABF688893E3666B46C305C5B912     0.000005  0.000003     0.000005   \n",
       "F4D462D0304A867F6906298C8EC77733     0.000010  0.000003     0.000005   \n",
       "F4D463B0BD74735677368D0F26463861     0.000040  0.000009     0.000010   \n",
       "F4D465E14137E8A491D4975A1BC4D1BB     0.000004  0.000005     0.000005   \n",
       "F4D490FAB4BF935DE5FF51404409E7FE     0.000006  0.000004     0.000015   \n",
       "\n",
       "                                      ZARA  ZERO ITALY  \n",
       "B6DD772CF0D9808FA6BBC30D63DD17A3  0.000734    0.000007  \n",
       "B6DD77E990B366D9E5B924BDFC1FEC32  0.000239    0.000032  \n",
       "B6DD87DB2A0A0AC093051BE0C0F76131  0.000165    0.000006  \n",
       "B6DD97CC62F05D4B340BBFEA2B19F1B8  0.000148    0.000004  \n",
       "B6DD9F7DCEF9748C813B166645EF6795  0.000193    0.000012  \n",
       "...                                    ...         ...  \n",
       "F4D45ABF688893E3666B46C305C5B912  0.000151    0.000004  \n",
       "F4D462D0304A867F6906298C8EC77733  0.000643    0.000004  \n",
       "F4D463B0BD74735677368D0F26463861  0.003065    0.000009  \n",
       "F4D465E14137E8A491D4975A1BC4D1BB  0.000148    0.000004  \n",
       "F4D490FAB4BF935DE5FF51404409E7FE  0.000162    0.000009  \n",
       "\n",
       "[6078 rows x 719 columns]"
      ]
     },
     "execution_count": 27,
     "metadata": {},
     "output_type": "execute_result"
    }
   ],
   "source": [
    "predicted_interactions"
   ]
  },
  {
   "cell_type": "markdown",
   "metadata": {},
   "source": [
    "### Esempi\n",
    "\n",
    "Una volta allenato il modello, abbiamo a disposizione un vettore di score per ciascuna carta in analisi.\n",
    "\n",
    "Ad esempio, per la prima carta nel dataset, abbiamo i seguenti score:"
   ]
  },
  {
   "cell_type": "code",
   "execution_count": 44,
   "metadata": {},
   "outputs": [],
   "source": [
    "pr_int = predicted_interactions.iloc[0,:][predicted_interactions.iloc[0,:]>0.00005] * 1000"
   ]
  },
  {
   "cell_type": "code",
   "execution_count": 49,
   "metadata": {},
   "outputs": [
    {
     "data": {
      "application/vnd.plotly.v1+json": {
       "config": {
        "linkText": "Export to plot.ly",
        "plotlyServerURL": "https://plot.ly",
        "showLink": false
       },
       "data": [
        {
         "name": "Merchant",
         "type": "bar",
         "x": [
          "AC MILAN",
          "ADIDASITALY",
          "ALTROCONSUNO EDIZIONI",
          "ALTROCONSUNO EDIZIONI REC",
          "CENTRO MEDICO",
          "CONIO",
          "DECATHLONIT",
          "DELIVEROO",
          "EASYPOLNEXIBOLLETTINIP",
          "EB",
          "EDISON ENERGIA",
          "FASTWEB",
          "FASTWEB SPARICARICHE",
          "FASTWEB SPARICARICHE WEB",
          "GENIALLOYD",
          "HOMOBILEIT RICARICA",
          "HTTPS PORTALEASSIGECO",
          "INTERNET BOOKSHOP ITAL",
          "LAFELTRINELLI INTERNE",
          "LIBRACCIO",
          "LIBRACCIO IT",
          "LVMH ITALIA",
          "METAXY",
          "NEXI PAGAMENTI PAGOPA",
          "PAGANTIS",
          "PAGONLINE IMPRESA SEMP",
          "PETITBATEAU",
          "PUNTOFASLMA",
          "RCS",
          "REFORME",
          "RIC ONLINE WINDTRE",
          "RICARICA YAP",
          "SEPHORA",
          "SEPHORAIT",
          "SKY PAGAMENTO CANONI S",
          "SKY PAGAMENTO CANONI SCAD",
          "SOCIETA E SALUTE",
          "SUPERMERCA SUPERMERCA",
          "TICKETONE",
          "TICKETONESP",
          "TIM ITALIA",
          "TRENORD",
          "VODAFONEIT RICARICA CLI",
          "VODAFONEIT RICARICA ONLI",
          "VORWERK ITALIA",
          "WWWABBONAMENTIIT",
          "WWWDECATHLONCOM",
          "WWWDOMINOSITALIAIT",
          "WWWFACILEIT",
          "WWWFASTWEBIT",
          "WWWGENIALLOYDIT",
          "WWWMARSHIT",
          "WWWMONDADORISTOREIT",
          "WWWPASSIONEUNGHIEIT",
          "WWWPROGETTOARCAORG",
          "WWWSUSHISHOPIT",
          "WWWUNOMOBILEIT",
          "WWWVENTISIT",
          "ZARA"
         ],
         "y": [
          0.08155213471472492,
          0.09263904392233069,
          0.09708528548806368,
          0.13856793974760728,
          0.05038528405593892,
          0.09365539026818945,
          0.211423643811282,
          0.5718480391415709,
          0.09123937660779231,
          0.0704646304365821,
          0.3481346632426684,
          0.5606957189291947,
          0.054403901651858586,
          0.12138761549019497,
          0.3993373213970642,
          0.6442408488428863,
          0.050645517004233975,
          1.3734280442501088,
          0.05557349040722077,
          0.07383179808495971,
          0.21704440423478097,
          0.09368555418379136,
          0.09125128605428424,
          2.445855718125077,
          0.17141343198748613,
          0.09080442921864249,
          0.055548505890033635,
          0.1663601466974528,
          0.07461483507287484,
          0.09617052207742534,
          0.6045549039613423,
          0.21292971818431933,
          0.09270549419400186,
          0.06582069110312314,
          0.11710883371028616,
          0.08265219032050848,
          0.5252180944275592,
          0.09940232396857027,
          0.07594515453413145,
          0.14829898537558167,
          8.227478566669296,
          0.3510824796411551,
          6.057787189209973,
          1.2044378176715034,
          0.08552642016108944,
          0.1464327700177481,
          1.0660469742504493,
          0.05649429313620922,
          0.0965153395267504,
          0.14075071482578358,
          0.48799465250719953,
          0.06358011477944699,
          0.4036878735266107,
          0.14940517719733845,
          0.06630207126413712,
          0.0707565783792119,
          0.1660946496411875,
          0.07573822505277741,
          0.7344288699276393
         ]
        }
       ],
       "layout": {
        "barmode": "stack",
        "template": {
         "data": {
          "bar": [
           {
            "error_x": {
             "color": "#2a3f5f"
            },
            "error_y": {
             "color": "#2a3f5f"
            },
            "marker": {
             "line": {
              "color": "#E5ECF6",
              "width": 0.5
             }
            },
            "type": "bar"
           }
          ],
          "barpolar": [
           {
            "marker": {
             "line": {
              "color": "#E5ECF6",
              "width": 0.5
             }
            },
            "type": "barpolar"
           }
          ],
          "carpet": [
           {
            "aaxis": {
             "endlinecolor": "#2a3f5f",
             "gridcolor": "white",
             "linecolor": "white",
             "minorgridcolor": "white",
             "startlinecolor": "#2a3f5f"
            },
            "baxis": {
             "endlinecolor": "#2a3f5f",
             "gridcolor": "white",
             "linecolor": "white",
             "minorgridcolor": "white",
             "startlinecolor": "#2a3f5f"
            },
            "type": "carpet"
           }
          ],
          "choropleth": [
           {
            "colorbar": {
             "outlinewidth": 0,
             "ticks": ""
            },
            "type": "choropleth"
           }
          ],
          "contour": [
           {
            "colorbar": {
             "outlinewidth": 0,
             "ticks": ""
            },
            "colorscale": [
             [
              0,
              "#0d0887"
             ],
             [
              0.1111111111111111,
              "#46039f"
             ],
             [
              0.2222222222222222,
              "#7201a8"
             ],
             [
              0.3333333333333333,
              "#9c179e"
             ],
             [
              0.4444444444444444,
              "#bd3786"
             ],
             [
              0.5555555555555556,
              "#d8576b"
             ],
             [
              0.6666666666666666,
              "#ed7953"
             ],
             [
              0.7777777777777778,
              "#fb9f3a"
             ],
             [
              0.8888888888888888,
              "#fdca26"
             ],
             [
              1,
              "#f0f921"
             ]
            ],
            "type": "contour"
           }
          ],
          "contourcarpet": [
           {
            "colorbar": {
             "outlinewidth": 0,
             "ticks": ""
            },
            "type": "contourcarpet"
           }
          ],
          "heatmap": [
           {
            "colorbar": {
             "outlinewidth": 0,
             "ticks": ""
            },
            "colorscale": [
             [
              0,
              "#0d0887"
             ],
             [
              0.1111111111111111,
              "#46039f"
             ],
             [
              0.2222222222222222,
              "#7201a8"
             ],
             [
              0.3333333333333333,
              "#9c179e"
             ],
             [
              0.4444444444444444,
              "#bd3786"
             ],
             [
              0.5555555555555556,
              "#d8576b"
             ],
             [
              0.6666666666666666,
              "#ed7953"
             ],
             [
              0.7777777777777778,
              "#fb9f3a"
             ],
             [
              0.8888888888888888,
              "#fdca26"
             ],
             [
              1,
              "#f0f921"
             ]
            ],
            "type": "heatmap"
           }
          ],
          "heatmapgl": [
           {
            "colorbar": {
             "outlinewidth": 0,
             "ticks": ""
            },
            "colorscale": [
             [
              0,
              "#0d0887"
             ],
             [
              0.1111111111111111,
              "#46039f"
             ],
             [
              0.2222222222222222,
              "#7201a8"
             ],
             [
              0.3333333333333333,
              "#9c179e"
             ],
             [
              0.4444444444444444,
              "#bd3786"
             ],
             [
              0.5555555555555556,
              "#d8576b"
             ],
             [
              0.6666666666666666,
              "#ed7953"
             ],
             [
              0.7777777777777778,
              "#fb9f3a"
             ],
             [
              0.8888888888888888,
              "#fdca26"
             ],
             [
              1,
              "#f0f921"
             ]
            ],
            "type": "heatmapgl"
           }
          ],
          "histogram": [
           {
            "marker": {
             "colorbar": {
              "outlinewidth": 0,
              "ticks": ""
             }
            },
            "type": "histogram"
           }
          ],
          "histogram2d": [
           {
            "colorbar": {
             "outlinewidth": 0,
             "ticks": ""
            },
            "colorscale": [
             [
              0,
              "#0d0887"
             ],
             [
              0.1111111111111111,
              "#46039f"
             ],
             [
              0.2222222222222222,
              "#7201a8"
             ],
             [
              0.3333333333333333,
              "#9c179e"
             ],
             [
              0.4444444444444444,
              "#bd3786"
             ],
             [
              0.5555555555555556,
              "#d8576b"
             ],
             [
              0.6666666666666666,
              "#ed7953"
             ],
             [
              0.7777777777777778,
              "#fb9f3a"
             ],
             [
              0.8888888888888888,
              "#fdca26"
             ],
             [
              1,
              "#f0f921"
             ]
            ],
            "type": "histogram2d"
           }
          ],
          "histogram2dcontour": [
           {
            "colorbar": {
             "outlinewidth": 0,
             "ticks": ""
            },
            "colorscale": [
             [
              0,
              "#0d0887"
             ],
             [
              0.1111111111111111,
              "#46039f"
             ],
             [
              0.2222222222222222,
              "#7201a8"
             ],
             [
              0.3333333333333333,
              "#9c179e"
             ],
             [
              0.4444444444444444,
              "#bd3786"
             ],
             [
              0.5555555555555556,
              "#d8576b"
             ],
             [
              0.6666666666666666,
              "#ed7953"
             ],
             [
              0.7777777777777778,
              "#fb9f3a"
             ],
             [
              0.8888888888888888,
              "#fdca26"
             ],
             [
              1,
              "#f0f921"
             ]
            ],
            "type": "histogram2dcontour"
           }
          ],
          "mesh3d": [
           {
            "colorbar": {
             "outlinewidth": 0,
             "ticks": ""
            },
            "type": "mesh3d"
           }
          ],
          "parcoords": [
           {
            "line": {
             "colorbar": {
              "outlinewidth": 0,
              "ticks": ""
             }
            },
            "type": "parcoords"
           }
          ],
          "pie": [
           {
            "automargin": true,
            "type": "pie"
           }
          ],
          "scatter": [
           {
            "marker": {
             "colorbar": {
              "outlinewidth": 0,
              "ticks": ""
             }
            },
            "type": "scatter"
           }
          ],
          "scatter3d": [
           {
            "line": {
             "colorbar": {
              "outlinewidth": 0,
              "ticks": ""
             }
            },
            "marker": {
             "colorbar": {
              "outlinewidth": 0,
              "ticks": ""
             }
            },
            "type": "scatter3d"
           }
          ],
          "scattercarpet": [
           {
            "marker": {
             "colorbar": {
              "outlinewidth": 0,
              "ticks": ""
             }
            },
            "type": "scattercarpet"
           }
          ],
          "scattergeo": [
           {
            "marker": {
             "colorbar": {
              "outlinewidth": 0,
              "ticks": ""
             }
            },
            "type": "scattergeo"
           }
          ],
          "scattergl": [
           {
            "marker": {
             "colorbar": {
              "outlinewidth": 0,
              "ticks": ""
             }
            },
            "type": "scattergl"
           }
          ],
          "scattermapbox": [
           {
            "marker": {
             "colorbar": {
              "outlinewidth": 0,
              "ticks": ""
             }
            },
            "type": "scattermapbox"
           }
          ],
          "scatterpolar": [
           {
            "marker": {
             "colorbar": {
              "outlinewidth": 0,
              "ticks": ""
             }
            },
            "type": "scatterpolar"
           }
          ],
          "scatterpolargl": [
           {
            "marker": {
             "colorbar": {
              "outlinewidth": 0,
              "ticks": ""
             }
            },
            "type": "scatterpolargl"
           }
          ],
          "scatterternary": [
           {
            "marker": {
             "colorbar": {
              "outlinewidth": 0,
              "ticks": ""
             }
            },
            "type": "scatterternary"
           }
          ],
          "surface": [
           {
            "colorbar": {
             "outlinewidth": 0,
             "ticks": ""
            },
            "colorscale": [
             [
              0,
              "#0d0887"
             ],
             [
              0.1111111111111111,
              "#46039f"
             ],
             [
              0.2222222222222222,
              "#7201a8"
             ],
             [
              0.3333333333333333,
              "#9c179e"
             ],
             [
              0.4444444444444444,
              "#bd3786"
             ],
             [
              0.5555555555555556,
              "#d8576b"
             ],
             [
              0.6666666666666666,
              "#ed7953"
             ],
             [
              0.7777777777777778,
              "#fb9f3a"
             ],
             [
              0.8888888888888888,
              "#fdca26"
             ],
             [
              1,
              "#f0f921"
             ]
            ],
            "type": "surface"
           }
          ],
          "table": [
           {
            "cells": {
             "fill": {
              "color": "#EBF0F8"
             },
             "line": {
              "color": "white"
             }
            },
            "header": {
             "fill": {
              "color": "#C8D4E3"
             },
             "line": {
              "color": "white"
             }
            },
            "type": "table"
           }
          ]
         },
         "layout": {
          "annotationdefaults": {
           "arrowcolor": "#2a3f5f",
           "arrowhead": 0,
           "arrowwidth": 1
          },
          "coloraxis": {
           "colorbar": {
            "outlinewidth": 0,
            "ticks": ""
           }
          },
          "colorscale": {
           "diverging": [
            [
             0,
             "#8e0152"
            ],
            [
             0.1,
             "#c51b7d"
            ],
            [
             0.2,
             "#de77ae"
            ],
            [
             0.3,
             "#f1b6da"
            ],
            [
             0.4,
             "#fde0ef"
            ],
            [
             0.5,
             "#f7f7f7"
            ],
            [
             0.6,
             "#e6f5d0"
            ],
            [
             0.7,
             "#b8e186"
            ],
            [
             0.8,
             "#7fbc41"
            ],
            [
             0.9,
             "#4d9221"
            ],
            [
             1,
             "#276419"
            ]
           ],
           "sequential": [
            [
             0,
             "#0d0887"
            ],
            [
             0.1111111111111111,
             "#46039f"
            ],
            [
             0.2222222222222222,
             "#7201a8"
            ],
            [
             0.3333333333333333,
             "#9c179e"
            ],
            [
             0.4444444444444444,
             "#bd3786"
            ],
            [
             0.5555555555555556,
             "#d8576b"
            ],
            [
             0.6666666666666666,
             "#ed7953"
            ],
            [
             0.7777777777777778,
             "#fb9f3a"
            ],
            [
             0.8888888888888888,
             "#fdca26"
            ],
            [
             1,
             "#f0f921"
            ]
           ],
           "sequentialminus": [
            [
             0,
             "#0d0887"
            ],
            [
             0.1111111111111111,
             "#46039f"
            ],
            [
             0.2222222222222222,
             "#7201a8"
            ],
            [
             0.3333333333333333,
             "#9c179e"
            ],
            [
             0.4444444444444444,
             "#bd3786"
            ],
            [
             0.5555555555555556,
             "#d8576b"
            ],
            [
             0.6666666666666666,
             "#ed7953"
            ],
            [
             0.7777777777777778,
             "#fb9f3a"
            ],
            [
             0.8888888888888888,
             "#fdca26"
            ],
            [
             1,
             "#f0f921"
            ]
           ]
          },
          "colorway": [
           "#636efa",
           "#EF553B",
           "#00cc96",
           "#ab63fa",
           "#FFA15A",
           "#19d3f3",
           "#FF6692",
           "#B6E880",
           "#FF97FF",
           "#FECB52"
          ],
          "font": {
           "color": "#2a3f5f"
          },
          "geo": {
           "bgcolor": "white",
           "lakecolor": "white",
           "landcolor": "#E5ECF6",
           "showlakes": true,
           "showland": true,
           "subunitcolor": "white"
          },
          "hoverlabel": {
           "align": "left"
          },
          "hovermode": "closest",
          "mapbox": {
           "style": "light"
          },
          "paper_bgcolor": "white",
          "plot_bgcolor": "#E5ECF6",
          "polar": {
           "angularaxis": {
            "gridcolor": "white",
            "linecolor": "white",
            "ticks": ""
           },
           "bgcolor": "#E5ECF6",
           "radialaxis": {
            "gridcolor": "white",
            "linecolor": "white",
            "ticks": ""
           }
          },
          "scene": {
           "xaxis": {
            "backgroundcolor": "#E5ECF6",
            "gridcolor": "white",
            "gridwidth": 2,
            "linecolor": "white",
            "showbackground": true,
            "ticks": "",
            "zerolinecolor": "white"
           },
           "yaxis": {
            "backgroundcolor": "#E5ECF6",
            "gridcolor": "white",
            "gridwidth": 2,
            "linecolor": "white",
            "showbackground": true,
            "ticks": "",
            "zerolinecolor": "white"
           },
           "zaxis": {
            "backgroundcolor": "#E5ECF6",
            "gridcolor": "white",
            "gridwidth": 2,
            "linecolor": "white",
            "showbackground": true,
            "ticks": "",
            "zerolinecolor": "white"
           }
          },
          "shapedefaults": {
           "line": {
            "color": "#2a3f5f"
           }
          },
          "ternary": {
           "aaxis": {
            "gridcolor": "white",
            "linecolor": "white",
            "ticks": ""
           },
           "baxis": {
            "gridcolor": "white",
            "linecolor": "white",
            "ticks": ""
           },
           "bgcolor": "#E5ECF6",
           "caxis": {
            "gridcolor": "white",
            "linecolor": "white",
            "ticks": ""
           }
          },
          "title": {
           "x": 0.05
          },
          "xaxis": {
           "automargin": true,
           "gridcolor": "white",
           "linecolor": "white",
           "ticks": "",
           "title": {
            "standoff": 15
           },
           "zerolinecolor": "white",
           "zerolinewidth": 2
          },
          "yaxis": {
           "automargin": true,
           "gridcolor": "white",
           "linecolor": "white",
           "ticks": "",
           "title": {
            "standoff": 15
           },
           "zerolinecolor": "white",
           "zerolinewidth": 2
          }
         }
        },
        "title": {
         "text": "Coefficienti di affinità (score) su merchant e-commerce"
        },
        "xaxis": {
         "title": {
          "text": "Merchant"
         }
        },
        "yaxis": {
         "title": {
          "text": "Score"
         }
        }
       }
      },
      "text/html": [
       "<div>                            <div id=\"0f0930f4-5ca7-458d-8a77-df3d3d29a323\" class=\"plotly-graph-div\" style=\"height:525px; width:100%;\"></div>            <script type=\"text/javascript\">                require([\"plotly\"], function(Plotly) {                    window.PLOTLYENV=window.PLOTLYENV || {};                                    if (document.getElementById(\"0f0930f4-5ca7-458d-8a77-df3d3d29a323\")) {                    Plotly.newPlot(                        \"0f0930f4-5ca7-458d-8a77-df3d3d29a323\",                        [{\"name\": \"Merchant\", \"type\": \"bar\", \"x\": [\"AC MILAN\", \"ADIDASITALY\", \"ALTROCONSUNO EDIZIONI\", \"ALTROCONSUNO EDIZIONI REC\", \"CENTRO MEDICO\", \"CONIO\", \"DECATHLONIT\", \"DELIVEROO\", \"EASYPOLNEXIBOLLETTINIP\", \"EB\", \"EDISON ENERGIA\", \"FASTWEB\", \"FASTWEB SPARICARICHE\", \"FASTWEB SPARICARICHE WEB\", \"GENIALLOYD\", \"HOMOBILEIT RICARICA\", \"HTTPS PORTALEASSIGECO\", \"INTERNET BOOKSHOP ITAL\", \"LAFELTRINELLI INTERNE\", \"LIBRACCIO\", \"LIBRACCIO IT\", \"LVMH ITALIA\", \"METAXY\", \"NEXI PAGAMENTI PAGOPA\", \"PAGANTIS\", \"PAGONLINE IMPRESA SEMP\", \"PETITBATEAU\", \"PUNTOFASLMA\", \"RCS\", \"REFORME\", \"RIC ONLINE WINDTRE\", \"RICARICA YAP\", \"SEPHORA\", \"SEPHORAIT\", \"SKY PAGAMENTO CANONI S\", \"SKY PAGAMENTO CANONI SCAD\", \"SOCIETA E SALUTE\", \"SUPERMERCA SUPERMERCA\", \"TICKETONE\", \"TICKETONESP\", \"TIM ITALIA\", \"TRENORD\", \"VODAFONEIT RICARICA CLI\", \"VODAFONEIT RICARICA ONLI\", \"VORWERK ITALIA\", \"WWWABBONAMENTIIT\", \"WWWDECATHLONCOM\", \"WWWDOMINOSITALIAIT\", \"WWWFACILEIT\", \"WWWFASTWEBIT\", \"WWWGENIALLOYDIT\", \"WWWMARSHIT\", \"WWWMONDADORISTOREIT\", \"WWWPASSIONEUNGHIEIT\", \"WWWPROGETTOARCAORG\", \"WWWSUSHISHOPIT\", \"WWWUNOMOBILEIT\", \"WWWVENTISIT\", \"ZARA\"], \"y\": [0.08155213471472492, 0.09263904392233069, 0.09708528548806368, 0.13856793974760728, 0.05038528405593892, 0.09365539026818945, 0.211423643811282, 0.5718480391415709, 0.09123937660779231, 0.0704646304365821, 0.3481346632426684, 0.5606957189291947, 0.054403901651858586, 0.12138761549019497, 0.3993373213970642, 0.6442408488428863, 0.050645517004233975, 1.3734280442501088, 0.05557349040722077, 0.07383179808495971, 0.21704440423478097, 0.09368555418379136, 0.09125128605428424, 2.445855718125077, 0.17141343198748613, 0.09080442921864249, 0.055548505890033635, 0.1663601466974528, 0.07461483507287484, 0.09617052207742534, 0.6045549039613423, 0.21292971818431933, 0.09270549419400186, 0.06582069110312314, 0.11710883371028616, 0.08265219032050848, 0.5252180944275592, 0.09940232396857027, 0.07594515453413145, 0.14829898537558167, 8.227478566669296, 0.3510824796411551, 6.057787189209973, 1.2044378176715034, 0.08552642016108944, 0.1464327700177481, 1.0660469742504493, 0.05649429313620922, 0.0965153395267504, 0.14075071482578358, 0.48799465250719953, 0.06358011477944699, 0.4036878735266107, 0.14940517719733845, 0.06630207126413712, 0.0707565783792119, 0.1660946496411875, 0.07573822505277741, 0.7344288699276393]}],                        {\"barmode\": \"stack\", \"template\": {\"data\": {\"bar\": [{\"error_x\": {\"color\": \"#2a3f5f\"}, \"error_y\": {\"color\": \"#2a3f5f\"}, \"marker\": {\"line\": {\"color\": \"#E5ECF6\", \"width\": 0.5}}, \"type\": \"bar\"}], \"barpolar\": [{\"marker\": {\"line\": {\"color\": \"#E5ECF6\", \"width\": 0.5}}, \"type\": \"barpolar\"}], \"carpet\": [{\"aaxis\": {\"endlinecolor\": \"#2a3f5f\", \"gridcolor\": \"white\", \"linecolor\": \"white\", \"minorgridcolor\": \"white\", \"startlinecolor\": \"#2a3f5f\"}, \"baxis\": {\"endlinecolor\": \"#2a3f5f\", \"gridcolor\": \"white\", \"linecolor\": \"white\", \"minorgridcolor\": \"white\", \"startlinecolor\": \"#2a3f5f\"}, \"type\": \"carpet\"}], \"choropleth\": [{\"colorbar\": {\"outlinewidth\": 0, \"ticks\": \"\"}, \"type\": \"choropleth\"}], \"contour\": [{\"colorbar\": {\"outlinewidth\": 0, \"ticks\": \"\"}, \"colorscale\": [[0.0, \"#0d0887\"], [0.1111111111111111, \"#46039f\"], [0.2222222222222222, \"#7201a8\"], [0.3333333333333333, \"#9c179e\"], [0.4444444444444444, \"#bd3786\"], [0.5555555555555556, \"#d8576b\"], [0.6666666666666666, \"#ed7953\"], [0.7777777777777778, \"#fb9f3a\"], [0.8888888888888888, \"#fdca26\"], [1.0, \"#f0f921\"]], \"type\": \"contour\"}], \"contourcarpet\": [{\"colorbar\": {\"outlinewidth\": 0, \"ticks\": \"\"}, \"type\": \"contourcarpet\"}], \"heatmap\": [{\"colorbar\": {\"outlinewidth\": 0, \"ticks\": \"\"}, \"colorscale\": [[0.0, \"#0d0887\"], [0.1111111111111111, \"#46039f\"], [0.2222222222222222, \"#7201a8\"], [0.3333333333333333, \"#9c179e\"], [0.4444444444444444, \"#bd3786\"], [0.5555555555555556, \"#d8576b\"], [0.6666666666666666, \"#ed7953\"], [0.7777777777777778, \"#fb9f3a\"], [0.8888888888888888, \"#fdca26\"], [1.0, \"#f0f921\"]], \"type\": \"heatmap\"}], \"heatmapgl\": [{\"colorbar\": {\"outlinewidth\": 0, \"ticks\": \"\"}, \"colorscale\": [[0.0, \"#0d0887\"], [0.1111111111111111, \"#46039f\"], [0.2222222222222222, \"#7201a8\"], [0.3333333333333333, \"#9c179e\"], [0.4444444444444444, \"#bd3786\"], [0.5555555555555556, \"#d8576b\"], [0.6666666666666666, \"#ed7953\"], [0.7777777777777778, \"#fb9f3a\"], [0.8888888888888888, \"#fdca26\"], [1.0, \"#f0f921\"]], \"type\": \"heatmapgl\"}], \"histogram\": [{\"marker\": {\"colorbar\": {\"outlinewidth\": 0, \"ticks\": \"\"}}, \"type\": \"histogram\"}], \"histogram2d\": [{\"colorbar\": {\"outlinewidth\": 0, \"ticks\": \"\"}, \"colorscale\": [[0.0, \"#0d0887\"], [0.1111111111111111, \"#46039f\"], [0.2222222222222222, \"#7201a8\"], [0.3333333333333333, \"#9c179e\"], [0.4444444444444444, \"#bd3786\"], [0.5555555555555556, \"#d8576b\"], [0.6666666666666666, \"#ed7953\"], [0.7777777777777778, \"#fb9f3a\"], [0.8888888888888888, \"#fdca26\"], [1.0, \"#f0f921\"]], \"type\": \"histogram2d\"}], \"histogram2dcontour\": [{\"colorbar\": {\"outlinewidth\": 0, \"ticks\": \"\"}, \"colorscale\": [[0.0, \"#0d0887\"], [0.1111111111111111, \"#46039f\"], [0.2222222222222222, \"#7201a8\"], [0.3333333333333333, \"#9c179e\"], [0.4444444444444444, \"#bd3786\"], [0.5555555555555556, \"#d8576b\"], [0.6666666666666666, \"#ed7953\"], [0.7777777777777778, \"#fb9f3a\"], [0.8888888888888888, \"#fdca26\"], [1.0, \"#f0f921\"]], \"type\": \"histogram2dcontour\"}], \"mesh3d\": [{\"colorbar\": {\"outlinewidth\": 0, \"ticks\": \"\"}, \"type\": \"mesh3d\"}], \"parcoords\": [{\"line\": {\"colorbar\": {\"outlinewidth\": 0, \"ticks\": \"\"}}, \"type\": \"parcoords\"}], \"pie\": [{\"automargin\": true, \"type\": \"pie\"}], \"scatter\": [{\"marker\": {\"colorbar\": {\"outlinewidth\": 0, \"ticks\": \"\"}}, \"type\": \"scatter\"}], \"scatter3d\": [{\"line\": {\"colorbar\": {\"outlinewidth\": 0, \"ticks\": \"\"}}, \"marker\": {\"colorbar\": {\"outlinewidth\": 0, \"ticks\": \"\"}}, \"type\": \"scatter3d\"}], \"scattercarpet\": [{\"marker\": {\"colorbar\": {\"outlinewidth\": 0, \"ticks\": \"\"}}, \"type\": \"scattercarpet\"}], \"scattergeo\": [{\"marker\": {\"colorbar\": {\"outlinewidth\": 0, \"ticks\": \"\"}}, \"type\": \"scattergeo\"}], \"scattergl\": [{\"marker\": {\"colorbar\": {\"outlinewidth\": 0, \"ticks\": \"\"}}, \"type\": \"scattergl\"}], \"scattermapbox\": [{\"marker\": {\"colorbar\": {\"outlinewidth\": 0, \"ticks\": \"\"}}, \"type\": \"scattermapbox\"}], \"scatterpolar\": [{\"marker\": {\"colorbar\": {\"outlinewidth\": 0, \"ticks\": \"\"}}, \"type\": \"scatterpolar\"}], \"scatterpolargl\": [{\"marker\": {\"colorbar\": {\"outlinewidth\": 0, \"ticks\": \"\"}}, \"type\": \"scatterpolargl\"}], \"scatterternary\": [{\"marker\": {\"colorbar\": {\"outlinewidth\": 0, \"ticks\": \"\"}}, \"type\": \"scatterternary\"}], \"surface\": [{\"colorbar\": {\"outlinewidth\": 0, \"ticks\": \"\"}, \"colorscale\": [[0.0, \"#0d0887\"], [0.1111111111111111, \"#46039f\"], [0.2222222222222222, \"#7201a8\"], [0.3333333333333333, \"#9c179e\"], [0.4444444444444444, \"#bd3786\"], [0.5555555555555556, \"#d8576b\"], [0.6666666666666666, \"#ed7953\"], [0.7777777777777778, \"#fb9f3a\"], [0.8888888888888888, \"#fdca26\"], [1.0, \"#f0f921\"]], \"type\": \"surface\"}], \"table\": [{\"cells\": {\"fill\": {\"color\": \"#EBF0F8\"}, \"line\": {\"color\": \"white\"}}, \"header\": {\"fill\": {\"color\": \"#C8D4E3\"}, \"line\": {\"color\": \"white\"}}, \"type\": \"table\"}]}, \"layout\": {\"annotationdefaults\": {\"arrowcolor\": \"#2a3f5f\", \"arrowhead\": 0, \"arrowwidth\": 1}, \"coloraxis\": {\"colorbar\": {\"outlinewidth\": 0, \"ticks\": \"\"}}, \"colorscale\": {\"diverging\": [[0, \"#8e0152\"], [0.1, \"#c51b7d\"], [0.2, \"#de77ae\"], [0.3, \"#f1b6da\"], [0.4, \"#fde0ef\"], [0.5, \"#f7f7f7\"], [0.6, \"#e6f5d0\"], [0.7, \"#b8e186\"], [0.8, \"#7fbc41\"], [0.9, \"#4d9221\"], [1, \"#276419\"]], \"sequential\": [[0.0, \"#0d0887\"], [0.1111111111111111, \"#46039f\"], [0.2222222222222222, \"#7201a8\"], [0.3333333333333333, \"#9c179e\"], [0.4444444444444444, \"#bd3786\"], [0.5555555555555556, \"#d8576b\"], [0.6666666666666666, \"#ed7953\"], [0.7777777777777778, \"#fb9f3a\"], [0.8888888888888888, \"#fdca26\"], [1.0, \"#f0f921\"]], \"sequentialminus\": [[0.0, \"#0d0887\"], [0.1111111111111111, \"#46039f\"], [0.2222222222222222, \"#7201a8\"], [0.3333333333333333, \"#9c179e\"], [0.4444444444444444, \"#bd3786\"], [0.5555555555555556, \"#d8576b\"], [0.6666666666666666, \"#ed7953\"], [0.7777777777777778, \"#fb9f3a\"], [0.8888888888888888, \"#fdca26\"], [1.0, \"#f0f921\"]]}, \"colorway\": [\"#636efa\", \"#EF553B\", \"#00cc96\", \"#ab63fa\", \"#FFA15A\", \"#19d3f3\", \"#FF6692\", \"#B6E880\", \"#FF97FF\", \"#FECB52\"], \"font\": {\"color\": \"#2a3f5f\"}, \"geo\": {\"bgcolor\": \"white\", \"lakecolor\": \"white\", \"landcolor\": \"#E5ECF6\", \"showlakes\": true, \"showland\": true, \"subunitcolor\": \"white\"}, \"hoverlabel\": {\"align\": \"left\"}, \"hovermode\": \"closest\", \"mapbox\": {\"style\": \"light\"}, \"paper_bgcolor\": \"white\", \"plot_bgcolor\": \"#E5ECF6\", \"polar\": {\"angularaxis\": {\"gridcolor\": \"white\", \"linecolor\": \"white\", \"ticks\": \"\"}, \"bgcolor\": \"#E5ECF6\", \"radialaxis\": {\"gridcolor\": \"white\", \"linecolor\": \"white\", \"ticks\": \"\"}}, \"scene\": {\"xaxis\": {\"backgroundcolor\": \"#E5ECF6\", \"gridcolor\": \"white\", \"gridwidth\": 2, \"linecolor\": \"white\", \"showbackground\": true, \"ticks\": \"\", \"zerolinecolor\": \"white\"}, \"yaxis\": {\"backgroundcolor\": \"#E5ECF6\", \"gridcolor\": \"white\", \"gridwidth\": 2, \"linecolor\": \"white\", \"showbackground\": true, \"ticks\": \"\", \"zerolinecolor\": \"white\"}, \"zaxis\": {\"backgroundcolor\": \"#E5ECF6\", \"gridcolor\": \"white\", \"gridwidth\": 2, \"linecolor\": \"white\", \"showbackground\": true, \"ticks\": \"\", \"zerolinecolor\": \"white\"}}, \"shapedefaults\": {\"line\": {\"color\": \"#2a3f5f\"}}, \"ternary\": {\"aaxis\": {\"gridcolor\": \"white\", \"linecolor\": \"white\", \"ticks\": \"\"}, \"baxis\": {\"gridcolor\": \"white\", \"linecolor\": \"white\", \"ticks\": \"\"}, \"bgcolor\": \"#E5ECF6\", \"caxis\": {\"gridcolor\": \"white\", \"linecolor\": \"white\", \"ticks\": \"\"}}, \"title\": {\"x\": 0.05}, \"xaxis\": {\"automargin\": true, \"gridcolor\": \"white\", \"linecolor\": \"white\", \"ticks\": \"\", \"title\": {\"standoff\": 15}, \"zerolinecolor\": \"white\", \"zerolinewidth\": 2}, \"yaxis\": {\"automargin\": true, \"gridcolor\": \"white\", \"linecolor\": \"white\", \"ticks\": \"\", \"title\": {\"standoff\": 15}, \"zerolinecolor\": \"white\", \"zerolinewidth\": 2}}}, \"title\": {\"text\": \"Coefficienti di affinit\\u00e0 (score) su merchant e-commerce\"}, \"xaxis\": {\"title\": {\"text\": \"Merchant\"}}, \"yaxis\": {\"title\": {\"text\": \"Score\"}}},                        {\"responsive\": true}                    ).then(function(){\n",
       "                            \n",
       "var gd = document.getElementById('0f0930f4-5ca7-458d-8a77-df3d3d29a323');\n",
       "var x = new MutationObserver(function (mutations, observer) {{\n",
       "        var display = window.getComputedStyle(gd).display;\n",
       "        if (!display || display === 'none') {{\n",
       "            console.log([gd, 'removed!']);\n",
       "            Plotly.purge(gd);\n",
       "            observer.disconnect();\n",
       "        }}\n",
       "}});\n",
       "\n",
       "// Listen for the removal of the full notebook cells\n",
       "var notebookContainer = gd.closest('#notebook-container');\n",
       "if (notebookContainer) {{\n",
       "    x.observe(notebookContainer, {childList: true});\n",
       "}}\n",
       "\n",
       "// Listen for the clearing of the current output cell\n",
       "var outputEl = gd.closest('.output');\n",
       "if (outputEl) {{\n",
       "    x.observe(outputEl, {childList: true});\n",
       "}}\n",
       "\n",
       "                        })                };                });            </script>        </div>"
      ]
     },
     "metadata": {},
     "output_type": "display_data"
    }
   ],
   "source": [
    "fig = go.Figure(data=[\n",
    "    go.Bar(name='Merchant', x=list(pr_int.index), y=list(pr_int)),\n",
    "])\n",
    "\n",
    "fig.update_layout(barmode = 'stack',\n",
    "                  title='Coefficienti di affinità (score) su merchant e-commerce',\n",
    "                  yaxis_title='Score',\n",
    "                  xaxis_title='Merchant')\n",
    "#fig.show(renderer=\"notebook\")\n",
    "py.iplot(fig)\n"
   ]
  },
  {
   "cell_type": "markdown",
   "metadata": {},
   "source": [
    "### Un altro esempio, su un altro cardholder\n",
    "\n",
    "Questa volta analizziamo gli score di una carta particolarmente attiva in spese farmaceutiche:"
   ]
  },
  {
   "cell_type": "code",
   "execution_count": 50,
   "metadata": {},
   "outputs": [],
   "source": [
    "pr_int_2 = predicted_interactions.iloc[10,:][predicted_interactions.iloc[0,:]>0.00005] * 1000"
   ]
  },
  {
   "cell_type": "code",
   "execution_count": 52,
   "metadata": {},
   "outputs": [
    {
     "data": {
      "application/vnd.plotly.v1+json": {
       "config": {
        "linkText": "Export to plot.ly",
        "plotlyServerURL": "https://plot.ly",
        "showLink": false
       },
       "data": [
        {
         "name": "Merchant",
         "type": "bar",
         "x": [
          "AC MILAN",
          "ADIDASITALY",
          "ALTROCONSUNO EDIZIONI",
          "ALTROCONSUNO EDIZIONI REC",
          "CENTRO MEDICO",
          "CONIO",
          "DECATHLONIT",
          "DELIVEROO",
          "EASYPOLNEXIBOLLETTINIP",
          "EB",
          "EDISON ENERGIA",
          "FASTWEB",
          "FASTWEB SPARICARICHE",
          "FASTWEB SPARICARICHE WEB",
          "GENIALLOYD",
          "HOMOBILEIT RICARICA",
          "HTTPS PORTALEASSIGECO",
          "INTERNET BOOKSHOP ITAL",
          "LAFELTRINELLI INTERNE",
          "LIBRACCIO",
          "LIBRACCIO IT",
          "LVMH ITALIA",
          "METAXY",
          "NEXI PAGAMENTI PAGOPA",
          "PAGANTIS",
          "PAGONLINE IMPRESA SEMP",
          "PETITBATEAU",
          "PUNTOFASLMA",
          "RCS",
          "REFORME",
          "RIC ONLINE WINDTRE",
          "RICARICA YAP",
          "SEPHORA",
          "SEPHORAIT",
          "SKY PAGAMENTO CANONI S",
          "SKY PAGAMENTO CANONI SCAD",
          "SOCIETA E SALUTE",
          "SUPERMERCA SUPERMERCA",
          "TICKETONE",
          "TICKETONESP",
          "TIM ITALIA",
          "TRENORD",
          "VODAFONEIT RICARICA CLI",
          "VODAFONEIT RICARICA ONLI",
          "VORWERK ITALIA",
          "WWWABBONAMENTIIT",
          "WWWDECATHLONCOM",
          "WWWDOMINOSITALIAIT",
          "WWWFACILEIT",
          "WWWFASTWEBIT",
          "WWWGENIALLOYDIT",
          "WWWMARSHIT",
          "WWWMONDADORISTOREIT",
          "WWWPASSIONEUNGHIEIT",
          "WWWPROGETTOARCAORG",
          "WWWSUSHISHOPIT",
          "WWWUNOMOBILEIT",
          "WWWVENTISIT",
          "ZARA"
         ],
         "y": [
          0.06637321343701286,
          0.07554565006613331,
          0.0797599531996288,
          0.11735754453376135,
          0.012399850620363589,
          0.07895719907673379,
          0.17844531846193892,
          0.48459983159267944,
          0.07688217376233218,
          0.057217353851392,
          0.07057148565971354,
          0.1121400263341575,
          0.04514447090038019,
          0.426479908503635,
          0.3403526837130765,
          2.3351746532537314,
          0.16810303833551604,
          0.27103948729063126,
          0.013381052259740244,
          0.2527486714653633,
          0.1795215295376265,
          0.0789506110448241,
          0.07439351174376746,
          2.30955780544238,
          0.0360253082603489,
          0.02027128571976357,
          0.013399362283107211,
          0.0350415094664252,
          0.06064612652939635,
          0.0891884473729354,
          0.13146763236726994,
          0.1799335129179627,
          0.07610305809660017,
          0.05513656718766841,
          0.030156205201370453,
          0.28505976501008706,
          0.10520577131493641,
          0.023680455200342728,
          0.06347163018662179,
          0.1256703764457578,
          1.763775424424789,
          0.07760795463081353,
          1.2952349227801878,
          0.2649538791224092,
          0.02073811236501678,
          0.12326751106454965,
          0.23141115865239056,
          0.04689340283674849,
          0.023045772856535387,
          0.11856402529553559,
          0.41378949707219065,
          0.051855363257906184,
          0.08145057739271841,
          0.034313195456282614,
          0.05378175029666701,
          0.016336450532084545,
          0.037870826271442025,
          0.01732335239666148,
          0.1596955807682919
         ]
        }
       ],
       "layout": {
        "barmode": "stack",
        "template": {
         "data": {
          "bar": [
           {
            "error_x": {
             "color": "#2a3f5f"
            },
            "error_y": {
             "color": "#2a3f5f"
            },
            "marker": {
             "line": {
              "color": "#E5ECF6",
              "width": 0.5
             }
            },
            "type": "bar"
           }
          ],
          "barpolar": [
           {
            "marker": {
             "line": {
              "color": "#E5ECF6",
              "width": 0.5
             }
            },
            "type": "barpolar"
           }
          ],
          "carpet": [
           {
            "aaxis": {
             "endlinecolor": "#2a3f5f",
             "gridcolor": "white",
             "linecolor": "white",
             "minorgridcolor": "white",
             "startlinecolor": "#2a3f5f"
            },
            "baxis": {
             "endlinecolor": "#2a3f5f",
             "gridcolor": "white",
             "linecolor": "white",
             "minorgridcolor": "white",
             "startlinecolor": "#2a3f5f"
            },
            "type": "carpet"
           }
          ],
          "choropleth": [
           {
            "colorbar": {
             "outlinewidth": 0,
             "ticks": ""
            },
            "type": "choropleth"
           }
          ],
          "contour": [
           {
            "colorbar": {
             "outlinewidth": 0,
             "ticks": ""
            },
            "colorscale": [
             [
              0,
              "#0d0887"
             ],
             [
              0.1111111111111111,
              "#46039f"
             ],
             [
              0.2222222222222222,
              "#7201a8"
             ],
             [
              0.3333333333333333,
              "#9c179e"
             ],
             [
              0.4444444444444444,
              "#bd3786"
             ],
             [
              0.5555555555555556,
              "#d8576b"
             ],
             [
              0.6666666666666666,
              "#ed7953"
             ],
             [
              0.7777777777777778,
              "#fb9f3a"
             ],
             [
              0.8888888888888888,
              "#fdca26"
             ],
             [
              1,
              "#f0f921"
             ]
            ],
            "type": "contour"
           }
          ],
          "contourcarpet": [
           {
            "colorbar": {
             "outlinewidth": 0,
             "ticks": ""
            },
            "type": "contourcarpet"
           }
          ],
          "heatmap": [
           {
            "colorbar": {
             "outlinewidth": 0,
             "ticks": ""
            },
            "colorscale": [
             [
              0,
              "#0d0887"
             ],
             [
              0.1111111111111111,
              "#46039f"
             ],
             [
              0.2222222222222222,
              "#7201a8"
             ],
             [
              0.3333333333333333,
              "#9c179e"
             ],
             [
              0.4444444444444444,
              "#bd3786"
             ],
             [
              0.5555555555555556,
              "#d8576b"
             ],
             [
              0.6666666666666666,
              "#ed7953"
             ],
             [
              0.7777777777777778,
              "#fb9f3a"
             ],
             [
              0.8888888888888888,
              "#fdca26"
             ],
             [
              1,
              "#f0f921"
             ]
            ],
            "type": "heatmap"
           }
          ],
          "heatmapgl": [
           {
            "colorbar": {
             "outlinewidth": 0,
             "ticks": ""
            },
            "colorscale": [
             [
              0,
              "#0d0887"
             ],
             [
              0.1111111111111111,
              "#46039f"
             ],
             [
              0.2222222222222222,
              "#7201a8"
             ],
             [
              0.3333333333333333,
              "#9c179e"
             ],
             [
              0.4444444444444444,
              "#bd3786"
             ],
             [
              0.5555555555555556,
              "#d8576b"
             ],
             [
              0.6666666666666666,
              "#ed7953"
             ],
             [
              0.7777777777777778,
              "#fb9f3a"
             ],
             [
              0.8888888888888888,
              "#fdca26"
             ],
             [
              1,
              "#f0f921"
             ]
            ],
            "type": "heatmapgl"
           }
          ],
          "histogram": [
           {
            "marker": {
             "colorbar": {
              "outlinewidth": 0,
              "ticks": ""
             }
            },
            "type": "histogram"
           }
          ],
          "histogram2d": [
           {
            "colorbar": {
             "outlinewidth": 0,
             "ticks": ""
            },
            "colorscale": [
             [
              0,
              "#0d0887"
             ],
             [
              0.1111111111111111,
              "#46039f"
             ],
             [
              0.2222222222222222,
              "#7201a8"
             ],
             [
              0.3333333333333333,
              "#9c179e"
             ],
             [
              0.4444444444444444,
              "#bd3786"
             ],
             [
              0.5555555555555556,
              "#d8576b"
             ],
             [
              0.6666666666666666,
              "#ed7953"
             ],
             [
              0.7777777777777778,
              "#fb9f3a"
             ],
             [
              0.8888888888888888,
              "#fdca26"
             ],
             [
              1,
              "#f0f921"
             ]
            ],
            "type": "histogram2d"
           }
          ],
          "histogram2dcontour": [
           {
            "colorbar": {
             "outlinewidth": 0,
             "ticks": ""
            },
            "colorscale": [
             [
              0,
              "#0d0887"
             ],
             [
              0.1111111111111111,
              "#46039f"
             ],
             [
              0.2222222222222222,
              "#7201a8"
             ],
             [
              0.3333333333333333,
              "#9c179e"
             ],
             [
              0.4444444444444444,
              "#bd3786"
             ],
             [
              0.5555555555555556,
              "#d8576b"
             ],
             [
              0.6666666666666666,
              "#ed7953"
             ],
             [
              0.7777777777777778,
              "#fb9f3a"
             ],
             [
              0.8888888888888888,
              "#fdca26"
             ],
             [
              1,
              "#f0f921"
             ]
            ],
            "type": "histogram2dcontour"
           }
          ],
          "mesh3d": [
           {
            "colorbar": {
             "outlinewidth": 0,
             "ticks": ""
            },
            "type": "mesh3d"
           }
          ],
          "parcoords": [
           {
            "line": {
             "colorbar": {
              "outlinewidth": 0,
              "ticks": ""
             }
            },
            "type": "parcoords"
           }
          ],
          "pie": [
           {
            "automargin": true,
            "type": "pie"
           }
          ],
          "scatter": [
           {
            "marker": {
             "colorbar": {
              "outlinewidth": 0,
              "ticks": ""
             }
            },
            "type": "scatter"
           }
          ],
          "scatter3d": [
           {
            "line": {
             "colorbar": {
              "outlinewidth": 0,
              "ticks": ""
             }
            },
            "marker": {
             "colorbar": {
              "outlinewidth": 0,
              "ticks": ""
             }
            },
            "type": "scatter3d"
           }
          ],
          "scattercarpet": [
           {
            "marker": {
             "colorbar": {
              "outlinewidth": 0,
              "ticks": ""
             }
            },
            "type": "scattercarpet"
           }
          ],
          "scattergeo": [
           {
            "marker": {
             "colorbar": {
              "outlinewidth": 0,
              "ticks": ""
             }
            },
            "type": "scattergeo"
           }
          ],
          "scattergl": [
           {
            "marker": {
             "colorbar": {
              "outlinewidth": 0,
              "ticks": ""
             }
            },
            "type": "scattergl"
           }
          ],
          "scattermapbox": [
           {
            "marker": {
             "colorbar": {
              "outlinewidth": 0,
              "ticks": ""
             }
            },
            "type": "scattermapbox"
           }
          ],
          "scatterpolar": [
           {
            "marker": {
             "colorbar": {
              "outlinewidth": 0,
              "ticks": ""
             }
            },
            "type": "scatterpolar"
           }
          ],
          "scatterpolargl": [
           {
            "marker": {
             "colorbar": {
              "outlinewidth": 0,
              "ticks": ""
             }
            },
            "type": "scatterpolargl"
           }
          ],
          "scatterternary": [
           {
            "marker": {
             "colorbar": {
              "outlinewidth": 0,
              "ticks": ""
             }
            },
            "type": "scatterternary"
           }
          ],
          "surface": [
           {
            "colorbar": {
             "outlinewidth": 0,
             "ticks": ""
            },
            "colorscale": [
             [
              0,
              "#0d0887"
             ],
             [
              0.1111111111111111,
              "#46039f"
             ],
             [
              0.2222222222222222,
              "#7201a8"
             ],
             [
              0.3333333333333333,
              "#9c179e"
             ],
             [
              0.4444444444444444,
              "#bd3786"
             ],
             [
              0.5555555555555556,
              "#d8576b"
             ],
             [
              0.6666666666666666,
              "#ed7953"
             ],
             [
              0.7777777777777778,
              "#fb9f3a"
             ],
             [
              0.8888888888888888,
              "#fdca26"
             ],
             [
              1,
              "#f0f921"
             ]
            ],
            "type": "surface"
           }
          ],
          "table": [
           {
            "cells": {
             "fill": {
              "color": "#EBF0F8"
             },
             "line": {
              "color": "white"
             }
            },
            "header": {
             "fill": {
              "color": "#C8D4E3"
             },
             "line": {
              "color": "white"
             }
            },
            "type": "table"
           }
          ]
         },
         "layout": {
          "annotationdefaults": {
           "arrowcolor": "#2a3f5f",
           "arrowhead": 0,
           "arrowwidth": 1
          },
          "coloraxis": {
           "colorbar": {
            "outlinewidth": 0,
            "ticks": ""
           }
          },
          "colorscale": {
           "diverging": [
            [
             0,
             "#8e0152"
            ],
            [
             0.1,
             "#c51b7d"
            ],
            [
             0.2,
             "#de77ae"
            ],
            [
             0.3,
             "#f1b6da"
            ],
            [
             0.4,
             "#fde0ef"
            ],
            [
             0.5,
             "#f7f7f7"
            ],
            [
             0.6,
             "#e6f5d0"
            ],
            [
             0.7,
             "#b8e186"
            ],
            [
             0.8,
             "#7fbc41"
            ],
            [
             0.9,
             "#4d9221"
            ],
            [
             1,
             "#276419"
            ]
           ],
           "sequential": [
            [
             0,
             "#0d0887"
            ],
            [
             0.1111111111111111,
             "#46039f"
            ],
            [
             0.2222222222222222,
             "#7201a8"
            ],
            [
             0.3333333333333333,
             "#9c179e"
            ],
            [
             0.4444444444444444,
             "#bd3786"
            ],
            [
             0.5555555555555556,
             "#d8576b"
            ],
            [
             0.6666666666666666,
             "#ed7953"
            ],
            [
             0.7777777777777778,
             "#fb9f3a"
            ],
            [
             0.8888888888888888,
             "#fdca26"
            ],
            [
             1,
             "#f0f921"
            ]
           ],
           "sequentialminus": [
            [
             0,
             "#0d0887"
            ],
            [
             0.1111111111111111,
             "#46039f"
            ],
            [
             0.2222222222222222,
             "#7201a8"
            ],
            [
             0.3333333333333333,
             "#9c179e"
            ],
            [
             0.4444444444444444,
             "#bd3786"
            ],
            [
             0.5555555555555556,
             "#d8576b"
            ],
            [
             0.6666666666666666,
             "#ed7953"
            ],
            [
             0.7777777777777778,
             "#fb9f3a"
            ],
            [
             0.8888888888888888,
             "#fdca26"
            ],
            [
             1,
             "#f0f921"
            ]
           ]
          },
          "colorway": [
           "#636efa",
           "#EF553B",
           "#00cc96",
           "#ab63fa",
           "#FFA15A",
           "#19d3f3",
           "#FF6692",
           "#B6E880",
           "#FF97FF",
           "#FECB52"
          ],
          "font": {
           "color": "#2a3f5f"
          },
          "geo": {
           "bgcolor": "white",
           "lakecolor": "white",
           "landcolor": "#E5ECF6",
           "showlakes": true,
           "showland": true,
           "subunitcolor": "white"
          },
          "hoverlabel": {
           "align": "left"
          },
          "hovermode": "closest",
          "mapbox": {
           "style": "light"
          },
          "paper_bgcolor": "white",
          "plot_bgcolor": "#E5ECF6",
          "polar": {
           "angularaxis": {
            "gridcolor": "white",
            "linecolor": "white",
            "ticks": ""
           },
           "bgcolor": "#E5ECF6",
           "radialaxis": {
            "gridcolor": "white",
            "linecolor": "white",
            "ticks": ""
           }
          },
          "scene": {
           "xaxis": {
            "backgroundcolor": "#E5ECF6",
            "gridcolor": "white",
            "gridwidth": 2,
            "linecolor": "white",
            "showbackground": true,
            "ticks": "",
            "zerolinecolor": "white"
           },
           "yaxis": {
            "backgroundcolor": "#E5ECF6",
            "gridcolor": "white",
            "gridwidth": 2,
            "linecolor": "white",
            "showbackground": true,
            "ticks": "",
            "zerolinecolor": "white"
           },
           "zaxis": {
            "backgroundcolor": "#E5ECF6",
            "gridcolor": "white",
            "gridwidth": 2,
            "linecolor": "white",
            "showbackground": true,
            "ticks": "",
            "zerolinecolor": "white"
           }
          },
          "shapedefaults": {
           "line": {
            "color": "#2a3f5f"
           }
          },
          "ternary": {
           "aaxis": {
            "gridcolor": "white",
            "linecolor": "white",
            "ticks": ""
           },
           "baxis": {
            "gridcolor": "white",
            "linecolor": "white",
            "ticks": ""
           },
           "bgcolor": "#E5ECF6",
           "caxis": {
            "gridcolor": "white",
            "linecolor": "white",
            "ticks": ""
           }
          },
          "title": {
           "x": 0.05
          },
          "xaxis": {
           "automargin": true,
           "gridcolor": "white",
           "linecolor": "white",
           "ticks": "",
           "title": {
            "standoff": 15
           },
           "zerolinecolor": "white",
           "zerolinewidth": 2
          },
          "yaxis": {
           "automargin": true,
           "gridcolor": "white",
           "linecolor": "white",
           "ticks": "",
           "title": {
            "standoff": 15
           },
           "zerolinecolor": "white",
           "zerolinewidth": 2
          }
         }
        },
        "title": {
         "text": "Coefficienti di affinità (score) su merchant e-commerce"
        },
        "xaxis": {
         "title": {
          "text": "Merchant"
         }
        },
        "yaxis": {
         "title": {
          "text": "Score"
         }
        }
       }
      },
      "text/html": [
       "<div>                            <div id=\"8bd80f8f-a86a-47c8-b10b-9f4b669125b5\" class=\"plotly-graph-div\" style=\"height:525px; width:100%;\"></div>            <script type=\"text/javascript\">                require([\"plotly\"], function(Plotly) {                    window.PLOTLYENV=window.PLOTLYENV || {};                                    if (document.getElementById(\"8bd80f8f-a86a-47c8-b10b-9f4b669125b5\")) {                    Plotly.newPlot(                        \"8bd80f8f-a86a-47c8-b10b-9f4b669125b5\",                        [{\"name\": \"Merchant\", \"type\": \"bar\", \"x\": [\"AC MILAN\", \"ADIDASITALY\", \"ALTROCONSUNO EDIZIONI\", \"ALTROCONSUNO EDIZIONI REC\", \"CENTRO MEDICO\", \"CONIO\", \"DECATHLONIT\", \"DELIVEROO\", \"EASYPOLNEXIBOLLETTINIP\", \"EB\", \"EDISON ENERGIA\", \"FASTWEB\", \"FASTWEB SPARICARICHE\", \"FASTWEB SPARICARICHE WEB\", \"GENIALLOYD\", \"HOMOBILEIT RICARICA\", \"HTTPS PORTALEASSIGECO\", \"INTERNET BOOKSHOP ITAL\", \"LAFELTRINELLI INTERNE\", \"LIBRACCIO\", \"LIBRACCIO IT\", \"LVMH ITALIA\", \"METAXY\", \"NEXI PAGAMENTI PAGOPA\", \"PAGANTIS\", \"PAGONLINE IMPRESA SEMP\", \"PETITBATEAU\", \"PUNTOFASLMA\", \"RCS\", \"REFORME\", \"RIC ONLINE WINDTRE\", \"RICARICA YAP\", \"SEPHORA\", \"SEPHORAIT\", \"SKY PAGAMENTO CANONI S\", \"SKY PAGAMENTO CANONI SCAD\", \"SOCIETA E SALUTE\", \"SUPERMERCA SUPERMERCA\", \"TICKETONE\", \"TICKETONESP\", \"TIM ITALIA\", \"TRENORD\", \"VODAFONEIT RICARICA CLI\", \"VODAFONEIT RICARICA ONLI\", \"VORWERK ITALIA\", \"WWWABBONAMENTIIT\", \"WWWDECATHLONCOM\", \"WWWDOMINOSITALIAIT\", \"WWWFACILEIT\", \"WWWFASTWEBIT\", \"WWWGENIALLOYDIT\", \"WWWMARSHIT\", \"WWWMONDADORISTOREIT\", \"WWWPASSIONEUNGHIEIT\", \"WWWPROGETTOARCAORG\", \"WWWSUSHISHOPIT\", \"WWWUNOMOBILEIT\", \"WWWVENTISIT\", \"ZARA\"], \"y\": [0.06637321343701286, 0.07554565006613331, 0.0797599531996288, 0.11735754453376135, 0.012399850620363589, 0.07895719907673379, 0.17844531846193892, 0.48459983159267944, 0.07688217376233218, 0.057217353851392, 0.07057148565971354, 0.1121400263341575, 0.04514447090038019, 0.426479908503635, 0.3403526837130765, 2.3351746532537314, 0.16810303833551604, 0.27103948729063126, 0.013381052259740244, 0.2527486714653633, 0.1795215295376265, 0.0789506110448241, 0.07439351174376746, 2.30955780544238, 0.0360253082603489, 0.02027128571976357, 0.013399362283107211, 0.0350415094664252, 0.06064612652939635, 0.0891884473729354, 0.13146763236726994, 0.1799335129179627, 0.07610305809660017, 0.05513656718766841, 0.030156205201370453, 0.28505976501008706, 0.10520577131493641, 0.023680455200342728, 0.06347163018662179, 0.1256703764457578, 1.763775424424789, 0.07760795463081353, 1.2952349227801878, 0.2649538791224092, 0.02073811236501678, 0.12326751106454965, 0.23141115865239056, 0.04689340283674849, 0.023045772856535387, 0.11856402529553559, 0.41378949707219065, 0.051855363257906184, 0.08145057739271841, 0.034313195456282614, 0.05378175029666701, 0.016336450532084545, 0.037870826271442025, 0.01732335239666148, 0.1596955807682919]}],                        {\"barmode\": \"stack\", \"template\": {\"data\": {\"bar\": [{\"error_x\": {\"color\": \"#2a3f5f\"}, \"error_y\": {\"color\": \"#2a3f5f\"}, \"marker\": {\"line\": {\"color\": \"#E5ECF6\", \"width\": 0.5}}, \"type\": \"bar\"}], \"barpolar\": [{\"marker\": {\"line\": {\"color\": \"#E5ECF6\", \"width\": 0.5}}, \"type\": \"barpolar\"}], \"carpet\": [{\"aaxis\": {\"endlinecolor\": \"#2a3f5f\", \"gridcolor\": \"white\", \"linecolor\": \"white\", \"minorgridcolor\": \"white\", \"startlinecolor\": \"#2a3f5f\"}, \"baxis\": {\"endlinecolor\": \"#2a3f5f\", \"gridcolor\": \"white\", \"linecolor\": \"white\", \"minorgridcolor\": \"white\", \"startlinecolor\": \"#2a3f5f\"}, \"type\": \"carpet\"}], \"choropleth\": [{\"colorbar\": {\"outlinewidth\": 0, \"ticks\": \"\"}, \"type\": \"choropleth\"}], \"contour\": [{\"colorbar\": {\"outlinewidth\": 0, \"ticks\": \"\"}, \"colorscale\": [[0.0, \"#0d0887\"], [0.1111111111111111, \"#46039f\"], [0.2222222222222222, \"#7201a8\"], [0.3333333333333333, \"#9c179e\"], [0.4444444444444444, \"#bd3786\"], [0.5555555555555556, \"#d8576b\"], [0.6666666666666666, \"#ed7953\"], [0.7777777777777778, \"#fb9f3a\"], [0.8888888888888888, \"#fdca26\"], [1.0, \"#f0f921\"]], \"type\": \"contour\"}], \"contourcarpet\": [{\"colorbar\": {\"outlinewidth\": 0, \"ticks\": \"\"}, \"type\": \"contourcarpet\"}], \"heatmap\": [{\"colorbar\": {\"outlinewidth\": 0, \"ticks\": \"\"}, \"colorscale\": [[0.0, \"#0d0887\"], [0.1111111111111111, \"#46039f\"], [0.2222222222222222, \"#7201a8\"], [0.3333333333333333, \"#9c179e\"], [0.4444444444444444, \"#bd3786\"], [0.5555555555555556, \"#d8576b\"], [0.6666666666666666, \"#ed7953\"], [0.7777777777777778, \"#fb9f3a\"], [0.8888888888888888, \"#fdca26\"], [1.0, \"#f0f921\"]], \"type\": \"heatmap\"}], \"heatmapgl\": [{\"colorbar\": {\"outlinewidth\": 0, \"ticks\": \"\"}, \"colorscale\": [[0.0, \"#0d0887\"], [0.1111111111111111, \"#46039f\"], [0.2222222222222222, \"#7201a8\"], [0.3333333333333333, \"#9c179e\"], [0.4444444444444444, \"#bd3786\"], [0.5555555555555556, \"#d8576b\"], [0.6666666666666666, \"#ed7953\"], [0.7777777777777778, \"#fb9f3a\"], [0.8888888888888888, \"#fdca26\"], [1.0, \"#f0f921\"]], \"type\": \"heatmapgl\"}], \"histogram\": [{\"marker\": {\"colorbar\": {\"outlinewidth\": 0, \"ticks\": \"\"}}, \"type\": \"histogram\"}], \"histogram2d\": [{\"colorbar\": {\"outlinewidth\": 0, \"ticks\": \"\"}, \"colorscale\": [[0.0, \"#0d0887\"], [0.1111111111111111, \"#46039f\"], [0.2222222222222222, \"#7201a8\"], [0.3333333333333333, \"#9c179e\"], [0.4444444444444444, \"#bd3786\"], [0.5555555555555556, \"#d8576b\"], [0.6666666666666666, \"#ed7953\"], [0.7777777777777778, \"#fb9f3a\"], [0.8888888888888888, \"#fdca26\"], [1.0, \"#f0f921\"]], \"type\": \"histogram2d\"}], \"histogram2dcontour\": [{\"colorbar\": {\"outlinewidth\": 0, \"ticks\": \"\"}, \"colorscale\": [[0.0, \"#0d0887\"], [0.1111111111111111, \"#46039f\"], [0.2222222222222222, \"#7201a8\"], [0.3333333333333333, \"#9c179e\"], [0.4444444444444444, \"#bd3786\"], [0.5555555555555556, \"#d8576b\"], [0.6666666666666666, \"#ed7953\"], [0.7777777777777778, \"#fb9f3a\"], [0.8888888888888888, \"#fdca26\"], [1.0, \"#f0f921\"]], \"type\": \"histogram2dcontour\"}], \"mesh3d\": [{\"colorbar\": {\"outlinewidth\": 0, \"ticks\": \"\"}, \"type\": \"mesh3d\"}], \"parcoords\": [{\"line\": {\"colorbar\": {\"outlinewidth\": 0, \"ticks\": \"\"}}, \"type\": \"parcoords\"}], \"pie\": [{\"automargin\": true, \"type\": \"pie\"}], \"scatter\": [{\"marker\": {\"colorbar\": {\"outlinewidth\": 0, \"ticks\": \"\"}}, \"type\": \"scatter\"}], \"scatter3d\": [{\"line\": {\"colorbar\": {\"outlinewidth\": 0, \"ticks\": \"\"}}, \"marker\": {\"colorbar\": {\"outlinewidth\": 0, \"ticks\": \"\"}}, \"type\": \"scatter3d\"}], \"scattercarpet\": [{\"marker\": {\"colorbar\": {\"outlinewidth\": 0, \"ticks\": \"\"}}, \"type\": \"scattercarpet\"}], \"scattergeo\": [{\"marker\": {\"colorbar\": {\"outlinewidth\": 0, \"ticks\": \"\"}}, \"type\": \"scattergeo\"}], \"scattergl\": [{\"marker\": {\"colorbar\": {\"outlinewidth\": 0, \"ticks\": \"\"}}, \"type\": \"scattergl\"}], \"scattermapbox\": [{\"marker\": {\"colorbar\": {\"outlinewidth\": 0, \"ticks\": \"\"}}, \"type\": \"scattermapbox\"}], \"scatterpolar\": [{\"marker\": {\"colorbar\": {\"outlinewidth\": 0, \"ticks\": \"\"}}, \"type\": \"scatterpolar\"}], \"scatterpolargl\": [{\"marker\": {\"colorbar\": {\"outlinewidth\": 0, \"ticks\": \"\"}}, \"type\": \"scatterpolargl\"}], \"scatterternary\": [{\"marker\": {\"colorbar\": {\"outlinewidth\": 0, \"ticks\": \"\"}}, \"type\": \"scatterternary\"}], \"surface\": [{\"colorbar\": {\"outlinewidth\": 0, \"ticks\": \"\"}, \"colorscale\": [[0.0, \"#0d0887\"], [0.1111111111111111, \"#46039f\"], [0.2222222222222222, \"#7201a8\"], [0.3333333333333333, \"#9c179e\"], [0.4444444444444444, \"#bd3786\"], [0.5555555555555556, \"#d8576b\"], [0.6666666666666666, \"#ed7953\"], [0.7777777777777778, \"#fb9f3a\"], [0.8888888888888888, \"#fdca26\"], [1.0, \"#f0f921\"]], \"type\": \"surface\"}], \"table\": [{\"cells\": {\"fill\": {\"color\": \"#EBF0F8\"}, \"line\": {\"color\": \"white\"}}, \"header\": {\"fill\": {\"color\": \"#C8D4E3\"}, \"line\": {\"color\": \"white\"}}, \"type\": \"table\"}]}, \"layout\": {\"annotationdefaults\": {\"arrowcolor\": \"#2a3f5f\", \"arrowhead\": 0, \"arrowwidth\": 1}, \"coloraxis\": {\"colorbar\": {\"outlinewidth\": 0, \"ticks\": \"\"}}, \"colorscale\": {\"diverging\": [[0, \"#8e0152\"], [0.1, \"#c51b7d\"], [0.2, \"#de77ae\"], [0.3, \"#f1b6da\"], [0.4, \"#fde0ef\"], [0.5, \"#f7f7f7\"], [0.6, \"#e6f5d0\"], [0.7, \"#b8e186\"], [0.8, \"#7fbc41\"], [0.9, \"#4d9221\"], [1, \"#276419\"]], \"sequential\": [[0.0, \"#0d0887\"], [0.1111111111111111, \"#46039f\"], [0.2222222222222222, \"#7201a8\"], [0.3333333333333333, \"#9c179e\"], [0.4444444444444444, \"#bd3786\"], [0.5555555555555556, \"#d8576b\"], [0.6666666666666666, \"#ed7953\"], [0.7777777777777778, \"#fb9f3a\"], [0.8888888888888888, \"#fdca26\"], [1.0, \"#f0f921\"]], \"sequentialminus\": [[0.0, \"#0d0887\"], [0.1111111111111111, \"#46039f\"], [0.2222222222222222, \"#7201a8\"], [0.3333333333333333, \"#9c179e\"], [0.4444444444444444, \"#bd3786\"], [0.5555555555555556, \"#d8576b\"], [0.6666666666666666, \"#ed7953\"], [0.7777777777777778, \"#fb9f3a\"], [0.8888888888888888, \"#fdca26\"], [1.0, \"#f0f921\"]]}, \"colorway\": [\"#636efa\", \"#EF553B\", \"#00cc96\", \"#ab63fa\", \"#FFA15A\", \"#19d3f3\", \"#FF6692\", \"#B6E880\", \"#FF97FF\", \"#FECB52\"], \"font\": {\"color\": \"#2a3f5f\"}, \"geo\": {\"bgcolor\": \"white\", \"lakecolor\": \"white\", \"landcolor\": \"#E5ECF6\", \"showlakes\": true, \"showland\": true, \"subunitcolor\": \"white\"}, \"hoverlabel\": {\"align\": \"left\"}, \"hovermode\": \"closest\", \"mapbox\": {\"style\": \"light\"}, \"paper_bgcolor\": \"white\", \"plot_bgcolor\": \"#E5ECF6\", \"polar\": {\"angularaxis\": {\"gridcolor\": \"white\", \"linecolor\": \"white\", \"ticks\": \"\"}, \"bgcolor\": \"#E5ECF6\", \"radialaxis\": {\"gridcolor\": \"white\", \"linecolor\": \"white\", \"ticks\": \"\"}}, \"scene\": {\"xaxis\": {\"backgroundcolor\": \"#E5ECF6\", \"gridcolor\": \"white\", \"gridwidth\": 2, \"linecolor\": \"white\", \"showbackground\": true, \"ticks\": \"\", \"zerolinecolor\": \"white\"}, \"yaxis\": {\"backgroundcolor\": \"#E5ECF6\", \"gridcolor\": \"white\", \"gridwidth\": 2, \"linecolor\": \"white\", \"showbackground\": true, \"ticks\": \"\", \"zerolinecolor\": \"white\"}, \"zaxis\": {\"backgroundcolor\": \"#E5ECF6\", \"gridcolor\": \"white\", \"gridwidth\": 2, \"linecolor\": \"white\", \"showbackground\": true, \"ticks\": \"\", \"zerolinecolor\": \"white\"}}, \"shapedefaults\": {\"line\": {\"color\": \"#2a3f5f\"}}, \"ternary\": {\"aaxis\": {\"gridcolor\": \"white\", \"linecolor\": \"white\", \"ticks\": \"\"}, \"baxis\": {\"gridcolor\": \"white\", \"linecolor\": \"white\", \"ticks\": \"\"}, \"bgcolor\": \"#E5ECF6\", \"caxis\": {\"gridcolor\": \"white\", \"linecolor\": \"white\", \"ticks\": \"\"}}, \"title\": {\"x\": 0.05}, \"xaxis\": {\"automargin\": true, \"gridcolor\": \"white\", \"linecolor\": \"white\", \"ticks\": \"\", \"title\": {\"standoff\": 15}, \"zerolinecolor\": \"white\", \"zerolinewidth\": 2}, \"yaxis\": {\"automargin\": true, \"gridcolor\": \"white\", \"linecolor\": \"white\", \"ticks\": \"\", \"title\": {\"standoff\": 15}, \"zerolinecolor\": \"white\", \"zerolinewidth\": 2}}}, \"title\": {\"text\": \"Coefficienti di affinit\\u00e0 (score) su merchant e-commerce\"}, \"xaxis\": {\"title\": {\"text\": \"Merchant\"}}, \"yaxis\": {\"title\": {\"text\": \"Score\"}}},                        {\"responsive\": true}                    ).then(function(){\n",
       "                            \n",
       "var gd = document.getElementById('8bd80f8f-a86a-47c8-b10b-9f4b669125b5');\n",
       "var x = new MutationObserver(function (mutations, observer) {{\n",
       "        var display = window.getComputedStyle(gd).display;\n",
       "        if (!display || display === 'none') {{\n",
       "            console.log([gd, 'removed!']);\n",
       "            Plotly.purge(gd);\n",
       "            observer.disconnect();\n",
       "        }}\n",
       "}});\n",
       "\n",
       "// Listen for the removal of the full notebook cells\n",
       "var notebookContainer = gd.closest('#notebook-container');\n",
       "if (notebookContainer) {{\n",
       "    x.observe(notebookContainer, {childList: true});\n",
       "}}\n",
       "\n",
       "// Listen for the clearing of the current output cell\n",
       "var outputEl = gd.closest('.output');\n",
       "if (outputEl) {{\n",
       "    x.observe(outputEl, {childList: true});\n",
       "}}\n",
       "\n",
       "                        })                };                });            </script>        </div>"
      ]
     },
     "metadata": {},
     "output_type": "display_data"
    }
   ],
   "source": [
    "fig = go.Figure(data=[\n",
    "    go.Bar(name='Merchant', x=list(pr_int_2.index), y=list(pr_int_2)),\n",
    "])\n",
    "\n",
    "fig.update_layout(barmode = 'stack',\n",
    "                  title='Coefficienti di affinità (score) su merchant e-commerce',\n",
    "                  yaxis_title='Score',\n",
    "                  xaxis_title='Merchant')\n",
    "#fig.show(renderer=\"notebook\")\n",
    "py.iplot(fig)"
   ]
  },
  {
   "cell_type": "markdown",
   "metadata": {},
   "source": [
    "### Quali sono i merchant su cui è meno probabile che la carta transi?\n",
    "\n",
    "In altre parole, quali sono i merchant meno affini ad una carta?"
   ]
  },
  {
   "cell_type": "code",
   "execution_count": 53,
   "metadata": {},
   "outputs": [],
   "source": [
    "def worst_five_merchant(card):\n",
    "    sort = predicted_interactions.loc[card,:].sort_values(inplace=False)\n",
    "    return sort[:5]"
   ]
  },
  {
   "cell_type": "code",
   "execution_count": 55,
   "metadata": {},
   "outputs": [
    {
     "data": {
      "text/plain": [
       "EDICOLALAFO EB                 0.000003\n",
       "HOMOBILEIT RICARICA CMILANO    0.000003\n",
       "ONLYBOX EB                     0.000003\n",
       "VALETATO EBA                   0.000003\n",
       "BODYMELODY                     0.000003\n",
       "Name: F4D45ABF688893E3666B46C305C5B912, dtype: float64"
      ]
     },
     "execution_count": 55,
     "metadata": {},
     "output_type": "execute_result"
    }
   ],
   "source": [
    "worst_five_merchant('F4D45ABF688893E3666B46C305C5B912')"
   ]
  },
  {
   "cell_type": "code",
   "execution_count": 59,
   "metadata": {},
   "outputs": [
    {
     "name": "stdout",
     "output_type": "stream",
     "text": [
      "[NbConvertApp] Converting notebook 01-prj-dispute.ipynb to html\n",
      "[NbConvertApp] Writing 10701555 bytes to 01-prj-dispute.html\n"
     ]
    }
   ],
   "source": [
    "!jupyter nbconvert 01-prj-dispute.ipynb --to html --no-input"
   ]
  }
 ],
 "metadata": {
  "kernelspec": {
   "display_name": "conda_python3",
   "language": "python",
   "name": "conda_python3"
  },
  "language_info": {
   "codemirror_mode": {
    "name": "ipython",
    "version": 3
   },
   "file_extension": ".py",
   "mimetype": "text/x-python",
   "name": "python",
   "nbconvert_exporter": "python",
   "pygments_lexer": "ipython3",
   "version": "3.6.10"
  }
 },
 "nbformat": 4,
 "nbformat_minor": 4
}
