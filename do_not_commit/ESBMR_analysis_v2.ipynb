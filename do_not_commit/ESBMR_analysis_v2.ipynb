{
 "cells": [
  {
   "cell_type": "markdown",
   "metadata": {},
   "source": [
    "# Merchant Recommendation\n",
    "## SAL:\n",
    "1. Definizione perimetro dati: <b>done</b>\n",
    "2. Costruzione matrice di adiacenza per città di San Benedetto del Tronto: <b>done</b>\n",
    "3. Training del modello senza covariate: <b>in progress</b>\n",
    " - Costruzione metriche di performance: <b>done</b>\n",
    " - Hyperparameter tuning: <b>in progress</b>\n",
    "4. Costruzione matrici di informazioni covariate: <b>in progress</b>\n",
    "5. Training del modello con covariate: <b>to do</b>\n",
    "6. Inferenza e prediction: <b>to do</b>\n",
    "7. Next steps: <b>to do</b>"
   ]
  },
  {
   "cell_type": "code",
   "execution_count": 1,
   "metadata": {},
   "outputs": [
    {
     "name": "stdout",
     "output_type": "stream",
     "text": [
      "Collecting pyathena\n",
      "  Downloading PyAthena-1.11.2-py2.py3-none-any.whl (53 kB)\n",
      "\u001b[K     |████████████████████████████████| 53 kB 3.2 MB/s  eta 0:00:01\n",
      "\u001b[?25hRequirement already satisfied: botocore>=1.5.52 in /home/ec2-user/anaconda3/envs/python3/lib/python3.6/site-packages (from pyathena) (1.18.8)\n",
      "Requirement already satisfied: boto3>=1.4.4 in /home/ec2-user/anaconda3/envs/python3/lib/python3.6/site-packages (from pyathena) (1.15.8)\n",
      "Requirement already satisfied: future in /home/ec2-user/anaconda3/envs/python3/lib/python3.6/site-packages (from pyathena) (0.18.2)\n",
      "Collecting tenacity>=4.1.0\n",
      "  Downloading tenacity-6.2.0-py2.py3-none-any.whl (24 kB)\n",
      "Requirement already satisfied: jmespath<1.0.0,>=0.7.1 in /home/ec2-user/anaconda3/envs/python3/lib/python3.6/site-packages (from botocore>=1.5.52->pyathena) (0.10.0)\n",
      "Requirement already satisfied: urllib3<1.26,>=1.20; python_version != \"3.4\" in /home/ec2-user/anaconda3/envs/python3/lib/python3.6/site-packages (from botocore>=1.5.52->pyathena) (1.25.8)\n",
      "Requirement already satisfied: python-dateutil<3.0.0,>=2.1 in /home/ec2-user/anaconda3/envs/python3/lib/python3.6/site-packages (from botocore>=1.5.52->pyathena) (2.8.1)\n",
      "Requirement already satisfied: s3transfer<0.4.0,>=0.3.0 in /home/ec2-user/anaconda3/envs/python3/lib/python3.6/site-packages (from boto3>=1.4.4->pyathena) (0.3.3)\n",
      "Requirement already satisfied: six>=1.9.0 in /home/ec2-user/anaconda3/envs/python3/lib/python3.6/site-packages (from tenacity>=4.1.0->pyathena) (1.14.0)\n",
      "Installing collected packages: tenacity, pyathena\n",
      "Successfully installed pyathena-1.11.2 tenacity-6.2.0\n",
      "\u001b[33mWARNING: You are using pip version 20.0.2; however, version 20.2.4 is available.\n",
      "You should consider upgrading via the '/home/ec2-user/anaconda3/envs/python3/bin/python -m pip install --upgrade pip' command.\u001b[0m\n",
      "Collecting kneed\n",
      "  Downloading kneed-0.7.0-py2.py3-none-any.whl (9.4 kB)\n",
      "Requirement already satisfied: scipy in /home/ec2-user/anaconda3/envs/python3/lib/python3.6/site-packages (from kneed) (1.4.1)\n",
      "Requirement already satisfied: numpy>=1.14.2 in /home/ec2-user/anaconda3/envs/python3/lib/python3.6/site-packages (from kneed) (1.18.1)\n",
      "Requirement already satisfied: matplotlib in /home/ec2-user/anaconda3/envs/python3/lib/python3.6/site-packages (from kneed) (3.1.3)\n",
      "Requirement already satisfied: cycler>=0.10 in /home/ec2-user/anaconda3/envs/python3/lib/python3.6/site-packages (from matplotlib->kneed) (0.10.0)\n",
      "Requirement already satisfied: kiwisolver>=1.0.1 in /home/ec2-user/anaconda3/envs/python3/lib/python3.6/site-packages (from matplotlib->kneed) (1.1.0)\n",
      "Requirement already satisfied: python-dateutil>=2.1 in /home/ec2-user/anaconda3/envs/python3/lib/python3.6/site-packages (from matplotlib->kneed) (2.8.1)\n",
      "Requirement already satisfied: pyparsing!=2.0.4,!=2.1.2,!=2.1.6,>=2.0.1 in /home/ec2-user/anaconda3/envs/python3/lib/python3.6/site-packages (from matplotlib->kneed) (2.4.6)\n",
      "Requirement already satisfied: six in /home/ec2-user/anaconda3/envs/python3/lib/python3.6/site-packages (from cycler>=0.10->matplotlib->kneed) (1.14.0)\n",
      "Requirement already satisfied: setuptools in /home/ec2-user/anaconda3/envs/python3/lib/python3.6/site-packages (from kiwisolver>=1.0.1->matplotlib->kneed) (45.2.0.post20200210)\n",
      "Installing collected packages: kneed\n",
      "Successfully installed kneed-0.7.0\n",
      "\u001b[33mWARNING: You are using pip version 20.0.2; however, version 20.2.4 is available.\n",
      "You should consider upgrading via the '/home/ec2-user/anaconda3/envs/python3/bin/python -m pip install --upgrade pip' command.\u001b[0m\n"
     ]
    }
   ],
   "source": [
    "!pip install pyathena\n",
    "!pip install kneed"
   ]
  },
  {
   "cell_type": "code",
   "execution_count": 7,
   "metadata": {},
   "outputs": [],
   "source": [
    "import numpy as np\n",
    "import pandas as pd\n",
    "import seaborn as sns\n",
    "import matplotlib.pyplot as plt\n",
    "from esbmr2 import esbmr2\n",
    "from hpf_vi import hpf_vi\n",
    "from pyathena import connect\n",
    "import boto3\n",
    "import plotly.express as px\n",
    "import plotly.offline as py\n",
    "import plotly.graph_objects as go\n",
    "from plotly.subplots import make_subplots\n",
    "import matplotlib.pyplot as plt\n",
    "import datetime\n",
    "from IPython.display import display, HTML\n",
    "from sklearn.cluster import KMeans\n",
    "from kneed import KneeLocator\n",
    "from sklearn.metrics import silhouette_score\n",
    "from importlib import reload\n",
    "from esbmr2 import esbmr2\n",
    "\n",
    "# %% Importing custom modules\n",
    "import train_test_split\n",
    "import data_processing\n",
    "import scoring\n",
    "from CF import CF # importing the class for the heuristics"
   ]
  },
  {
   "cell_type": "markdown",
   "metadata": {},
   "source": [
    "### Multiprocessing: prove basic"
   ]
  },
  {
   "cell_type": "code",
   "execution_count": 1,
   "metadata": {},
   "outputs": [
    {
     "name": "stdout",
     "output_type": "stream",
     "text": [
      "0.16192054748535156\n"
     ]
    },
    {
     "data": {
      "text/plain": [
       "(1, 10)"
      ]
     },
     "execution_count": 1,
     "metadata": {},
     "output_type": "execute_result"
    }
   ],
   "source": [
    "import pandas as pd\n",
    "import numpy as np\n",
    "import time\n",
    "from functools import partial\n",
    "import multiprocessing\n",
    "from importlib import reload\n",
    "# Custom modules\n",
    "import multiprocessing_functions\n",
    "reload(multiprocessing_functions)\n",
    "\n",
    "appoggio = np.random.randn(1,10)\n",
    "\n",
    "def matrix(a, b):\n",
    "    new = np.empty(shape = a.shape)\n",
    "    tic = time.time()\n",
    "    for i in range(a.shape[0]):\n",
    "        new[i,:] = a[i,:] ** b\n",
    "    toc = time.time()\n",
    "    print(toc-tic)\n",
    "    return new\n",
    "\n",
    "def row(a, b):\n",
    "    return a ** b\n",
    "\n",
    "row_partial = partial(row, b = 3)\n",
    "\n",
    "def func_multi(df,\n",
    "               n_proc=multiprocessing.cpu_count()):\n",
    "    tic = time.time()\n",
    "    df = multiprocessing_functions.multi_func_np(df,\n",
    "                                                 func=row_partial,\n",
    "                                                 n_procs=n_proc)\n",
    "    toc = time.time()\n",
    "    print(toc-tic)\n",
    "    return df\n",
    "\n",
    "func_multi(appoggio).shape\n",
    "# matrix(appoggio, 3)  # 4.35"
   ]
  },
  {
   "cell_type": "code",
   "execution_count": 21,
   "metadata": {},
   "outputs": [
    {
     "name": "stdout",
     "output_type": "stream",
     "text": [
      "{1, 4, 9}\n"
     ]
    }
   ],
   "source": [
    "from multiprocessing import Pool\n",
    "def quad(x):\n",
    "    return x**2\n",
    "\n",
    "res = map(quad, [1,2,3])"
   ]
  },
  {
   "cell_type": "code",
   "execution_count": 3,
   "metadata": {},
   "outputs": [],
   "source": [
    "import pandas as pd\n",
    "import numpy as np\n",
    "import time\n",
    "from functools import partial\n",
    "import multiprocessing\n",
    "from importlib import reload\n",
    "# Custom modules\n",
    "import multiprocessing_functions\n",
    "reload(multiprocessing_functions)\n",
    "from CF import CF"
   ]
  },
  {
   "cell_type": "code",
   "execution_count": 3,
   "metadata": {},
   "outputs": [],
   "source": [
    "df = np.random.randn(100,100)"
   ]
  },
  {
   "cell_type": "code",
   "execution_count": 4,
   "metadata": {},
   "outputs": [
    {
     "data": {
      "text/plain": [
       "16"
      ]
     },
     "execution_count": 4,
     "metadata": {},
     "output_type": "execute_result"
    }
   ],
   "source": [
    "multiprocessing.cpu_count()"
   ]
  },
  {
   "cell_type": "code",
   "execution_count": 2,
   "metadata": {},
   "outputs": [],
   "source": [
    "# !pip install rpy2 # trovare un workaround per AWS!"
   ]
  },
  {
   "cell_type": "code",
   "execution_count": 8,
   "metadata": {},
   "outputs": [],
   "source": [
    "s3 = boto3.resource('s3')\n",
    "s3_client = boto3.client('s3')\n",
    "STAGING_BUCKET = 'nexi-tmp-athena-staging'\n",
    "STAGING_AREA = 'tmp-athena-queries'\n",
    "REGION_NAME = 'eu-west-1'\n",
    "cursor = connect(s3_staging_dir=\"s3://{}/{}\".format(STAGING_BUCKET,STAGING_AREA),\n",
    "                 region_name=REGION_NAME,\n",
    "                 work_group='WKGP-SM-DATA'\n",
    "                ).cursor()\n",
    "def runQueryFromString(sqlQuery):\n",
    "    cursor.execute(sqlQuery)\n",
    "    resultPath = cursor.output_location.replace('s3://','').split('/')\n",
    "    try:\n",
    "        obj = s3_client.get_object(Bucket=resultPath[0], Key=resultPath[1] + '/' + resultPath[2])\n",
    "    except:\n",
    "        return None\n",
    "    return pd.read_csv(obj['Body'])"
   ]
  },
  {
   "cell_type": "markdown",
   "metadata": {},
   "source": [
    "## Import dei dati\n",
    "1. Interazioni carte-merchant con conteggio\n",
    "2. Covariate carte\n",
    "3. Covariate merchant"
   ]
  },
  {
   "cell_type": "code",
   "execution_count": 9,
   "metadata": {},
   "outputs": [],
   "source": [
    "df = pd.read_csv(\"interazioni_sbt_2020_attivi.csv\") \n",
    "df =  runQueryFromString(\"\"\"\n",
    "SELECT * FROM merch_recom.interazioni_sbt_2020_attivi\n",
    "\"\"\")"
   ]
  },
  {
   "cell_type": "code",
   "execution_count": 2,
   "metadata": {},
   "outputs": [],
   "source": [
    "# df = pd.read_csv(\"interazioni_sbt_2020_attivi.csv\")"
   ]
  },
  {
   "cell_type": "code",
   "execution_count": 3,
   "metadata": {},
   "outputs": [],
   "source": [
    "# Ottenimento valori binnati per il campo \"conteggio\" del DataFrame df:\n",
    "# Nota: i bin vanno scelti di volta in volta in modo che non si sovrappongano. \n",
    "# I valori del parametro q vano bene per questo caso specifico (interazioni_sbt_2020_attivi)\n",
    "# df = data_processing.make_bins(df, q=[0, .75, .85, .89, .95, 1])\n",
    "\n",
    "# expl = data_processing.cross_tab_bins(df)\n",
    "\n",
    "# train, test = train_test_split.train_val_split(expl)"
   ]
  },
  {
   "cell_type": "code",
   "execution_count": 10,
   "metadata": {},
   "outputs": [
    {
     "name": "stderr",
     "output_type": "stream",
     "text": [
      "/home/ec2-user/anaconda3/envs/python3/lib/python3.6/site-packages/ipykernel/__main__.py:3: SettingWithCopyWarning:\n",
      "\n",
      "\n",
      "A value is trying to be set on a copy of a slice from a DataFrame\n",
      "\n",
      "See the caveats in the documentation: https://pandas.pydata.org/pandas-docs/stable/user_guide/indexing.html#returning-a-view-versus-a-copy\n",
      "\n"
     ]
    }
   ],
   "source": [
    "# Alternative data manipulation: upper bound of 10 to 'conteggio'\n",
    "reload(data_processing)\n",
    "df['conteggio'][df['conteggio'] >= 10 ] = 10\n",
    "\n",
    "expl = data_processing.cross_tab(df)\n",
    "\n",
    "train, test = train_test_split.train_val_split(expl)"
   ]
  },
  {
   "cell_type": "markdown",
   "metadata": {},
   "source": [
    "### Calcolo delle frequenze relative dei conteggi\n",
    "Tali valori verranno utilizzati per binnare le prediction una volta avvenuto il training del modello."
   ]
  },
  {
   "cell_type": "code",
   "execution_count": 11,
   "metadata": {},
   "outputs": [
    {
     "data": {
      "text/plain": [
       "array([0.        , 0.63945205, 0.16493151, 0.07342466, 0.03561644,\n",
       "       0.02575342, 0.01205479, 0.00657534, 0.0060274 , 0.00767123,\n",
       "       0.02849315])"
      ]
     },
     "execution_count": 11,
     "metadata": {},
     "output_type": "execute_result"
    }
   ],
   "source": [
    "conteggio_proportions = df.groupby('conteggio').count()['id_car']\n",
    "conteggio_proportions = conteggio_proportions/conteggio_proportions.sum()\n",
    "q = np.zeros(1) \n",
    "q = np.append(q, conteggio_proportions)\n",
    "q"
   ]
  },
  {
   "cell_type": "markdown",
   "metadata": {},
   "source": [
    "## Matrice di adiacenza\n",
    "L'heatmap mostra il grado di interazione user-merchant. Il conteggio delle interazioni è stato normalizzato tra 0 e 5."
   ]
  },
  {
   "cell_type": "code",
   "execution_count": 5,
   "metadata": {},
   "outputs": [],
   "source": [
    "# Transazioni effettuate da singola carta (nel caso di implicit feedback)\n",
    "# plt.hist(expl.sum(axis = 1))"
   ]
  },
  {
   "cell_type": "code",
   "execution_count": 12,
   "metadata": {},
   "outputs": [
    {
     "name": "stdout",
     "output_type": "stream",
     "text": [
      "------------------\n",
      "Initial log-likelihood: -132127160.62255092\n",
      "------------------\n",
      "Gibbs Sampling simulation starts.\n",
      "Iteration 0 complete. Log-likelihood: -132107730.91577318.\n",
      "Runtime: 9.676258563995361\n",
      "Block-interactions computed.\n",
      "End: 1603450630.6971798\n"
     ]
    },
    {
     "data": {
      "text/plain": [
       "'\\nIl numero dei cluster è decrescente in a e crescente in b.\\na=1,b=1: 2 cluster\\na=0.1,b=1: più di 50 cluster\\n\\na=0.5,b=1: 15 cluster\\na=0.5,b=5: 30 cluster\\n'"
      ]
     },
     "execution_count": 12,
     "metadata": {},
     "output_type": "execute_result"
    }
   ],
   "source": [
    "#del model\n",
    "model = esbmr2(prior_u = 'GN', prior_i = 'GN', gamma = 0.3, alpha_urn_u = 2.55, a = 1, b = 1)\n",
    "model.fit(train, 10)\n",
    "pred = model.predict(test)\n",
    "\"\"\"\n",
    "Il numero dei cluster è decrescente in a e crescente in b.\n",
    "a=1,b=1: 2 cluster\n",
    "a=0.1,b=1: più di 50 cluster\n",
    "\n",
    "a=0.5,b=1: 15 cluster\n",
    "a=0.5,b=5: 30 cluster\n",
    "\"\"\""
   ]
  },
  {
   "cell_type": "code",
   "execution_count": 13,
   "metadata": {},
   "outputs": [],
   "source": [
    "model.co_clustering_matrices()"
   ]
  },
  {
   "cell_type": "markdown",
   "metadata": {},
   "source": [
    "## Community detection\n",
    "### 1. Carte\n",
    "Il modello individua 9 cluster di carte. Ciascun cluster è caratterizzato da diversi valori di interazione con i vari cluster dei merchant.\n",
    "\n",
    "La stima basata su KMeans è leggermente discordante poiché individua meno cluster."
   ]
  },
  {
   "cell_type": "code",
   "execution_count": 14,
   "metadata": {},
   "outputs": [],
   "source": [
    "model.KMeans_estimator(method_u = \"silhouette\", method_i = \"silhouette\") # computes the KMeans estimator"
   ]
  },
  {
   "cell_type": "code",
   "execution_count": 18,
   "metadata": {},
   "outputs": [],
   "source": [
    "# model.vi_estimator()\n",
    "# np.unique(model.zu_est)\n",
    "# model.zu_est_vi\n",
    "# model.zu_est_kmeans"
   ]
  },
  {
   "cell_type": "code",
   "execution_count": 19,
   "metadata": {},
   "outputs": [
    {
     "data": {
      "text/plain": [
       "<matplotlib.axes._subplots.AxesSubplot at 0x7f94514a1860>"
      ]
     },
     "execution_count": 19,
     "metadata": {},
     "output_type": "execute_result"
    },
    {
     "data": {
      "image/png": "[encoded data removed]",
      "text/plain": [
       "<Figure size 432x288 with 2 Axes>"
      ]
     },
     "metadata": {
      "needs_background": "light"
     },
     "output_type": "display_data"
    }
   ],
   "source": [
    "sns.heatmap(model.ccmatrix_u, cmap = 'YlGnBu')"
   ]
  },
  {
   "cell_type": "markdown",
   "metadata": {},
   "source": [
    "### 2. Merchant\n",
    "Il modello individua 12 cluster di merchant.\n",
    "\n",
    "La stima basata su KMeans rileva 3 cluster. (!!!)\n",
    "\n",
    "Rispetto alle carte, il clustering dei merchant appare più netto."
   ]
  },
  {
   "cell_type": "code",
   "execution_count": 20,
   "metadata": {},
   "outputs": [
    {
     "data": {
      "text/plain": [
       "<matplotlib.axes._subplots.AxesSubplot at 0x7f94516e3a58>"
      ]
     },
     "execution_count": 20,
     "metadata": {},
     "output_type": "execute_result"
    },
    {
     "data": {
      "image/png": "[encoded data removed]",
      "text/plain": [
       "<Figure size 432x288 with 2 Axes>"
      ]
     },
     "metadata": {
      "needs_background": "light"
     },
     "output_type": "display_data"
    }
   ],
   "source": [
    "sns.heatmap(model.ccmatrix_i)"
   ]
  },
  {
   "cell_type": "markdown",
   "metadata": {},
   "source": [
    "## Matrice di interazione carte-merchant\n",
    "- L'heatmap riporta il grado di interazione normalizzato tra cluster di user e cluster di item.\n",
    "- Le prediction si baseranno su tali valori"
   ]
  },
  {
   "cell_type": "code",
   "execution_count": 12,
   "metadata": {},
   "outputs": [
    {
     "data": {
      "text/plain": [
       "<matplotlib.axes._subplots.AxesSubplot at 0x7f9608061860>"
      ]
     },
     "execution_count": 12,
     "metadata": {},
     "output_type": "execute_result"
    },
    {
     "data": {
      "image/png": "[encoded data removed]",
      "text/plain": [
       "<Figure size 432x288 with 2 Axes>"
      ]
     },
     "metadata": {
      "needs_background": "light"
     },
     "output_type": "display_data"
    }
   ],
   "source": [
    "sns.heatmap(model.theta_est)"
   ]
  },
  {
   "cell_type": "markdown",
   "metadata": {},
   "source": [
    "### Binning delle prediction\n",
    "Ciò che ci interessa è che il modello sia in grado di riconoscere, nel caso multiclass, il livello di interazione tra una carte ed un merchant, piuttosto che il valore della prediction in sé. Pertanto assegniamo a ciascuna prediction uno dei 6 bin (da 0 a 5) e verifichiamo che essi non si discostino eccessivamente dal test set.\n",
    " "
   ]
  },
  {
   "cell_type": "code",
   "execution_count": 21,
   "metadata": {},
   "outputs": [
    {
     "ename": "ValueError",
     "evalue": "Bin edges must be unique: array([0.0072904 , 0.03463993, 0.04347826, 0.08606856, 0.14545455,\n       0.17090909, 0.17818182, 0.21493625, 0.21493625, 0.21493625,\n       5.875     ]).\nYou can drop duplicate edges by setting the 'duplicates' kwarg",
     "output_type": "error",
     "traceback": [
      "\u001b[0;31m---------------------------------------------------------------------------\u001b[0m",
      "\u001b[0;31mValueError\u001b[0m                                Traceback (most recent call last)",
      "\u001b[0;32m<ipython-input-21-88dc21ea3b56>\u001b[0m in \u001b[0;36m<module>\u001b[0;34m\u001b[0m\n\u001b[1;32m      1\u001b[0m \u001b[0mreload\u001b[0m\u001b[0;34m(\u001b[0m\u001b[0mdata_processing\u001b[0m\u001b[0;34m)\u001b[0m\u001b[0;34m\u001b[0m\u001b[0;34m\u001b[0m\u001b[0m\n\u001b[1;32m      2\u001b[0m \u001b[0mpredict\u001b[0m \u001b[0;34m=\u001b[0m \u001b[0mmodel\u001b[0m\u001b[0;34m.\u001b[0m\u001b[0mpredict\u001b[0m\u001b[0;34m(\u001b[0m\u001b[0mtest\u001b[0m\u001b[0;34m)\u001b[0m\u001b[0;34m\u001b[0m\u001b[0;34m\u001b[0m\u001b[0m\n\u001b[0;32m----> 3\u001b[0;31m \u001b[0mesbmr_pred\u001b[0m \u001b[0;34m=\u001b[0m \u001b[0mdata_processing\u001b[0m\u001b[0;34m.\u001b[0m\u001b[0mmake_bins_adjacency\u001b[0m\u001b[0;34m(\u001b[0m\u001b[0mpredict\u001b[0m\u001b[0;34m,\u001b[0m \u001b[0mq\u001b[0m\u001b[0;34m=\u001b[0m\u001b[0mq\u001b[0m\u001b[0;34m.\u001b[0m\u001b[0mcumsum\u001b[0m\u001b[0;34m(\u001b[0m\u001b[0;34m)\u001b[0m\u001b[0;34m)\u001b[0m\u001b[0;34m\u001b[0m\u001b[0;34m\u001b[0m\u001b[0m\n\u001b[0m\u001b[1;32m      4\u001b[0m \u001b[0;31m#predict_scaled = predict / predict.max() * 10\u001b[0m\u001b[0;34m\u001b[0m\u001b[0;34m\u001b[0m\u001b[0;34m\u001b[0m\u001b[0m\n\u001b[1;32m      5\u001b[0m \u001b[0;31m#predict_scaled = np.round(predict_scaled)\u001b[0m\u001b[0;34m\u001b[0m\u001b[0;34m\u001b[0m\u001b[0;34m\u001b[0m\u001b[0m\n",
      "\u001b[0;32m~/SageMaker/dst-merchant-recommendation/data_processing.py\u001b[0m in \u001b[0;36mmake_bins_adjacency\u001b[0;34m(df, q)\u001b[0m\n\u001b[1;32m     51\u001b[0m     \u001b[0mdf\u001b[0m\u001b[0;34m[\u001b[0m\u001b[0;34m'bins'\u001b[0m\u001b[0;34m]\u001b[0m \u001b[0;34m=\u001b[0m \u001b[0;36m0\u001b[0m\u001b[0;34m\u001b[0m\u001b[0;34m\u001b[0m\u001b[0m\n\u001b[1;32m     52\u001b[0m     df['bins'][df.iloc[:, 0] > 0] = pd.qcut(df.iloc[:, 0], q=q, labels=False,\n\u001b[0;32m---> 53\u001b[0;31m                                             precision=0)\n\u001b[0m\u001b[1;32m     54\u001b[0m     \u001b[0mdf\u001b[0m\u001b[0;34m[\u001b[0m\u001b[0;34m'bins'\u001b[0m\u001b[0;34m]\u001b[0m\u001b[0;34m[\u001b[0m\u001b[0mdf\u001b[0m\u001b[0;34m[\u001b[0m\u001b[0;34m'bins'\u001b[0m\u001b[0;34m]\u001b[0m \u001b[0;34m>\u001b[0m \u001b[0;36m0\u001b[0m\u001b[0;34m]\u001b[0m \u001b[0;34m=\u001b[0m \u001b[0mdf\u001b[0m\u001b[0;34m[\u001b[0m\u001b[0;34m'bins'\u001b[0m\u001b[0;34m]\u001b[0m \u001b[0;34m+\u001b[0m \u001b[0;36m1\u001b[0m\u001b[0;34m\u001b[0m\u001b[0;34m\u001b[0m\u001b[0m\n\u001b[1;32m     55\u001b[0m \u001b[0;34m\u001b[0m\u001b[0m\n",
      "\u001b[0;32m~/anaconda3/envs/python3/lib/python3.6/site-packages/pandas/core/reshape/tile.py\u001b[0m in \u001b[0;36mqcut\u001b[0;34m(x, q, labels, retbins, precision, duplicates)\u001b[0m\n\u001b[1;32m    346\u001b[0m         \u001b[0minclude_lowest\u001b[0m\u001b[0;34m=\u001b[0m\u001b[0;32mTrue\u001b[0m\u001b[0;34m,\u001b[0m\u001b[0;34m\u001b[0m\u001b[0;34m\u001b[0m\u001b[0m\n\u001b[1;32m    347\u001b[0m         \u001b[0mdtype\u001b[0m\u001b[0;34m=\u001b[0m\u001b[0mdtype\u001b[0m\u001b[0;34m,\u001b[0m\u001b[0;34m\u001b[0m\u001b[0;34m\u001b[0m\u001b[0m\n\u001b[0;32m--> 348\u001b[0;31m         \u001b[0mduplicates\u001b[0m\u001b[0;34m=\u001b[0m\u001b[0mduplicates\u001b[0m\u001b[0;34m,\u001b[0m\u001b[0;34m\u001b[0m\u001b[0;34m\u001b[0m\u001b[0m\n\u001b[0m\u001b[1;32m    349\u001b[0m     )\n\u001b[1;32m    350\u001b[0m \u001b[0;34m\u001b[0m\u001b[0m\n",
      "\u001b[0;32m~/anaconda3/envs/python3/lib/python3.6/site-packages/pandas/core/reshape/tile.py\u001b[0m in \u001b[0;36m_bins_to_cuts\u001b[0;34m(x, bins, right, labels, precision, include_lowest, dtype, duplicates)\u001b[0m\n\u001b[1;32m    379\u001b[0m         \u001b[0;32mif\u001b[0m \u001b[0mduplicates\u001b[0m \u001b[0;34m==\u001b[0m \u001b[0;34m\"raise\"\u001b[0m\u001b[0;34m:\u001b[0m\u001b[0;34m\u001b[0m\u001b[0;34m\u001b[0m\u001b[0m\n\u001b[1;32m    380\u001b[0m             raise ValueError(\n\u001b[0;32m--> 381\u001b[0;31m                 \u001b[0;34mf\"Bin edges must be unique: {repr(bins)}.\\n\"\u001b[0m\u001b[0;34m\u001b[0m\u001b[0;34m\u001b[0m\u001b[0m\n\u001b[0m\u001b[1;32m    382\u001b[0m                 \u001b[0;34mf\"You can drop duplicate edges by setting the 'duplicates' kwarg\"\u001b[0m\u001b[0;34m\u001b[0m\u001b[0;34m\u001b[0m\u001b[0m\n\u001b[1;32m    383\u001b[0m             )\n",
      "\u001b[0;31mValueError\u001b[0m: Bin edges must be unique: array([0.0072904 , 0.03463993, 0.04347826, 0.08606856, 0.14545455,\n       0.17090909, 0.17818182, 0.21493625, 0.21493625, 0.21493625,\n       5.875     ]).\nYou can drop duplicate edges by setting the 'duplicates' kwarg"
     ]
    }
   ],
   "source": [
    "reload(data_processing)\n",
    "predict = model.predict(test)\n",
    "esbmr_pred = data_processing.make_bins_adjacency(predict, q=q.cumsum())\n",
    "#predict_scaled = predict / predict.max() * 10\n",
    "#predict_scaled = np.round(predict_scaled)"
   ]
  },
  {
   "cell_type": "markdown",
   "metadata": {},
   "source": [
    "### Accuracy vs. Novelty\n",
    "L'accuracy del modello \"risente\" della struttura a blocchi, che tuttavia si rivela utile per raccomandare novità agli utenti.\n",
    "\n",
    "$Accuracy = \\frac{\\text{# correct predictions}}{\\text{# total predictions}}$"
   ]
  },
  {
   "cell_type": "code",
   "execution_count": 17,
   "metadata": {},
   "outputs": [
    {
     "data": {
      "text/plain": [
       "0.6291672786018505"
      ]
     },
     "execution_count": 17,
     "metadata": {},
     "output_type": "execute_result"
    }
   ],
   "source": [
    "reload(scoring)\n",
    "score, cfpr, cfval = scoring.multiclass_accuracy(train, test, esbmr_pred)\n",
    "score"
   ]
  },
  {
   "cell_type": "markdown",
   "metadata": {},
   "source": [
    "## Generare raccomandazioni\n",
    "- La funzione <b>block recommend</b> ritorna i merchant suddivisi per cluster."
   ]
  },
  {
   "cell_type": "code",
   "execution_count": 415,
   "metadata": {},
   "outputs": [
    {
     "name": "stdout",
     "output_type": "stream",
     "text": [
      " - Recommendations for user 0:  {0: [array([[10]], dtype=int64), array([[45]], dtype=int64), array([[25]], dtype=int64), array([[86]], dtype=int64), array([[ 2],\n",
      "       [35],\n",
      "       [37]], dtype=int64)]}\n",
      " - Recommendations for user 10:  {10: [array([[27]], dtype=int64), array([[ 2],\n",
      "       [35],\n",
      "       [37]], dtype=int64), array([[19]], dtype=int64), array([[23]], dtype=int64), array([[25]], dtype=int64)]}\n"
     ]
    }
   ],
   "source": [
    "u1, u2 = 0,10\n",
    "print(f\" - Recommendations for user {u1}: \",model.block_recommend([0],5))\n",
    "print(f\" - Recommendations for user {u2}: \",model.block_recommend([10],5))"
   ]
  },
  {
   "cell_type": "markdown",
   "metadata": {},
   "source": [
    "## Confronto con un'euristica: memory-based collaborative filtering\n",
    "Un memory-based collaborative filtering è un algoritmo di raccomandazione basato unicamente su logiche algoritmiche. Non vi è dunque alcun fitting di modello. Il CF implementato è un CF user-based: le raccomandazioni per ciascuna carta sono la media aritmetica dei movimenti delle 10 carte più simili. "
   ]
  },
  {
   "cell_type": "code",
   "execution_count": 18,
   "metadata": {},
   "outputs": [
    {
     "data": {
      "text/plain": [
       "array([[1.1, 0. , 0.4, ..., 2.8, 0. , 0. ],\n",
       "       [0.2, 0. , 0.4, ..., 2.4, 0. , 0. ],\n",
       "       [1. , 0. , 1. , ..., 0.4, 0. , 0. ],\n",
       "       ...,\n",
       "       [1.2, 0. , 0. , ..., 3.3, 0. , 0. ],\n",
       "       [1.1, 0. , 0. , ..., 2.4, 0. , 0. ],\n",
       "       [0.2, 0. , 1.3, ..., 3.4, 0. , 0. ]])"
      ]
     },
     "execution_count": 18,
     "metadata": {},
     "output_type": "execute_result"
    }
   ],
   "source": [
    "cf = CF()\n",
    "cf.fit(train, 10)"
   ]
  },
  {
   "cell_type": "code",
   "execution_count": 49,
   "metadata": {},
   "outputs": [],
   "source": [
    "cf_pred = cf.pred / cf.pred.max() * 5"
   ]
  },
  {
   "cell_type": "code",
   "execution_count": 50,
   "metadata": {},
   "outputs": [],
   "source": [
    "cf_pred = np.round(cf_pred)"
   ]
  },
  {
   "cell_type": "markdown",
   "metadata": {},
   "source": [
    "## Confronto con un modello concorrente: Hierarchical Poisson Factorization (HPF)\n",
    "HPF è un latent feature model: al contrario dell'ESBMR, individua un vettore di feature per ciascuna carta e per ciascun merchant. Ciò si traduce in una elevata complessità modellistica, che limita le possibilità di fare inferenza dal modello.\n",
    "\n",
    "Per i nostri dati, HPF genera 35890 parametri. ESBMR appena 104! Nonstante ciò, i due modelli hanno performance comparabili."
   ]
  },
  {
   "cell_type": "code",
   "execution_count": 22,
   "metadata": {},
   "outputs": [
    {
     "name": "stderr",
     "output_type": "stream",
     "text": [
      "/home/ec2-user/SageMaker/dst-merchant-recommendation/hpf_vi.py:189: RuntimeWarning:\n",
      "\n",
      "divide by zero encountered in log\n",
      "\n"
     ]
    },
    {
     "name": "stdout",
     "output_type": "stream",
     "text": [
      "Iteration 1 completed. Log-likelihood: -6387.304410651069\n",
      "Iteration 2 completed. Log-likelihood: -5165.673697245566\n",
      "Iteration 3 completed. Log-likelihood: -4987.492537428926\n",
      "Iteration 4 completed. Log-likelihood: -4816.282892777231\n",
      "Iteration 5 completed. Log-likelihood: -4682.384917311691\n",
      "Iteration 6 completed. Log-likelihood: -4585.2879327532455\n",
      "Iteration 7 completed. Log-likelihood: -4516.670516773062\n",
      "Iteration 8 completed. Log-likelihood: -4465.015923404474\n",
      "Iteration 9 completed. Log-likelihood: -4425.485094430815\n",
      "Iteration 10 completed. Log-likelihood: -4395.526184510233\n",
      "Stopped after 3.01 seconds, 10 iterations. Log-likelihood: -4395.526184510233.\n"
     ]
    }
   ],
   "source": [
    "hpf = hpf_vi()\n",
    "hpf.fit(expl,10, valid = test)"
   ]
  },
  {
   "cell_type": "code",
   "execution_count": 46,
   "metadata": {},
   "outputs": [],
   "source": [
    "pred = hpf.predicted / hpf.predicted.max() * 10"
   ]
  },
  {
   "cell_type": "code",
   "execution_count": 47,
   "metadata": {},
   "outputs": [],
   "source": [
    "hpf_pred = np.round(pred)"
   ]
  },
  {
   "cell_type": "code",
   "execution_count": 48,
   "metadata": {},
   "outputs": [
    {
     "data": {
      "text/plain": [
       "0.9092377735350272"
      ]
     },
     "execution_count": 48,
     "metadata": {},
     "output_type": "execute_result"
    }
   ],
   "source": [
    "scoring.multiclass_accuracy(train,test,hpf_pred)[0]"
   ]
  },
  {
   "cell_type": "code",
   "execution_count": 36,
   "metadata": {},
   "outputs": [
    {
     "name": "stdout",
     "output_type": "stream",
     "text": [
      "0.08333333333333333\n",
      "0.0\n",
      "0.0\n"
     ]
    }
   ],
   "source": [
    "from sklearn.metrics import accuracy_score\n",
    "print(accuracy_score(test[test>2],esbmr_pred[test>2]))\n",
    "print(accuracy_score(test[test>2],cf_pred[test>2]))\n",
    "print(accuracy_score(test[test>2],hpf_pred[test>2]))"
   ]
  },
  {
   "cell_type": "code",
   "execution_count": 35,
   "metadata": {},
   "outputs": [
    {
     "data": {
      "text/plain": [
       "Text(0.5, 1.0, 'Accuracy on high-valued interactions (more than 5)')"
      ]
     },
     "execution_count": 35,
     "metadata": {},
     "output_type": "execute_result"
    },
    {
     "data": {
      "image/png": "[encoded data removed]",
      "text/plain": [
       "<Figure size 864x576 with 3 Axes>"
      ]
     },
     "metadata": {
      "needs_background": "light"
     },
     "output_type": "display_data"
    }
   ],
   "source": [
    "# Explicit feedback dataset\n",
    "fig, ax = plt.subplots(figsize = (12,8), ncols = 3)\n",
    "\n",
    "index = np.arange(3)\n",
    "bar_width = 1\n",
    "\n",
    "objects = ('ESBMR', 'HPF')\n",
    "ax[0].bar(\"ESBMR\", height = accuracy_score(test[test>3],esbmr_pred[test>3]), alpha = 0.5)\n",
    "ax[0].set_ylim(top = 0.2)\n",
    "ax[1].bar(\"CF\", height = accuracy_score(test[test>3],cf_pred[test>3]), alpha = 0.5)\n",
    "ax[1].set_ylim(top = 0.2)\n",
    "ax[2].bar(\"HPF\", height = accuracy_score(test[test>3],hpf_pred[test>3]), alpha = 0.5, color = \"orange\")\n",
    "ax[2].set_ylim(top = 0.2)\n",
    "\n",
    "plt.title('Accuracy on high-valued interactions (more than 2)')\n",
    "\n",
    "# plt.show()"
   ]
  },
  {
   "cell_type": "markdown",
   "metadata": {},
   "source": [
    "## Performance metrics\n",
    "1. Mean squared Error (MSE): in-sample and out-of-sample\n",
    "2. Accuracy score\n",
    "3. Sensitivity: to do\n",
    "3. Area under the ROC curve (AUC) - <i> for implicit feedback only </i>\n",
    "4. Precision at-z"
   ]
  },
  {
   "cell_type": "markdown",
   "metadata": {},
   "source": [
    "### 1. Mean Squared Error"
   ]
  },
  {
   "cell_type": "code",
   "execution_count": 38,
   "metadata": {},
   "outputs": [
    {
     "data": {
      "text/plain": [
       "8.208841239535909"
      ]
     },
     "execution_count": 38,
     "metadata": {},
     "output_type": "execute_result"
    }
   ],
   "source": [
    "reload(scoring)\n",
    "scoring.mse(train, test, esbmr_pred) # rivedi"
   ]
  },
  {
   "cell_type": "code",
   "execution_count": 498,
   "metadata": {},
   "outputs": [
    {
     "name": "stdout",
     "output_type": "stream",
     "text": [
      "In-sample MSE. ESBMR: 4.3237111702366855. HPF: 4.093588629729193\n",
      "Out-of-sample MSE. ESBMR: 3.3902801318456586. HPF: 3.3902801318456586\n"
     ]
    },
    {
     "data": {
      "image/png": "[encoded data removed]",
      "image/svg+xml": [
       "<?xml version=\"1.0\" encoding=\"utf-8\" standalone=\"no\"?>\r\n",
       "<!DOCTYPE svg PUBLIC \"-//W3C//DTD SVG 1.1//EN\"\r\n",
       "  \"http://www.w3.org/Graphics/SVG/1.1/DTD/svg11.dtd\">\r\n",
       "<!-- Created with matplotlib (https://matplotlib.org/) -->\r\n",
       "<svg height=\"372.35625pt\" version=\"1.1\" viewBox=\"0 0 599.440625 372.35625\" width=\"599.440625pt\" xmlns=\"http://www.w3.org/2000/svg\" xmlns:xlink=\"http://www.w3.org/1999/xlink\">\r\n",
       " <defs>\r\n",
       "  <style type=\"text/css\">\r\n",
       "*{stroke-linecap:butt;stroke-linejoin:round;}\r\n",
       "  </style>\r\n",
       " </defs>\r\n",
       " <g id=\"figure_1\">\r\n",
       "  <g id=\"patch_1\">\r\n",
       "   <path d=\"M 0 372.35625 \r\n",
       "L 599.440625 372.35625 \r\n",
       "L 599.440625 0 \r\n",
       "L 0 0 \r\n",
       "z\r\n",
       "\" style=\"fill:none;\"/>\r\n",
       "  </g>\r\n",
       "  <g id=\"axes_1\">\r\n",
       "   <g id=\"patch_2\">\r\n",
       "    <path d=\"M 34.240625 348.478125 \r\n",
       "L 592.240625 348.478125 \r\n",
       "L 592.240625 22.318125 \r\n",
       "L 34.240625 22.318125 \r\n",
       "z\r\n",
       "\" style=\"fill:#ffffff;\"/>\r\n",
       "   </g>\r\n",
       "   <g id=\"patch_3\">\r\n",
       "    <path clip-path=\"url(#pd6dbf93a08)\" d=\"M 59.604261 348.478125 \r\n",
       "L 166.39852 348.478125 \r\n",
       "L 166.39852 66.433798 \r\n",
       "L 59.604261 66.433798 \r\n",
       "z\r\n",
       "\" style=\"fill:#1f77b4;opacity:0.5;\"/>\r\n",
       "   </g>\r\n",
       "   <g id=\"patch_4\">\r\n",
       "    <path clip-path=\"url(#pd6dbf93a08)\" d=\"M 193.097084 348.478125 \r\n",
       "L 299.891343 348.478125 \r\n",
       "L 299.891343 81.445152 \r\n",
       "L 193.097084 81.445152 \r\n",
       "z\r\n",
       "\" style=\"fill:#1f77b4;opacity:0.5;\"/>\r\n",
       "   </g>\r\n",
       "   <g id=\"patch_5\">\r\n",
       "    <path clip-path=\"url(#pd6dbf93a08)\" d=\"M 326.589907 348.478125 \r\n",
       "L 433.384166 348.478125 \r\n",
       "L 433.384166 127.323371 \r\n",
       "L 326.589907 127.323371 \r\n",
       "z\r\n",
       "\" style=\"fill:#ff7f0e;opacity:0.5;\"/>\r\n",
       "   </g>\r\n",
       "   <g id=\"patch_6\">\r\n",
       "    <path clip-path=\"url(#pd6dbf93a08)\" d=\"M 460.08273 348.478125 \r\n",
       "L 566.876989 348.478125 \r\n",
       "L 566.876989 127.323371 \r\n",
       "L 460.08273 127.323371 \r\n",
       "z\r\n",
       "\" style=\"fill:#ff7f0e;opacity:0.5;\"/>\r\n",
       "   </g>\r\n",
       "   <g id=\"matplotlib.axis_1\">\r\n",
       "    <g id=\"xtick_1\">\r\n",
       "     <g id=\"line2d_1\">\r\n",
       "      <defs>\r\n",
       "       <path d=\"M 0 0 \r\n",
       "L 0 3.5 \r\n",
       "\" id=\"mc3335cf430\" style=\"stroke:#000000;stroke-width:0.8;\"/>\r\n",
       "      </defs>\r\n",
       "      <g>\r\n",
       "       <use style=\"stroke:#000000;stroke-width:0.8;\" x=\"113.001391\" xlink:href=\"#mc3335cf430\" y=\"348.478125\"/>\r\n",
       "      </g>\r\n",
       "     </g>\r\n",
       "     <g id=\"text_1\">\r\n",
       "      <!-- ESBMR -->\r\n",
       "      <defs>\r\n",
       "       <path d=\"M 9.8125 72.90625 \r\n",
       "L 55.90625 72.90625 \r\n",
       "L 55.90625 64.59375 \r\n",
       "L 19.671875 64.59375 \r\n",
       "L 19.671875 43.015625 \r\n",
       "L 54.390625 43.015625 \r\n",
       "L 54.390625 34.71875 \r\n",
       "L 19.671875 34.71875 \r\n",
       "L 19.671875 8.296875 \r\n",
       "L 56.78125 8.296875 \r\n",
       "L 56.78125 0 \r\n",
       "L 9.8125 0 \r\n",
       "z\r\n",
       "\" id=\"DejaVuSans-69\"/>\r\n",
       "       <path d=\"M 53.515625 70.515625 \r\n",
       "L 53.515625 60.890625 \r\n",
       "Q 47.90625 63.578125 42.921875 64.890625 \r\n",
       "Q 37.9375 66.21875 33.296875 66.21875 \r\n",
       "Q 25.25 66.21875 20.875 63.09375 \r\n",
       "Q 16.5 59.96875 16.5 54.203125 \r\n",
       "Q 16.5 49.359375 19.40625 46.890625 \r\n",
       "Q 22.3125 44.4375 30.421875 42.921875 \r\n",
       "L 36.375 41.703125 \r\n",
       "Q 47.40625 39.59375 52.65625 34.296875 \r\n",
       "Q 57.90625 29 57.90625 20.125 \r\n",
       "Q 57.90625 9.515625 50.796875 4.046875 \r\n",
       "Q 43.703125 -1.421875 29.984375 -1.421875 \r\n",
       "Q 24.8125 -1.421875 18.96875 -0.25 \r\n",
       "Q 13.140625 0.921875 6.890625 3.21875 \r\n",
       "L 6.890625 13.375 \r\n",
       "Q 12.890625 10.015625 18.65625 8.296875 \r\n",
       "Q 24.421875 6.59375 29.984375 6.59375 \r\n",
       "Q 38.421875 6.59375 43.015625 9.90625 \r\n",
       "Q 47.609375 13.234375 47.609375 19.390625 \r\n",
       "Q 47.609375 24.75 44.3125 27.78125 \r\n",
       "Q 41.015625 30.8125 33.5 32.328125 \r\n",
       "L 27.484375 33.5 \r\n",
       "Q 16.453125 35.6875 11.515625 40.375 \r\n",
       "Q 6.59375 45.0625 6.59375 53.421875 \r\n",
       "Q 6.59375 63.09375 13.40625 68.65625 \r\n",
       "Q 20.21875 74.21875 32.171875 74.21875 \r\n",
       "Q 37.3125 74.21875 42.625 73.28125 \r\n",
       "Q 47.953125 72.359375 53.515625 70.515625 \r\n",
       "z\r\n",
       "\" id=\"DejaVuSans-83\"/>\r\n",
       "       <path d=\"M 19.671875 34.8125 \r\n",
       "L 19.671875 8.109375 \r\n",
       "L 35.5 8.109375 \r\n",
       "Q 43.453125 8.109375 47.28125 11.40625 \r\n",
       "Q 51.125 14.703125 51.125 21.484375 \r\n",
       "Q 51.125 28.328125 47.28125 31.5625 \r\n",
       "Q 43.453125 34.8125 35.5 34.8125 \r\n",
       "z\r\n",
       "M 19.671875 64.796875 \r\n",
       "L 19.671875 42.828125 \r\n",
       "L 34.28125 42.828125 \r\n",
       "Q 41.5 42.828125 45.03125 45.53125 \r\n",
       "Q 48.578125 48.25 48.578125 53.8125 \r\n",
       "Q 48.578125 59.328125 45.03125 62.0625 \r\n",
       "Q 41.5 64.796875 34.28125 64.796875 \r\n",
       "z\r\n",
       "M 9.8125 72.90625 \r\n",
       "L 35.015625 72.90625 \r\n",
       "Q 46.296875 72.90625 52.390625 68.21875 \r\n",
       "Q 58.5 63.53125 58.5 54.890625 \r\n",
       "Q 58.5 48.1875 55.375 44.234375 \r\n",
       "Q 52.25 40.28125 46.1875 39.3125 \r\n",
       "Q 53.46875 37.75 57.5 32.78125 \r\n",
       "Q 61.53125 27.828125 61.53125 20.40625 \r\n",
       "Q 61.53125 10.640625 54.890625 5.3125 \r\n",
       "Q 48.25 0 35.984375 0 \r\n",
       "L 9.8125 0 \r\n",
       "z\r\n",
       "\" id=\"DejaVuSans-66\"/>\r\n",
       "       <path d=\"M 9.8125 72.90625 \r\n",
       "L 24.515625 72.90625 \r\n",
       "L 43.109375 23.296875 \r\n",
       "L 61.8125 72.90625 \r\n",
       "L 76.515625 72.90625 \r\n",
       "L 76.515625 0 \r\n",
       "L 66.890625 0 \r\n",
       "L 66.890625 64.015625 \r\n",
       "L 48.09375 14.015625 \r\n",
       "L 38.1875 14.015625 \r\n",
       "L 19.390625 64.015625 \r\n",
       "L 19.390625 0 \r\n",
       "L 9.8125 0 \r\n",
       "z\r\n",
       "\" id=\"DejaVuSans-77\"/>\r\n",
       "       <path d=\"M 44.390625 34.1875 \r\n",
       "Q 47.5625 33.109375 50.5625 29.59375 \r\n",
       "Q 53.5625 26.078125 56.59375 19.921875 \r\n",
       "L 66.609375 0 \r\n",
       "L 56 0 \r\n",
       "L 46.6875 18.703125 \r\n",
       "Q 43.0625 26.03125 39.671875 28.421875 \r\n",
       "Q 36.28125 30.8125 30.421875 30.8125 \r\n",
       "L 19.671875 30.8125 \r\n",
       "L 19.671875 0 \r\n",
       "L 9.8125 0 \r\n",
       "L 9.8125 72.90625 \r\n",
       "L 32.078125 72.90625 \r\n",
       "Q 44.578125 72.90625 50.734375 67.671875 \r\n",
       "Q 56.890625 62.453125 56.890625 51.90625 \r\n",
       "Q 56.890625 45.015625 53.6875 40.46875 \r\n",
       "Q 50.484375 35.9375 44.390625 34.1875 \r\n",
       "z\r\n",
       "M 19.671875 64.796875 \r\n",
       "L 19.671875 38.921875 \r\n",
       "L 32.078125 38.921875 \r\n",
       "Q 39.203125 38.921875 42.84375 42.21875 \r\n",
       "Q 46.484375 45.515625 46.484375 51.90625 \r\n",
       "Q 46.484375 58.296875 42.84375 61.546875 \r\n",
       "Q 39.203125 64.796875 32.078125 64.796875 \r\n",
       "z\r\n",
       "\" id=\"DejaVuSans-82\"/>\r\n",
       "      </defs>\r\n",
       "      <g transform=\"translate(95.449047 363.076563)scale(0.1 -0.1)\">\r\n",
       "       <use xlink:href=\"#DejaVuSans-69\"/>\r\n",
       "       <use x=\"63.183594\" xlink:href=\"#DejaVuSans-83\"/>\r\n",
       "       <use x=\"126.660156\" xlink:href=\"#DejaVuSans-66\"/>\r\n",
       "       <use x=\"195.263672\" xlink:href=\"#DejaVuSans-77\"/>\r\n",
       "       <use x=\"281.542969\" xlink:href=\"#DejaVuSans-82\"/>\r\n",
       "      </g>\r\n",
       "     </g>\r\n",
       "    </g>\r\n",
       "    <g id=\"xtick_2\">\r\n",
       "     <g id=\"line2d_2\">\r\n",
       "      <g>\r\n",
       "       <use style=\"stroke:#000000;stroke-width:0.8;\" x=\"246.494214\" xlink:href=\"#mc3335cf430\" y=\"348.478125\"/>\r\n",
       "      </g>\r\n",
       "     </g>\r\n",
       "     <g id=\"text_2\">\r\n",
       "      <!-- HPF -->\r\n",
       "      <defs>\r\n",
       "       <path d=\"M 9.8125 72.90625 \r\n",
       "L 19.671875 72.90625 \r\n",
       "L 19.671875 43.015625 \r\n",
       "L 55.515625 43.015625 \r\n",
       "L 55.515625 72.90625 \r\n",
       "L 65.375 72.90625 \r\n",
       "L 65.375 0 \r\n",
       "L 55.515625 0 \r\n",
       "L 55.515625 34.71875 \r\n",
       "L 19.671875 34.71875 \r\n",
       "L 19.671875 0 \r\n",
       "L 9.8125 0 \r\n",
       "z\r\n",
       "\" id=\"DejaVuSans-72\"/>\r\n",
       "       <path d=\"M 19.671875 64.796875 \r\n",
       "L 19.671875 37.40625 \r\n",
       "L 32.078125 37.40625 \r\n",
       "Q 38.96875 37.40625 42.71875 40.96875 \r\n",
       "Q 46.484375 44.53125 46.484375 51.125 \r\n",
       "Q 46.484375 57.671875 42.71875 61.234375 \r\n",
       "Q 38.96875 64.796875 32.078125 64.796875 \r\n",
       "z\r\n",
       "M 9.8125 72.90625 \r\n",
       "L 32.078125 72.90625 \r\n",
       "Q 44.34375 72.90625 50.609375 67.359375 \r\n",
       "Q 56.890625 61.8125 56.890625 51.125 \r\n",
       "Q 56.890625 40.328125 50.609375 34.8125 \r\n",
       "Q 44.34375 29.296875 32.078125 29.296875 \r\n",
       "L 19.671875 29.296875 \r\n",
       "L 19.671875 0 \r\n",
       "L 9.8125 0 \r\n",
       "z\r\n",
       "\" id=\"DejaVuSans-80\"/>\r\n",
       "       <path d=\"M 9.8125 72.90625 \r\n",
       "L 51.703125 72.90625 \r\n",
       "L 51.703125 64.59375 \r\n",
       "L 19.671875 64.59375 \r\n",
       "L 19.671875 43.109375 \r\n",
       "L 48.578125 43.109375 \r\n",
       "L 48.578125 34.8125 \r\n",
       "L 19.671875 34.8125 \r\n",
       "L 19.671875 0 \r\n",
       "L 9.8125 0 \r\n",
       "z\r\n",
       "\" id=\"DejaVuSans-70\"/>\r\n",
       "      </defs>\r\n",
       "      <g transform=\"translate(236.843432 363.076563)scale(0.1 -0.1)\">\r\n",
       "       <use xlink:href=\"#DejaVuSans-72\"/>\r\n",
       "       <use x=\"75.195312\" xlink:href=\"#DejaVuSans-80\"/>\r\n",
       "       <use x=\"135.498047\" xlink:href=\"#DejaVuSans-70\"/>\r\n",
       "      </g>\r\n",
       "     </g>\r\n",
       "    </g>\r\n",
       "    <g id=\"xtick_3\">\r\n",
       "     <g id=\"line2d_3\">\r\n",
       "      <g>\r\n",
       "       <use style=\"stroke:#000000;stroke-width:0.8;\" x=\"379.987036\" xlink:href=\"#mc3335cf430\" y=\"348.478125\"/>\r\n",
       "      </g>\r\n",
       "     </g>\r\n",
       "     <g id=\"text_3\">\r\n",
       "      <!-- ESBMR -->\r\n",
       "      <g transform=\"translate(362.434693 363.076563)scale(0.1 -0.1)\">\r\n",
       "       <use xlink:href=\"#DejaVuSans-69\"/>\r\n",
       "       <use x=\"63.183594\" xlink:href=\"#DejaVuSans-83\"/>\r\n",
       "       <use x=\"126.660156\" xlink:href=\"#DejaVuSans-66\"/>\r\n",
       "       <use x=\"195.263672\" xlink:href=\"#DejaVuSans-77\"/>\r\n",
       "       <use x=\"281.542969\" xlink:href=\"#DejaVuSans-82\"/>\r\n",
       "      </g>\r\n",
       "     </g>\r\n",
       "    </g>\r\n",
       "    <g id=\"xtick_4\">\r\n",
       "     <g id=\"line2d_4\">\r\n",
       "      <g>\r\n",
       "       <use style=\"stroke:#000000;stroke-width:0.8;\" x=\"513.479859\" xlink:href=\"#mc3335cf430\" y=\"348.478125\"/>\r\n",
       "      </g>\r\n",
       "     </g>\r\n",
       "     <g id=\"text_4\">\r\n",
       "      <!-- HPF -->\r\n",
       "      <g transform=\"translate(503.829078 363.076563)scale(0.1 -0.1)\">\r\n",
       "       <use xlink:href=\"#DejaVuSans-72\"/>\r\n",
       "       <use x=\"75.195312\" xlink:href=\"#DejaVuSans-80\"/>\r\n",
       "       <use x=\"135.498047\" xlink:href=\"#DejaVuSans-70\"/>\r\n",
       "      </g>\r\n",
       "     </g>\r\n",
       "    </g>\r\n",
       "   </g>\r\n",
       "   <g id=\"matplotlib.axis_2\">\r\n",
       "    <g id=\"ytick_1\">\r\n",
       "     <g id=\"line2d_5\">\r\n",
       "      <defs>\r\n",
       "       <path d=\"M 0 0 \r\n",
       "L -3.5 0 \r\n",
       "\" id=\"m5624a45c0e\" style=\"stroke:#000000;stroke-width:0.8;\"/>\r\n",
       "      </defs>\r\n",
       "      <g>\r\n",
       "       <use style=\"stroke:#000000;stroke-width:0.8;\" x=\"34.240625\" xlink:href=\"#m5624a45c0e\" y=\"348.478125\"/>\r\n",
       "      </g>\r\n",
       "     </g>\r\n",
       "     <g id=\"text_5\">\r\n",
       "      <!-- 0 -->\r\n",
       "      <defs>\r\n",
       "       <path d=\"M 31.78125 66.40625 \r\n",
       "Q 24.171875 66.40625 20.328125 58.90625 \r\n",
       "Q 16.5 51.421875 16.5 36.375 \r\n",
       "Q 16.5 21.390625 20.328125 13.890625 \r\n",
       "Q 24.171875 6.390625 31.78125 6.390625 \r\n",
       "Q 39.453125 6.390625 43.28125 13.890625 \r\n",
       "Q 47.125 21.390625 47.125 36.375 \r\n",
       "Q 47.125 51.421875 43.28125 58.90625 \r\n",
       "Q 39.453125 66.40625 31.78125 66.40625 \r\n",
       "z\r\n",
       "M 31.78125 74.21875 \r\n",
       "Q 44.046875 74.21875 50.515625 64.515625 \r\n",
       "Q 56.984375 54.828125 56.984375 36.375 \r\n",
       "Q 56.984375 17.96875 50.515625 8.265625 \r\n",
       "Q 44.046875 -1.421875 31.78125 -1.421875 \r\n",
       "Q 19.53125 -1.421875 13.0625 8.265625 \r\n",
       "Q 6.59375 17.96875 6.59375 36.375 \r\n",
       "Q 6.59375 54.828125 13.0625 64.515625 \r\n",
       "Q 19.53125 74.21875 31.78125 74.21875 \r\n",
       "z\r\n",
       "\" id=\"DejaVuSans-48\"/>\r\n",
       "      </defs>\r\n",
       "      <g transform=\"translate(20.878125 352.277344)scale(0.1 -0.1)\">\r\n",
       "       <use xlink:href=\"#DejaVuSans-48\"/>\r\n",
       "      </g>\r\n",
       "     </g>\r\n",
       "    </g>\r\n",
       "    <g id=\"ytick_2\">\r\n",
       "     <g id=\"line2d_6\">\r\n",
       "      <g>\r\n",
       "       <use style=\"stroke:#000000;stroke-width:0.8;\" x=\"34.240625\" xlink:href=\"#m5624a45c0e\" y=\"283.246125\"/>\r\n",
       "      </g>\r\n",
       "     </g>\r\n",
       "     <g id=\"text_6\">\r\n",
       "      <!-- 1 -->\r\n",
       "      <defs>\r\n",
       "       <path d=\"M 12.40625 8.296875 \r\n",
       "L 28.515625 8.296875 \r\n",
       "L 28.515625 63.921875 \r\n",
       "L 10.984375 60.40625 \r\n",
       "L 10.984375 69.390625 \r\n",
       "L 28.421875 72.90625 \r\n",
       "L 38.28125 72.90625 \r\n",
       "L 38.28125 8.296875 \r\n",
       "L 54.390625 8.296875 \r\n",
       "L 54.390625 0 \r\n",
       "L 12.40625 0 \r\n",
       "z\r\n",
       "\" id=\"DejaVuSans-49\"/>\r\n",
       "      </defs>\r\n",
       "      <g transform=\"translate(20.878125 287.045344)scale(0.1 -0.1)\">\r\n",
       "       <use xlink:href=\"#DejaVuSans-49\"/>\r\n",
       "      </g>\r\n",
       "     </g>\r\n",
       "    </g>\r\n",
       "    <g id=\"ytick_3\">\r\n",
       "     <g id=\"line2d_7\">\r\n",
       "      <g>\r\n",
       "       <use style=\"stroke:#000000;stroke-width:0.8;\" x=\"34.240625\" xlink:href=\"#m5624a45c0e\" y=\"218.014125\"/>\r\n",
       "      </g>\r\n",
       "     </g>\r\n",
       "     <g id=\"text_7\">\r\n",
       "      <!-- 2 -->\r\n",
       "      <defs>\r\n",
       "       <path d=\"M 19.1875 8.296875 \r\n",
       "L 53.609375 8.296875 \r\n",
       "L 53.609375 0 \r\n",
       "L 7.328125 0 \r\n",
       "L 7.328125 8.296875 \r\n",
       "Q 12.9375 14.109375 22.625 23.890625 \r\n",
       "Q 32.328125 33.6875 34.8125 36.53125 \r\n",
       "Q 39.546875 41.84375 41.421875 45.53125 \r\n",
       "Q 43.3125 49.21875 43.3125 52.78125 \r\n",
       "Q 43.3125 58.59375 39.234375 62.25 \r\n",
       "Q 35.15625 65.921875 28.609375 65.921875 \r\n",
       "Q 23.96875 65.921875 18.8125 64.3125 \r\n",
       "Q 13.671875 62.703125 7.8125 59.421875 \r\n",
       "L 7.8125 69.390625 \r\n",
       "Q 13.765625 71.78125 18.9375 73 \r\n",
       "Q 24.125 74.21875 28.421875 74.21875 \r\n",
       "Q 39.75 74.21875 46.484375 68.546875 \r\n",
       "Q 53.21875 62.890625 53.21875 53.421875 \r\n",
       "Q 53.21875 48.921875 51.53125 44.890625 \r\n",
       "Q 49.859375 40.875 45.40625 35.40625 \r\n",
       "Q 44.1875 33.984375 37.640625 27.21875 \r\n",
       "Q 31.109375 20.453125 19.1875 8.296875 \r\n",
       "z\r\n",
       "\" id=\"DejaVuSans-50\"/>\r\n",
       "      </defs>\r\n",
       "      <g transform=\"translate(20.878125 221.813344)scale(0.1 -0.1)\">\r\n",
       "       <use xlink:href=\"#DejaVuSans-50\"/>\r\n",
       "      </g>\r\n",
       "     </g>\r\n",
       "    </g>\r\n",
       "    <g id=\"ytick_4\">\r\n",
       "     <g id=\"line2d_8\">\r\n",
       "      <g>\r\n",
       "       <use style=\"stroke:#000000;stroke-width:0.8;\" x=\"34.240625\" xlink:href=\"#m5624a45c0e\" y=\"152.782125\"/>\r\n",
       "      </g>\r\n",
       "     </g>\r\n",
       "     <g id=\"text_8\">\r\n",
       "      <!-- 3 -->\r\n",
       "      <defs>\r\n",
       "       <path d=\"M 40.578125 39.3125 \r\n",
       "Q 47.65625 37.796875 51.625 33 \r\n",
       "Q 55.609375 28.21875 55.609375 21.1875 \r\n",
       "Q 55.609375 10.40625 48.1875 4.484375 \r\n",
       "Q 40.765625 -1.421875 27.09375 -1.421875 \r\n",
       "Q 22.515625 -1.421875 17.65625 -0.515625 \r\n",
       "Q 12.796875 0.390625 7.625 2.203125 \r\n",
       "L 7.625 11.71875 \r\n",
       "Q 11.71875 9.328125 16.59375 8.109375 \r\n",
       "Q 21.484375 6.890625 26.8125 6.890625 \r\n",
       "Q 36.078125 6.890625 40.9375 10.546875 \r\n",
       "Q 45.796875 14.203125 45.796875 21.1875 \r\n",
       "Q 45.796875 27.640625 41.28125 31.265625 \r\n",
       "Q 36.765625 34.90625 28.71875 34.90625 \r\n",
       "L 20.21875 34.90625 \r\n",
       "L 20.21875 43.015625 \r\n",
       "L 29.109375 43.015625 \r\n",
       "Q 36.375 43.015625 40.234375 45.921875 \r\n",
       "Q 44.09375 48.828125 44.09375 54.296875 \r\n",
       "Q 44.09375 59.90625 40.109375 62.90625 \r\n",
       "Q 36.140625 65.921875 28.71875 65.921875 \r\n",
       "Q 24.65625 65.921875 20.015625 65.03125 \r\n",
       "Q 15.375 64.15625 9.8125 62.3125 \r\n",
       "L 9.8125 71.09375 \r\n",
       "Q 15.4375 72.65625 20.34375 73.4375 \r\n",
       "Q 25.25 74.21875 29.59375 74.21875 \r\n",
       "Q 40.828125 74.21875 47.359375 69.109375 \r\n",
       "Q 53.90625 64.015625 53.90625 55.328125 \r\n",
       "Q 53.90625 49.265625 50.4375 45.09375 \r\n",
       "Q 46.96875 40.921875 40.578125 39.3125 \r\n",
       "z\r\n",
       "\" id=\"DejaVuSans-51\"/>\r\n",
       "      </defs>\r\n",
       "      <g transform=\"translate(20.878125 156.581344)scale(0.1 -0.1)\">\r\n",
       "       <use xlink:href=\"#DejaVuSans-51\"/>\r\n",
       "      </g>\r\n",
       "     </g>\r\n",
       "    </g>\r\n",
       "    <g id=\"ytick_5\">\r\n",
       "     <g id=\"line2d_9\">\r\n",
       "      <g>\r\n",
       "       <use style=\"stroke:#000000;stroke-width:0.8;\" x=\"34.240625\" xlink:href=\"#m5624a45c0e\" y=\"87.550125\"/>\r\n",
       "      </g>\r\n",
       "     </g>\r\n",
       "     <g id=\"text_9\">\r\n",
       "      <!-- 4 -->\r\n",
       "      <defs>\r\n",
       "       <path d=\"M 37.796875 64.3125 \r\n",
       "L 12.890625 25.390625 \r\n",
       "L 37.796875 25.390625 \r\n",
       "z\r\n",
       "M 35.203125 72.90625 \r\n",
       "L 47.609375 72.90625 \r\n",
       "L 47.609375 25.390625 \r\n",
       "L 58.015625 25.390625 \r\n",
       "L 58.015625 17.1875 \r\n",
       "L 47.609375 17.1875 \r\n",
       "L 47.609375 0 \r\n",
       "L 37.796875 0 \r\n",
       "L 37.796875 17.1875 \r\n",
       "L 4.890625 17.1875 \r\n",
       "L 4.890625 26.703125 \r\n",
       "z\r\n",
       "\" id=\"DejaVuSans-52\"/>\r\n",
       "      </defs>\r\n",
       "      <g transform=\"translate(20.878125 91.349344)scale(0.1 -0.1)\">\r\n",
       "       <use xlink:href=\"#DejaVuSans-52\"/>\r\n",
       "      </g>\r\n",
       "     </g>\r\n",
       "    </g>\r\n",
       "    <g id=\"ytick_6\">\r\n",
       "     <g id=\"line2d_10\">\r\n",
       "      <g>\r\n",
       "       <use style=\"stroke:#000000;stroke-width:0.8;\" x=\"34.240625\" xlink:href=\"#m5624a45c0e\" y=\"22.318125\"/>\r\n",
       "      </g>\r\n",
       "     </g>\r\n",
       "     <g id=\"text_10\">\r\n",
       "      <!-- 5 -->\r\n",
       "      <defs>\r\n",
       "       <path d=\"M 10.796875 72.90625 \r\n",
       "L 49.515625 72.90625 \r\n",
       "L 49.515625 64.59375 \r\n",
       "L 19.828125 64.59375 \r\n",
       "L 19.828125 46.734375 \r\n",
       "Q 21.96875 47.46875 24.109375 47.828125 \r\n",
       "Q 26.265625 48.1875 28.421875 48.1875 \r\n",
       "Q 40.625 48.1875 47.75 41.5 \r\n",
       "Q 54.890625 34.8125 54.890625 23.390625 \r\n",
       "Q 54.890625 11.625 47.5625 5.09375 \r\n",
       "Q 40.234375 -1.421875 26.90625 -1.421875 \r\n",
       "Q 22.3125 -1.421875 17.546875 -0.640625 \r\n",
       "Q 12.796875 0.140625 7.71875 1.703125 \r\n",
       "L 7.71875 11.625 \r\n",
       "Q 12.109375 9.234375 16.796875 8.0625 \r\n",
       "Q 21.484375 6.890625 26.703125 6.890625 \r\n",
       "Q 35.15625 6.890625 40.078125 11.328125 \r\n",
       "Q 45.015625 15.765625 45.015625 23.390625 \r\n",
       "Q 45.015625 31 40.078125 35.4375 \r\n",
       "Q 35.15625 39.890625 26.703125 39.890625 \r\n",
       "Q 22.75 39.890625 18.8125 39.015625 \r\n",
       "Q 14.890625 38.140625 10.796875 36.28125 \r\n",
       "z\r\n",
       "\" id=\"DejaVuSans-53\"/>\r\n",
       "      </defs>\r\n",
       "      <g transform=\"translate(20.878125 26.117344)scale(0.1 -0.1)\">\r\n",
       "       <use xlink:href=\"#DejaVuSans-53\"/>\r\n",
       "      </g>\r\n",
       "     </g>\r\n",
       "    </g>\r\n",
       "    <g id=\"text_11\">\r\n",
       "     <!-- Error -->\r\n",
       "     <defs>\r\n",
       "      <path d=\"M 41.109375 46.296875 \r\n",
       "Q 39.59375 47.171875 37.8125 47.578125 \r\n",
       "Q 36.03125 48 33.890625 48 \r\n",
       "Q 26.265625 48 22.1875 43.046875 \r\n",
       "Q 18.109375 38.09375 18.109375 28.8125 \r\n",
       "L 18.109375 0 \r\n",
       "L 9.078125 0 \r\n",
       "L 9.078125 54.6875 \r\n",
       "L 18.109375 54.6875 \r\n",
       "L 18.109375 46.1875 \r\n",
       "Q 20.953125 51.171875 25.484375 53.578125 \r\n",
       "Q 30.03125 56 36.53125 56 \r\n",
       "Q 37.453125 56 38.578125 55.875 \r\n",
       "Q 39.703125 55.765625 41.0625 55.515625 \r\n",
       "z\r\n",
       "\" id=\"DejaVuSans-114\"/>\r\n",
       "      <path d=\"M 30.609375 48.390625 \r\n",
       "Q 23.390625 48.390625 19.1875 42.75 \r\n",
       "Q 14.984375 37.109375 14.984375 27.296875 \r\n",
       "Q 14.984375 17.484375 19.15625 11.84375 \r\n",
       "Q 23.34375 6.203125 30.609375 6.203125 \r\n",
       "Q 37.796875 6.203125 41.984375 11.859375 \r\n",
       "Q 46.1875 17.53125 46.1875 27.296875 \r\n",
       "Q 46.1875 37.015625 41.984375 42.703125 \r\n",
       "Q 37.796875 48.390625 30.609375 48.390625 \r\n",
       "z\r\n",
       "M 30.609375 56 \r\n",
       "Q 42.328125 56 49.015625 48.375 \r\n",
       "Q 55.71875 40.765625 55.71875 27.296875 \r\n",
       "Q 55.71875 13.875 49.015625 6.21875 \r\n",
       "Q 42.328125 -1.421875 30.609375 -1.421875 \r\n",
       "Q 18.84375 -1.421875 12.171875 6.21875 \r\n",
       "Q 5.515625 13.875 5.515625 27.296875 \r\n",
       "Q 5.515625 40.765625 12.171875 48.375 \r\n",
       "Q 18.84375 56 30.609375 56 \r\n",
       "z\r\n",
       "\" id=\"DejaVuSans-111\"/>\r\n",
       "     </defs>\r\n",
       "     <g transform=\"translate(14.798438 197.583281)rotate(-90)scale(0.1 -0.1)\">\r\n",
       "      <use xlink:href=\"#DejaVuSans-69\"/>\r\n",
       "      <use x=\"63.183594\" xlink:href=\"#DejaVuSans-114\"/>\r\n",
       "      <use x=\"102.546875\" xlink:href=\"#DejaVuSans-114\"/>\r\n",
       "      <use x=\"141.410156\" xlink:href=\"#DejaVuSans-111\"/>\r\n",
       "      <use x=\"202.591797\" xlink:href=\"#DejaVuSans-114\"/>\r\n",
       "     </g>\r\n",
       "    </g>\r\n",
       "   </g>\r\n",
       "   <g id=\"patch_7\">\r\n",
       "    <path d=\"M 34.240625 348.478125 \r\n",
       "L 34.240625 22.318125 \r\n",
       "\" style=\"fill:none;stroke:#000000;stroke-linecap:square;stroke-linejoin:miter;stroke-width:0.8;\"/>\r\n",
       "   </g>\r\n",
       "   <g id=\"patch_8\">\r\n",
       "    <path d=\"M 592.240625 348.478125 \r\n",
       "L 592.240625 22.318125 \r\n",
       "\" style=\"fill:none;stroke:#000000;stroke-linecap:square;stroke-linejoin:miter;stroke-width:0.8;\"/>\r\n",
       "   </g>\r\n",
       "   <g id=\"patch_9\">\r\n",
       "    <path d=\"M 34.240625 348.478125 \r\n",
       "L 592.240625 348.478125 \r\n",
       "\" style=\"fill:none;stroke:#000000;stroke-linecap:square;stroke-linejoin:miter;stroke-width:0.8;\"/>\r\n",
       "   </g>\r\n",
       "   <g id=\"patch_10\">\r\n",
       "    <path d=\"M 34.240625 22.318125 \r\n",
       "L 592.240625 22.318125 \r\n",
       "\" style=\"fill:none;stroke:#000000;stroke-linecap:square;stroke-linejoin:miter;stroke-width:0.8;\"/>\r\n",
       "   </g>\r\n",
       "   <g id=\"text_12\">\r\n",
       "    <!-- Mean Squared Error - in-sample vs. out-of-sample (lower is better) -->\r\n",
       "    <defs>\r\n",
       "     <path d=\"M 56.203125 29.59375 \r\n",
       "L 56.203125 25.203125 \r\n",
       "L 14.890625 25.203125 \r\n",
       "Q 15.484375 15.921875 20.484375 11.0625 \r\n",
       "Q 25.484375 6.203125 34.421875 6.203125 \r\n",
       "Q 39.59375 6.203125 44.453125 7.46875 \r\n",
       "Q 49.3125 8.734375 54.109375 11.28125 \r\n",
       "L 54.109375 2.78125 \r\n",
       "Q 49.265625 0.734375 44.1875 -0.34375 \r\n",
       "Q 39.109375 -1.421875 33.890625 -1.421875 \r\n",
       "Q 20.796875 -1.421875 13.15625 6.1875 \r\n",
       "Q 5.515625 13.8125 5.515625 26.8125 \r\n",
       "Q 5.515625 40.234375 12.765625 48.109375 \r\n",
       "Q 20.015625 56 32.328125 56 \r\n",
       "Q 43.359375 56 49.78125 48.890625 \r\n",
       "Q 56.203125 41.796875 56.203125 29.59375 \r\n",
       "z\r\n",
       "M 47.21875 32.234375 \r\n",
       "Q 47.125 39.59375 43.09375 43.984375 \r\n",
       "Q 39.0625 48.390625 32.421875 48.390625 \r\n",
       "Q 24.90625 48.390625 20.390625 44.140625 \r\n",
       "Q 15.875 39.890625 15.1875 32.171875 \r\n",
       "z\r\n",
       "\" id=\"DejaVuSans-101\"/>\r\n",
       "     <path d=\"M 34.28125 27.484375 \r\n",
       "Q 23.390625 27.484375 19.1875 25 \r\n",
       "Q 14.984375 22.515625 14.984375 16.5 \r\n",
       "Q 14.984375 11.71875 18.140625 8.90625 \r\n",
       "Q 21.296875 6.109375 26.703125 6.109375 \r\n",
       "Q 34.1875 6.109375 38.703125 11.40625 \r\n",
       "Q 43.21875 16.703125 43.21875 25.484375 \r\n",
       "L 43.21875 27.484375 \r\n",
       "z\r\n",
       "M 52.203125 31.203125 \r\n",
       "L 52.203125 0 \r\n",
       "L 43.21875 0 \r\n",
       "L 43.21875 8.296875 \r\n",
       "Q 40.140625 3.328125 35.546875 0.953125 \r\n",
       "Q 30.953125 -1.421875 24.3125 -1.421875 \r\n",
       "Q 15.921875 -1.421875 10.953125 3.296875 \r\n",
       "Q 6 8.015625 6 15.921875 \r\n",
       "Q 6 25.140625 12.171875 29.828125 \r\n",
       "Q 18.359375 34.515625 30.609375 34.515625 \r\n",
       "L 43.21875 34.515625 \r\n",
       "L 43.21875 35.40625 \r\n",
       "Q 43.21875 41.609375 39.140625 45 \r\n",
       "Q 35.0625 48.390625 27.6875 48.390625 \r\n",
       "Q 23 48.390625 18.546875 47.265625 \r\n",
       "Q 14.109375 46.140625 10.015625 43.890625 \r\n",
       "L 10.015625 52.203125 \r\n",
       "Q 14.9375 54.109375 19.578125 55.046875 \r\n",
       "Q 24.21875 56 28.609375 56 \r\n",
       "Q 40.484375 56 46.34375 49.84375 \r\n",
       "Q 52.203125 43.703125 52.203125 31.203125 \r\n",
       "z\r\n",
       "\" id=\"DejaVuSans-97\"/>\r\n",
       "     <path d=\"M 54.890625 33.015625 \r\n",
       "L 54.890625 0 \r\n",
       "L 45.90625 0 \r\n",
       "L 45.90625 32.71875 \r\n",
       "Q 45.90625 40.484375 42.875 44.328125 \r\n",
       "Q 39.84375 48.1875 33.796875 48.1875 \r\n",
       "Q 26.515625 48.1875 22.3125 43.546875 \r\n",
       "Q 18.109375 38.921875 18.109375 30.90625 \r\n",
       "L 18.109375 0 \r\n",
       "L 9.078125 0 \r\n",
       "L 9.078125 54.6875 \r\n",
       "L 18.109375 54.6875 \r\n",
       "L 18.109375 46.1875 \r\n",
       "Q 21.34375 51.125 25.703125 53.5625 \r\n",
       "Q 30.078125 56 35.796875 56 \r\n",
       "Q 45.21875 56 50.046875 50.171875 \r\n",
       "Q 54.890625 44.34375 54.890625 33.015625 \r\n",
       "z\r\n",
       "\" id=\"DejaVuSans-110\"/>\r\n",
       "     <path id=\"DejaVuSans-32\"/>\r\n",
       "     <path d=\"M 14.796875 27.296875 \r\n",
       "Q 14.796875 17.390625 18.875 11.75 \r\n",
       "Q 22.953125 6.109375 30.078125 6.109375 \r\n",
       "Q 37.203125 6.109375 41.296875 11.75 \r\n",
       "Q 45.40625 17.390625 45.40625 27.296875 \r\n",
       "Q 45.40625 37.203125 41.296875 42.84375 \r\n",
       "Q 37.203125 48.484375 30.078125 48.484375 \r\n",
       "Q 22.953125 48.484375 18.875 42.84375 \r\n",
       "Q 14.796875 37.203125 14.796875 27.296875 \r\n",
       "z\r\n",
       "M 45.40625 8.203125 \r\n",
       "Q 42.578125 3.328125 38.25 0.953125 \r\n",
       "Q 33.9375 -1.421875 27.875 -1.421875 \r\n",
       "Q 17.96875 -1.421875 11.734375 6.484375 \r\n",
       "Q 5.515625 14.40625 5.515625 27.296875 \r\n",
       "Q 5.515625 40.1875 11.734375 48.09375 \r\n",
       "Q 17.96875 56 27.875 56 \r\n",
       "Q 33.9375 56 38.25 53.625 \r\n",
       "Q 42.578125 51.265625 45.40625 46.390625 \r\n",
       "L 45.40625 54.6875 \r\n",
       "L 54.390625 54.6875 \r\n",
       "L 54.390625 -20.796875 \r\n",
       "L 45.40625 -20.796875 \r\n",
       "z\r\n",
       "\" id=\"DejaVuSans-113\"/>\r\n",
       "     <path d=\"M 8.5 21.578125 \r\n",
       "L 8.5 54.6875 \r\n",
       "L 17.484375 54.6875 \r\n",
       "L 17.484375 21.921875 \r\n",
       "Q 17.484375 14.15625 20.5 10.265625 \r\n",
       "Q 23.53125 6.390625 29.59375 6.390625 \r\n",
       "Q 36.859375 6.390625 41.078125 11.03125 \r\n",
       "Q 45.3125 15.671875 45.3125 23.6875 \r\n",
       "L 45.3125 54.6875 \r\n",
       "L 54.296875 54.6875 \r\n",
       "L 54.296875 0 \r\n",
       "L 45.3125 0 \r\n",
       "L 45.3125 8.40625 \r\n",
       "Q 42.046875 3.421875 37.71875 1 \r\n",
       "Q 33.40625 -1.421875 27.6875 -1.421875 \r\n",
       "Q 18.265625 -1.421875 13.375 4.4375 \r\n",
       "Q 8.5 10.296875 8.5 21.578125 \r\n",
       "z\r\n",
       "M 31.109375 56 \r\n",
       "z\r\n",
       "\" id=\"DejaVuSans-117\"/>\r\n",
       "     <path d=\"M 45.40625 46.390625 \r\n",
       "L 45.40625 75.984375 \r\n",
       "L 54.390625 75.984375 \r\n",
       "L 54.390625 0 \r\n",
       "L 45.40625 0 \r\n",
       "L 45.40625 8.203125 \r\n",
       "Q 42.578125 3.328125 38.25 0.953125 \r\n",
       "Q 33.9375 -1.421875 27.875 -1.421875 \r\n",
       "Q 17.96875 -1.421875 11.734375 6.484375 \r\n",
       "Q 5.515625 14.40625 5.515625 27.296875 \r\n",
       "Q 5.515625 40.1875 11.734375 48.09375 \r\n",
       "Q 17.96875 56 27.875 56 \r\n",
       "Q 33.9375 56 38.25 53.625 \r\n",
       "Q 42.578125 51.265625 45.40625 46.390625 \r\n",
       "z\r\n",
       "M 14.796875 27.296875 \r\n",
       "Q 14.796875 17.390625 18.875 11.75 \r\n",
       "Q 22.953125 6.109375 30.078125 6.109375 \r\n",
       "Q 37.203125 6.109375 41.296875 11.75 \r\n",
       "Q 45.40625 17.390625 45.40625 27.296875 \r\n",
       "Q 45.40625 37.203125 41.296875 42.84375 \r\n",
       "Q 37.203125 48.484375 30.078125 48.484375 \r\n",
       "Q 22.953125 48.484375 18.875 42.84375 \r\n",
       "Q 14.796875 37.203125 14.796875 27.296875 \r\n",
       "z\r\n",
       "\" id=\"DejaVuSans-100\"/>\r\n",
       "     <path d=\"M 4.890625 31.390625 \r\n",
       "L 31.203125 31.390625 \r\n",
       "L 31.203125 23.390625 \r\n",
       "L 4.890625 23.390625 \r\n",
       "z\r\n",
       "\" id=\"DejaVuSans-45\"/>\r\n",
       "     <path d=\"M 9.421875 54.6875 \r\n",
       "L 18.40625 54.6875 \r\n",
       "L 18.40625 0 \r\n",
       "L 9.421875 0 \r\n",
       "z\r\n",
       "M 9.421875 75.984375 \r\n",
       "L 18.40625 75.984375 \r\n",
       "L 18.40625 64.59375 \r\n",
       "L 9.421875 64.59375 \r\n",
       "z\r\n",
       "\" id=\"DejaVuSans-105\"/>\r\n",
       "     <path d=\"M 44.28125 53.078125 \r\n",
       "L 44.28125 44.578125 \r\n",
       "Q 40.484375 46.53125 36.375 47.5 \r\n",
       "Q 32.28125 48.484375 27.875 48.484375 \r\n",
       "Q 21.1875 48.484375 17.84375 46.4375 \r\n",
       "Q 14.5 44.390625 14.5 40.28125 \r\n",
       "Q 14.5 37.15625 16.890625 35.375 \r\n",
       "Q 19.28125 33.59375 26.515625 31.984375 \r\n",
       "L 29.59375 31.296875 \r\n",
       "Q 39.15625 29.25 43.1875 25.515625 \r\n",
       "Q 47.21875 21.78125 47.21875 15.09375 \r\n",
       "Q 47.21875 7.46875 41.1875 3.015625 \r\n",
       "Q 35.15625 -1.421875 24.609375 -1.421875 \r\n",
       "Q 20.21875 -1.421875 15.453125 -0.5625 \r\n",
       "Q 10.6875 0.296875 5.421875 2 \r\n",
       "L 5.421875 11.28125 \r\n",
       "Q 10.40625 8.6875 15.234375 7.390625 \r\n",
       "Q 20.0625 6.109375 24.8125 6.109375 \r\n",
       "Q 31.15625 6.109375 34.5625 8.28125 \r\n",
       "Q 37.984375 10.453125 37.984375 14.40625 \r\n",
       "Q 37.984375 18.0625 35.515625 20.015625 \r\n",
       "Q 33.0625 21.96875 24.703125 23.78125 \r\n",
       "L 21.578125 24.515625 \r\n",
       "Q 13.234375 26.265625 9.515625 29.90625 \r\n",
       "Q 5.8125 33.546875 5.8125 39.890625 \r\n",
       "Q 5.8125 47.609375 11.28125 51.796875 \r\n",
       "Q 16.75 56 26.8125 56 \r\n",
       "Q 31.78125 56 36.171875 55.265625 \r\n",
       "Q 40.578125 54.546875 44.28125 53.078125 \r\n",
       "z\r\n",
       "\" id=\"DejaVuSans-115\"/>\r\n",
       "     <path d=\"M 52 44.1875 \r\n",
       "Q 55.375 50.25 60.0625 53.125 \r\n",
       "Q 64.75 56 71.09375 56 \r\n",
       "Q 79.640625 56 84.28125 50.015625 \r\n",
       "Q 88.921875 44.046875 88.921875 33.015625 \r\n",
       "L 88.921875 0 \r\n",
       "L 79.890625 0 \r\n",
       "L 79.890625 32.71875 \r\n",
       "Q 79.890625 40.578125 77.09375 44.375 \r\n",
       "Q 74.3125 48.1875 68.609375 48.1875 \r\n",
       "Q 61.625 48.1875 57.5625 43.546875 \r\n",
       "Q 53.515625 38.921875 53.515625 30.90625 \r\n",
       "L 53.515625 0 \r\n",
       "L 44.484375 0 \r\n",
       "L 44.484375 32.71875 \r\n",
       "Q 44.484375 40.625 41.703125 44.40625 \r\n",
       "Q 38.921875 48.1875 33.109375 48.1875 \r\n",
       "Q 26.21875 48.1875 22.15625 43.53125 \r\n",
       "Q 18.109375 38.875 18.109375 30.90625 \r\n",
       "L 18.109375 0 \r\n",
       "L 9.078125 0 \r\n",
       "L 9.078125 54.6875 \r\n",
       "L 18.109375 54.6875 \r\n",
       "L 18.109375 46.1875 \r\n",
       "Q 21.1875 51.21875 25.484375 53.609375 \r\n",
       "Q 29.78125 56 35.6875 56 \r\n",
       "Q 41.65625 56 45.828125 52.96875 \r\n",
       "Q 50 49.953125 52 44.1875 \r\n",
       "z\r\n",
       "\" id=\"DejaVuSans-109\"/>\r\n",
       "     <path d=\"M 18.109375 8.203125 \r\n",
       "L 18.109375 -20.796875 \r\n",
       "L 9.078125 -20.796875 \r\n",
       "L 9.078125 54.6875 \r\n",
       "L 18.109375 54.6875 \r\n",
       "L 18.109375 46.390625 \r\n",
       "Q 20.953125 51.265625 25.265625 53.625 \r\n",
       "Q 29.59375 56 35.59375 56 \r\n",
       "Q 45.5625 56 51.78125 48.09375 \r\n",
       "Q 58.015625 40.1875 58.015625 27.296875 \r\n",
       "Q 58.015625 14.40625 51.78125 6.484375 \r\n",
       "Q 45.5625 -1.421875 35.59375 -1.421875 \r\n",
       "Q 29.59375 -1.421875 25.265625 0.953125 \r\n",
       "Q 20.953125 3.328125 18.109375 8.203125 \r\n",
       "z\r\n",
       "M 48.6875 27.296875 \r\n",
       "Q 48.6875 37.203125 44.609375 42.84375 \r\n",
       "Q 40.53125 48.484375 33.40625 48.484375 \r\n",
       "Q 26.265625 48.484375 22.1875 42.84375 \r\n",
       "Q 18.109375 37.203125 18.109375 27.296875 \r\n",
       "Q 18.109375 17.390625 22.1875 11.75 \r\n",
       "Q 26.265625 6.109375 33.40625 6.109375 \r\n",
       "Q 40.53125 6.109375 44.609375 11.75 \r\n",
       "Q 48.6875 17.390625 48.6875 27.296875 \r\n",
       "z\r\n",
       "\" id=\"DejaVuSans-112\"/>\r\n",
       "     <path d=\"M 9.421875 75.984375 \r\n",
       "L 18.40625 75.984375 \r\n",
       "L 18.40625 0 \r\n",
       "L 9.421875 0 \r\n",
       "z\r\n",
       "\" id=\"DejaVuSans-108\"/>\r\n",
       "     <path d=\"M 2.984375 54.6875 \r\n",
       "L 12.5 54.6875 \r\n",
       "L 29.59375 8.796875 \r\n",
       "L 46.6875 54.6875 \r\n",
       "L 56.203125 54.6875 \r\n",
       "L 35.6875 0 \r\n",
       "L 23.484375 0 \r\n",
       "z\r\n",
       "\" id=\"DejaVuSans-118\"/>\r\n",
       "     <path d=\"M 10.6875 12.40625 \r\n",
       "L 21 12.40625 \r\n",
       "L 21 0 \r\n",
       "L 10.6875 0 \r\n",
       "z\r\n",
       "\" id=\"DejaVuSans-46\"/>\r\n",
       "     <path d=\"M 18.3125 70.21875 \r\n",
       "L 18.3125 54.6875 \r\n",
       "L 36.8125 54.6875 \r\n",
       "L 36.8125 47.703125 \r\n",
       "L 18.3125 47.703125 \r\n",
       "L 18.3125 18.015625 \r\n",
       "Q 18.3125 11.328125 20.140625 9.421875 \r\n",
       "Q 21.96875 7.515625 27.59375 7.515625 \r\n",
       "L 36.8125 7.515625 \r\n",
       "L 36.8125 0 \r\n",
       "L 27.59375 0 \r\n",
       "Q 17.1875 0 13.234375 3.875 \r\n",
       "Q 9.28125 7.765625 9.28125 18.015625 \r\n",
       "L 9.28125 47.703125 \r\n",
       "L 2.6875 47.703125 \r\n",
       "L 2.6875 54.6875 \r\n",
       "L 9.28125 54.6875 \r\n",
       "L 9.28125 70.21875 \r\n",
       "z\r\n",
       "\" id=\"DejaVuSans-116\"/>\r\n",
       "     <path d=\"M 37.109375 75.984375 \r\n",
       "L 37.109375 68.5 \r\n",
       "L 28.515625 68.5 \r\n",
       "Q 23.6875 68.5 21.796875 66.546875 \r\n",
       "Q 19.921875 64.59375 19.921875 59.515625 \r\n",
       "L 19.921875 54.6875 \r\n",
       "L 34.71875 54.6875 \r\n",
       "L 34.71875 47.703125 \r\n",
       "L 19.921875 47.703125 \r\n",
       "L 19.921875 0 \r\n",
       "L 10.890625 0 \r\n",
       "L 10.890625 47.703125 \r\n",
       "L 2.296875 47.703125 \r\n",
       "L 2.296875 54.6875 \r\n",
       "L 10.890625 54.6875 \r\n",
       "L 10.890625 58.5 \r\n",
       "Q 10.890625 67.625 15.140625 71.796875 \r\n",
       "Q 19.390625 75.984375 28.609375 75.984375 \r\n",
       "z\r\n",
       "\" id=\"DejaVuSans-102\"/>\r\n",
       "     <path d=\"M 31 75.875 \r\n",
       "Q 24.46875 64.65625 21.28125 53.65625 \r\n",
       "Q 18.109375 42.671875 18.109375 31.390625 \r\n",
       "Q 18.109375 20.125 21.3125 9.0625 \r\n",
       "Q 24.515625 -2 31 -13.1875 \r\n",
       "L 23.1875 -13.1875 \r\n",
       "Q 15.875 -1.703125 12.234375 9.375 \r\n",
       "Q 8.59375 20.453125 8.59375 31.390625 \r\n",
       "Q 8.59375 42.28125 12.203125 53.3125 \r\n",
       "Q 15.828125 64.359375 23.1875 75.875 \r\n",
       "z\r\n",
       "\" id=\"DejaVuSans-40\"/>\r\n",
       "     <path d=\"M 4.203125 54.6875 \r\n",
       "L 13.1875 54.6875 \r\n",
       "L 24.421875 12.015625 \r\n",
       "L 35.59375 54.6875 \r\n",
       "L 46.1875 54.6875 \r\n",
       "L 57.421875 12.015625 \r\n",
       "L 68.609375 54.6875 \r\n",
       "L 77.59375 54.6875 \r\n",
       "L 63.28125 0 \r\n",
       "L 52.6875 0 \r\n",
       "L 40.921875 44.828125 \r\n",
       "L 29.109375 0 \r\n",
       "L 18.5 0 \r\n",
       "z\r\n",
       "\" id=\"DejaVuSans-119\"/>\r\n",
       "     <path d=\"M 48.6875 27.296875 \r\n",
       "Q 48.6875 37.203125 44.609375 42.84375 \r\n",
       "Q 40.53125 48.484375 33.40625 48.484375 \r\n",
       "Q 26.265625 48.484375 22.1875 42.84375 \r\n",
       "Q 18.109375 37.203125 18.109375 27.296875 \r\n",
       "Q 18.109375 17.390625 22.1875 11.75 \r\n",
       "Q 26.265625 6.109375 33.40625 6.109375 \r\n",
       "Q 40.53125 6.109375 44.609375 11.75 \r\n",
       "Q 48.6875 17.390625 48.6875 27.296875 \r\n",
       "z\r\n",
       "M 18.109375 46.390625 \r\n",
       "Q 20.953125 51.265625 25.265625 53.625 \r\n",
       "Q 29.59375 56 35.59375 56 \r\n",
       "Q 45.5625 56 51.78125 48.09375 \r\n",
       "Q 58.015625 40.1875 58.015625 27.296875 \r\n",
       "Q 58.015625 14.40625 51.78125 6.484375 \r\n",
       "Q 45.5625 -1.421875 35.59375 -1.421875 \r\n",
       "Q 29.59375 -1.421875 25.265625 0.953125 \r\n",
       "Q 20.953125 3.328125 18.109375 8.203125 \r\n",
       "L 18.109375 0 \r\n",
       "L 9.078125 0 \r\n",
       "L 9.078125 75.984375 \r\n",
       "L 18.109375 75.984375 \r\n",
       "z\r\n",
       "\" id=\"DejaVuSans-98\"/>\r\n",
       "     <path d=\"M 8.015625 75.875 \r\n",
       "L 15.828125 75.875 \r\n",
       "Q 23.140625 64.359375 26.78125 53.3125 \r\n",
       "Q 30.421875 42.28125 30.421875 31.390625 \r\n",
       "Q 30.421875 20.453125 26.78125 9.375 \r\n",
       "Q 23.140625 -1.703125 15.828125 -13.1875 \r\n",
       "L 8.015625 -13.1875 \r\n",
       "Q 14.5 -2 17.703125 9.0625 \r\n",
       "Q 20.90625 20.125 20.90625 31.390625 \r\n",
       "Q 20.90625 42.671875 17.703125 53.65625 \r\n",
       "Q 14.5 64.65625 8.015625 75.875 \r\n",
       "z\r\n",
       "\" id=\"DejaVuSans-41\"/>\r\n",
       "    </defs>\r\n",
       "    <g transform=\"translate(114.20375 16.318125)scale(0.12 -0.12)\">\r\n",
       "     <use xlink:href=\"#DejaVuSans-77\"/>\r\n",
       "     <use x=\"86.279297\" xlink:href=\"#DejaVuSans-101\"/>\r\n",
       "     <use x=\"147.802734\" xlink:href=\"#DejaVuSans-97\"/>\r\n",
       "     <use x=\"209.082031\" xlink:href=\"#DejaVuSans-110\"/>\r\n",
       "     <use x=\"272.460938\" xlink:href=\"#DejaVuSans-32\"/>\r\n",
       "     <use x=\"304.248047\" xlink:href=\"#DejaVuSans-83\"/>\r\n",
       "     <use x=\"367.724609\" xlink:href=\"#DejaVuSans-113\"/>\r\n",
       "     <use x=\"431.201172\" xlink:href=\"#DejaVuSans-117\"/>\r\n",
       "     <use x=\"494.580078\" xlink:href=\"#DejaVuSans-97\"/>\r\n",
       "     <use x=\"555.859375\" xlink:href=\"#DejaVuSans-114\"/>\r\n",
       "     <use x=\"594.722656\" xlink:href=\"#DejaVuSans-101\"/>\r\n",
       "     <use x=\"656.246094\" xlink:href=\"#DejaVuSans-100\"/>\r\n",
       "     <use x=\"719.722656\" xlink:href=\"#DejaVuSans-32\"/>\r\n",
       "     <use x=\"751.509766\" xlink:href=\"#DejaVuSans-69\"/>\r\n",
       "     <use x=\"814.693359\" xlink:href=\"#DejaVuSans-114\"/>\r\n",
       "     <use x=\"854.056641\" xlink:href=\"#DejaVuSans-114\"/>\r\n",
       "     <use x=\"892.919922\" xlink:href=\"#DejaVuSans-111\"/>\r\n",
       "     <use x=\"954.101562\" xlink:href=\"#DejaVuSans-114\"/>\r\n",
       "     <use x=\"995.214844\" xlink:href=\"#DejaVuSans-32\"/>\r\n",
       "     <use x=\"1027.001953\" xlink:href=\"#DejaVuSans-45\"/>\r\n",
       "     <use x=\"1063.085938\" xlink:href=\"#DejaVuSans-32\"/>\r\n",
       "     <use x=\"1094.873047\" xlink:href=\"#DejaVuSans-105\"/>\r\n",
       "     <use x=\"1122.65625\" xlink:href=\"#DejaVuSans-110\"/>\r\n",
       "     <use x=\"1186.035156\" xlink:href=\"#DejaVuSans-45\"/>\r\n",
       "     <use x=\"1222.119141\" xlink:href=\"#DejaVuSans-115\"/>\r\n",
       "     <use x=\"1274.21875\" xlink:href=\"#DejaVuSans-97\"/>\r\n",
       "     <use x=\"1335.498047\" xlink:href=\"#DejaVuSans-109\"/>\r\n",
       "     <use x=\"1432.910156\" xlink:href=\"#DejaVuSans-112\"/>\r\n",
       "     <use x=\"1496.386719\" xlink:href=\"#DejaVuSans-108\"/>\r\n",
       "     <use x=\"1524.169922\" xlink:href=\"#DejaVuSans-101\"/>\r\n",
       "     <use x=\"1585.693359\" xlink:href=\"#DejaVuSans-32\"/>\r\n",
       "     <use x=\"1617.480469\" xlink:href=\"#DejaVuSans-118\"/>\r\n",
       "     <use x=\"1676.660156\" xlink:href=\"#DejaVuSans-115\"/>\r\n",
       "     <use x=\"1728.759766\" xlink:href=\"#DejaVuSans-46\"/>\r\n",
       "     <use x=\"1760.546875\" xlink:href=\"#DejaVuSans-32\"/>\r\n",
       "     <use x=\"1792.333984\" xlink:href=\"#DejaVuSans-111\"/>\r\n",
       "     <use x=\"1853.515625\" xlink:href=\"#DejaVuSans-117\"/>\r\n",
       "     <use x=\"1916.894531\" xlink:href=\"#DejaVuSans-116\"/>\r\n",
       "     <use x=\"1956.103516\" xlink:href=\"#DejaVuSans-45\"/>\r\n",
       "     <use x=\"1994.0625\" xlink:href=\"#DejaVuSans-111\"/>\r\n",
       "     <use x=\"2055.244141\" xlink:href=\"#DejaVuSans-102\"/>\r\n",
       "     <use x=\"2084.949219\" xlink:href=\"#DejaVuSans-45\"/>\r\n",
       "     <use x=\"2121.033203\" xlink:href=\"#DejaVuSans-115\"/>\r\n",
       "     <use x=\"2173.132812\" xlink:href=\"#DejaVuSans-97\"/>\r\n",
       "     <use x=\"2234.412109\" xlink:href=\"#DejaVuSans-109\"/>\r\n",
       "     <use x=\"2331.824219\" xlink:href=\"#DejaVuSans-112\"/>\r\n",
       "     <use x=\"2395.300781\" xlink:href=\"#DejaVuSans-108\"/>\r\n",
       "     <use x=\"2423.083984\" xlink:href=\"#DejaVuSans-101\"/>\r\n",
       "     <use x=\"2484.607422\" xlink:href=\"#DejaVuSans-32\"/>\r\n",
       "     <use x=\"2516.394531\" xlink:href=\"#DejaVuSans-40\"/>\r\n",
       "     <use x=\"2555.408203\" xlink:href=\"#DejaVuSans-108\"/>\r\n",
       "     <use x=\"2583.191406\" xlink:href=\"#DejaVuSans-111\"/>\r\n",
       "     <use x=\"2644.373047\" xlink:href=\"#DejaVuSans-119\"/>\r\n",
       "     <use x=\"2726.160156\" xlink:href=\"#DejaVuSans-101\"/>\r\n",
       "     <use x=\"2787.683594\" xlink:href=\"#DejaVuSans-114\"/>\r\n",
       "     <use x=\"2828.796875\" xlink:href=\"#DejaVuSans-32\"/>\r\n",
       "     <use x=\"2860.583984\" xlink:href=\"#DejaVuSans-105\"/>\r\n",
       "     <use x=\"2888.367188\" xlink:href=\"#DejaVuSans-115\"/>\r\n",
       "     <use x=\"2940.466797\" xlink:href=\"#DejaVuSans-32\"/>\r\n",
       "     <use x=\"2972.253906\" xlink:href=\"#DejaVuSans-98\"/>\r\n",
       "     <use x=\"3035.730469\" xlink:href=\"#DejaVuSans-101\"/>\r\n",
       "     <use x=\"3097.253906\" xlink:href=\"#DejaVuSans-116\"/>\r\n",
       "     <use x=\"3136.462891\" xlink:href=\"#DejaVuSans-116\"/>\r\n",
       "     <use x=\"3175.671875\" xlink:href=\"#DejaVuSans-101\"/>\r\n",
       "     <use x=\"3237.195312\" xlink:href=\"#DejaVuSans-114\"/>\r\n",
       "     <use x=\"3278.308594\" xlink:href=\"#DejaVuSans-41\"/>\r\n",
       "    </g>\r\n",
       "   </g>\r\n",
       "  </g>\r\n",
       " </g>\r\n",
       " <defs>\r\n",
       "  <clipPath id=\"pd6dbf93a08\">\r\n",
       "   <rect height=\"326.16\" width=\"558\" x=\"34.240625\" y=\"22.318125\"/>\r\n",
       "  </clipPath>\r\n",
       " </defs>\r\n",
       "</svg>\r\n"
      ],
      "text/plain": [
       "<Figure size 720x432 with 1 Axes>"
      ]
     },
     "metadata": {
      "needs_background": "light"
     },
     "output_type": "display_data"
    }
   ],
   "source": [
    "# Explicit feedback dataset\n",
    "print(f\"In-sample MSE. ESBMR: {model.mse(train, pred)}. HPF: {hpf.mse_train[hpf.mse_train.nonzero()[0][-1]]}\")\n",
    "print(f\"Out-of-sample MSE. ESBMR: {model.mse(test, pred)}. HPF: {hpf.mse_valid[hpf.mse_valid.nonzero()[0][-1]]}\")\n",
    "fig, ax = plt.subplots(figsize = (10,6))\n",
    "\n",
    "bar_width = 0.35\n",
    "index = np.arange(2)\n",
    "bar_width = 2\n",
    "\n",
    "objects = ('ESBMR', 'HPF')\n",
    "y_plot1 = [model.mse(train, pred),hpf.mse_train[hpf.mse_train.nonzero()[0][-1]]]\n",
    "y_plot2 = [model.mse(test, pred),hpf.mse_valid[hpf.mse_valid.nonzero()[0][-1]]]\n",
    "y_pos1 = np.arange(len(y_plot1))\n",
    "plt.bar(index, y_plot1, align='center', alpha=0.5)\n",
    "plt.bar(index + bar_width, y_plot2, align='center', alpha=0.5)\n",
    "#plt.xticks(y_pos, objects)\n",
    "plt.xticks([0,1,2,3], ('ESBMR', 'HPF','ESBMR', 'HPF'))\n",
    "#plt.xticks(index + bar_width, ('ESBMR', 'HPF'))\n",
    "plt.ylabel('Error')\n",
    "plt.ylim(top = 5)\n",
    "plt.title('Mean Squared Error - in-sample vs. out-of-sample (lower is better)')\n",
    "\n",
    "plt.show()"
   ]
  },
  {
   "cell_type": "markdown",
   "metadata": {},
   "source": [
    "### Stima delle interazioni: ground truth vs. estimated"
   ]
  },
  {
   "cell_type": "code",
   "execution_count": 23,
   "metadata": {},
   "outputs": [
    {
     "data": {
      "text/plain": [
       "Text(0.5, 0, 'Estimated interaction')"
      ]
     },
     "execution_count": 23,
     "metadata": {},
     "output_type": "execute_result"
    },
    {
     "data": {
      "image/png": "[encoded data removed]",
      "text/plain": [
       "<Figure size 432x288 with 1 Axes>"
      ]
     },
     "metadata": {
      "needs_background": "light"
     },
     "output_type": "display_data"
    }
   ],
   "source": [
    "plt.hist(test.flatten(), bins = 40,alpha=0.4)\n",
    "plt.hist(pred.flatten(), bins = 40, alpha = 0.4)\n",
    "plt.yscale(\"log\")\n",
    "plt.ylabel(\"Count\")\n",
    "plt.xlabel(\"Estimated interaction\")"
   ]
  },
  {
   "cell_type": "markdown",
   "metadata": {},
   "source": [
    "### 3. Sensitivity\n",
    "$Sensitivity = \\frac{\\text{#true positives}}{\\text{total positives}}$"
   ]
  },
  {
   "cell_type": "code",
   "execution_count": null,
   "metadata": {},
   "outputs": [],
   "source": [
    "# WIP"
   ]
  },
  {
   "cell_type": "markdown",
   "metadata": {},
   "source": [
    "### 5. Precision-at-z: in progress\n",
    "$    P_{z^*} = \\frac{1}{U}\\sum_{u=1}^{U}\\frac{\\textit{\\# of items in $z_u^*$ that are relevant for $u$}}{K}\n",
    "$"
   ]
  },
  {
   "cell_type": "code",
   "execution_count": 1,
   "metadata": {},
   "outputs": [],
   "source": [
    "# model.block_recommend(range(train.shape[0]),1) # call to function\n",
    "# recommended_and_relevant = 0\n",
    "# precision = 0"
   ]
  },
  {
   "cell_type": "markdown",
   "metadata": {},
   "source": [
    "## Implicit Feedback data\n",
    "- Trasformiamo ora il dataset esplicito in un dataset implicito, ovvero con valori di interazione 0/1."
   ]
  },
  {
   "cell_type": "code",
   "execution_count": 39,
   "metadata": {},
   "outputs": [],
   "source": [
    "impl = expl.copy()\n",
    "impl[expl.nonzero()] = 1"
   ]
  },
  {
   "cell_type": "code",
   "execution_count": 40,
   "metadata": {},
   "outputs": [],
   "source": [
    "train_i, test_i = train_test_split.train_val_split(impl)"
   ]
  },
  {
   "cell_type": "code",
   "execution_count": 41,
   "metadata": {},
   "outputs": [
    {
     "data": {
      "text/plain": [
       "<matplotlib.axes._subplots.AxesSubplot at 0x7f95f08cb6a0>"
      ]
     },
     "execution_count": 41,
     "metadata": {},
     "output_type": "execute_result"
    },
    {
     "data": {
      "image/png": "[encoded data removed]",
      "text/plain": [
       "<Figure size 432x288 with 2 Axes>"
      ]
     },
     "metadata": {
      "needs_background": "light"
     },
     "output_type": "display_data"
    }
   ],
   "source": [
    "sns.heatmap(impl)"
   ]
  },
  {
   "cell_type": "code",
   "execution_count": 42,
   "metadata": {},
   "outputs": [
    {
     "name": "stdout",
     "output_type": "stream",
     "text": [
      "------------------\n",
      "Initial log-likelihood: -6374.880060141051\n",
      "------------------\n",
      "Gibbs Sampling simulation starts.\n",
      "Iteration 0 complete. Log-likelihood: -39437.35105458262.\n",
      "Iteration 10 complete. Log-likelihood: -40373.8154466461.\n",
      "Iteration 20 complete. Log-likelihood: -40362.577801036794.\n",
      "Runtime: 14.411815881729126\n",
      "Block-interactions computed.\n",
      "End: 1603298784.3484879\n"
     ]
    }
   ],
   "source": [
    "mod2 = esbmr2(prior_u = 'GN', prior_i = 'GN', gamma = 0.3, alpha_urn_u = 2.55, a = 0.3, b = 1)\n",
    "mod2.fit(train_i, 30)"
   ]
  },
  {
   "cell_type": "code",
   "execution_count": 44,
   "metadata": {},
   "outputs": [],
   "source": [
    "pred_i = mod2.predict(test_i)"
   ]
  },
  {
   "cell_type": "code",
   "execution_count": 45,
   "metadata": {},
   "outputs": [
    {
     "data": {
      "text/plain": [
       "array([[0.1, 0.2, 0.1, ..., 0.2, 0.1, 0. ],\n",
       "       [0.2, 0. , 0.3, ..., 0.4, 0. , 0.1],\n",
       "       [0.2, 0.2, 0.2, ..., 0.3, 0. , 0.1],\n",
       "       ...,\n",
       "       [0.2, 0.2, 0.2, ..., 0.3, 0. , 0.1],\n",
       "       [0.1, 0.2, 0.1, ..., 0.1, 0. , 0. ],\n",
       "       [0.1, 0.2, 0.1, ..., 0.2, 0. , 0. ]])"
      ]
     },
     "execution_count": 45,
     "metadata": {},
     "output_type": "execute_result"
    }
   ],
   "source": [
    "cf = CF()\n",
    "cf.fit(train_i, 10)"
   ]
  },
  {
   "cell_type": "code",
   "execution_count": 71,
   "metadata": {},
   "outputs": [
    {
     "name": "stderr",
     "output_type": "stream",
     "text": [
      "/home/ec2-user/SageMaker/dst-merchant-recommendation/hpf_vi.py:189: RuntimeWarning:\n",
      "\n",
      "divide by zero encountered in log\n",
      "\n"
     ]
    },
    {
     "name": "stdout",
     "output_type": "stream",
     "text": [
      "Iteration 1 completed. Log-likelihood: -4652.467650772923\n",
      "Iteration 2 completed. Log-likelihood: -3284.1842317037804\n",
      "Iteration 3 completed. Log-likelihood: -3127.906117166982\n",
      "Iteration 4 completed. Log-likelihood: -2978.2736544962167\n",
      "Iteration 5 completed. Log-likelihood: -2850.4816271844425\n",
      "Iteration 6 completed. Log-likelihood: -2749.29749926991\n",
      "Iteration 7 completed. Log-likelihood: -2673.815920035137\n",
      "Iteration 8 completed. Log-likelihood: -2620.41035523825\n",
      "Iteration 9 completed. Log-likelihood: -2584.8876013939207\n",
      "Iteration 10 completed. Log-likelihood: -2562.5127465639293\n",
      "Stopped after 1.96 seconds, 10 iterations. Log-likelihood: -2562.5127465639293.\n"
     ]
    }
   ],
   "source": [
    "hpf2 = hpf_vi()\n",
    "hpf2.fit(train_i, 10, valid = test_i)"
   ]
  },
  {
   "cell_type": "code",
   "execution_count": 51,
   "metadata": {},
   "outputs": [],
   "source": [
    "pred_rand = np.random.randn(test.shape[0], test.shape[1])"
   ]
  },
  {
   "cell_type": "code",
   "execution_count": 69,
   "metadata": {},
   "outputs": [
    {
     "data": {
      "text/plain": [
       "0.4731049434596577"
      ]
     },
     "execution_count": 69,
     "metadata": {},
     "output_type": "execute_result"
    }
   ],
   "source": [
    "scoring.roc_auc(train_i, test_i, pred_rand)"
   ]
  },
  {
   "cell_type": "markdown",
   "metadata": {},
   "source": [
    "L'accuracy è una misura del numero di prediction corrette sul numero totale di prediction (cardinalità del test set). Il threshold per l'accuracy è fissato al valore medio o mediano delle frequenze delle prediction."
   ]
  },
  {
   "cell_type": "code",
   "execution_count": 72,
   "metadata": {},
   "outputs": [
    {
     "name": "stdout",
     "output_type": "stream",
     "text": [
      "Score for CF: 0.6756528881418093\n",
      "Score for ESBMR: 0.7354133557457212\n",
      "Score for HPF: 0.7209865907701712\n",
      "Score for random: 0.4782879355134474\n"
     ]
    }
   ],
   "source": [
    "reload(scoring)\n",
    "print(f\"Score for CF: {scoring.roc_auc(train_i, test_i, cf.pred)}\")\n",
    "print(f\"Score for ESBMR: {scoring.roc_auc(train_i, test_i, pred_i)}\")\n",
    "print(f\"Score for HPF: {scoring.roc_auc(train_i, test_i, hpf2.predicted)}\")\n",
    "print(f\"Score for random: {scoring.roc_auc(train_i, test_i, pred_rand)}\")"
   ]
  },
  {
   "cell_type": "markdown",
   "metadata": {},
   "source": [
    "### Distribuzione dell'AUC al variare del test set per i tre recommender system"
   ]
  },
  {
   "cell_type": "code",
   "execution_count": 78,
   "metadata": {},
   "outputs": [
    {
     "data": {
      "text/plain": [
       "(array([2., 2., 1., 3., 9., 5., 6., 6., 6., 3., 5., 2.]),\n",
       " array([0.46587561, 0.46727826, 0.46868092, 0.47008357, 0.47148622,\n",
       "        0.47288887, 0.47429153, 0.47569418, 0.47709683, 0.47849948,\n",
       "        0.47990214, 0.48130479, 0.48270744]),\n",
       " <a list of 12 Patch objects>)"
      ]
     },
     "execution_count": 78,
     "metadata": {},
     "output_type": "execute_result"
    },
    {
     "data": {
      "image/png": "[encoded data removed]",
      "text/plain": [
       "<Figure size 864x360 with 4 Axes>"
      ]
     },
     "metadata": {
      "needs_background": "light"
     },
     "output_type": "display_data"
    }
   ],
   "source": [
    "fig, ax = plt.subplots(figsize = (12,5), ncols = 4)\n",
    "\n",
    "ax[0].hist([scoring.roc_auc(train_i,test_i, cf.pred) for i in range(50)], bins = 12, alpha = 0.5)\n",
    "ax[1].hist([scoring.roc_auc(train_i,test_i, pred_i) for i in range(50)], bins = 12, alpha = 0.5)\n",
    "ax[2].hist([scoring.roc_auc(train_i,test_i, hpf2.predicted) for i in range(50)], bins = 12, alpha = 0.5)\n",
    "ax[3].hist([scoring.roc_auc(train_i,test_i, pred_rand) for i in range(50)], bins = 12, alpha = 0.5)"
   ]
  },
  {
   "cell_type": "code",
   "execution_count": 79,
   "metadata": {},
   "outputs": [],
   "source": [
    "pred_i = pred_i / pred_i.max()"
   ]
  },
  {
   "cell_type": "code",
   "execution_count": 80,
   "metadata": {},
   "outputs": [],
   "source": [
    "hpf2.predicted = hpf2.predicted / hpf2.predicted.max()"
   ]
  },
  {
   "cell_type": "code",
   "execution_count": 81,
   "metadata": {},
   "outputs": [
    {
     "data": {
      "text/plain": [
       "0.053257111828440416"
      ]
     },
     "execution_count": 81,
     "metadata": {},
     "output_type": "execute_result"
    }
   ],
   "source": [
    "scoring.mse(train_i, test_i, pred_i)"
   ]
  },
  {
   "cell_type": "code",
   "execution_count": 82,
   "metadata": {},
   "outputs": [
    {
     "name": "stdout",
     "output_type": "stream",
     "text": [
      "In-sample MSE. ESBMR: 0.7588364394011948. HPF: 0.6892397765345138\n",
      "Out-of-sample MSE. ESBMR: 0.7979372002925533. HPF: 0.8556751329372552\n"
     ]
    },
    {
     "data": {
      "image/png": "[encoded data removed]",
      "text/plain": [
       "<Figure size 720x432 with 1 Axes>"
      ]
     },
     "metadata": {
      "needs_background": "light"
     },
     "output_type": "display_data"
    }
   ],
   "source": [
    "# OLD: UTILIZZA MODULO SCORING (come sopra), COSI' DA TENER CONTO DELLE TRASFORMAZIONI ALLE PREDICTIONS\n",
    "print(f\"In-sample MSE. ESBMR: {mod2.mse(train_i, pred_i)}. HPF: {hpf2.mse_train[hpf2.mse_train.nonzero()[0][-1]]}\")\n",
    "print(f\"Out-of-sample MSE. ESBMR: {mod2.mse(test_i, pred_i)}. HPF: {hpf2.mse_valid[hpf2.mse_valid.nonzero()[0][-1]]}\")\n",
    "\n",
    "fig, ax = plt.subplots(figsize = (10,6))\n",
    "\n",
    "bar_width = 0.35\n",
    "index = np.arange(2)\n",
    "bar_width = 2\n",
    "\n",
    "objects = ('ESBMR', 'HPF')\n",
    "y_plot1 = [mod2.mse(train_i, pred_i),hpf2.mse_train[hpf2.mse_train.nonzero()[0][-1]]]\n",
    "y_plot2 = [mod2.mse(test_i, pred_i),hpf2.mse_valid[hpf2.mse_valid.nonzero()[0][-1]]]\n",
    "y_pos1 = np.arange(len(y_plot1))\n",
    "plt.bar(index, y_plot1, align='center', alpha=0.5)\n",
    "plt.bar(index + bar_width, y_plot2, align='center', alpha=0.5)\n",
    "#plt.xticks(y_pos, objects)\n",
    "plt.xticks([0,1,2,3], ('ESBMR', 'HPF','ESBMR', 'HPF'))\n",
    "#plt.xticks(index + bar_width, ('ESBMR', 'HPF'))\n",
    "plt.ylabel('Usage')\n",
    "plt.title('Mean Squared Error - in-sample vs. out-of-sample (lower is better)')\n",
    "\n",
    "plt.show()"
   ]
  },
  {
   "cell_type": "code",
   "execution_count": 83,
   "metadata": {},
   "outputs": [
    {
     "name": "stdout",
     "output_type": "stream",
     "text": [
      "0.1131532425765632 0.04291832134403636\n",
      "0.07525116819602479 0.03610927143465134\n"
     ]
    }
   ],
   "source": [
    "# OUT-OF-SAMPLE PERFORMANCE at a glance - better than random\n",
    "\n",
    "# ESBMR \n",
    "print(pred_i[np.where(test_i == 1)].mean(), pred_i[np.where(test_i == 0)].mean())\n",
    "\n",
    "# HPF\n",
    "print(hpf2.predicted[np.where(test_i == 1)].mean(), hpf2.predicted[np.where(test_i == 0)].mean())"
   ]
  },
  {
   "cell_type": "markdown",
   "metadata": {},
   "source": [
    "### Recommendations with binary data"
   ]
  },
  {
   "cell_type": "code",
   "execution_count": 577,
   "metadata": {},
   "outputs": [
    {
     "name": "stdout",
     "output_type": "stream",
     "text": [
      " - Recommendations for user 0:  {0: [array([[19],\n",
      "       [25],\n",
      "       [27]], dtype=int64), array([[86]], dtype=int64), array([[33],\n",
      "       [40],\n",
      "       [45]], dtype=int64), array([[ 0],\n",
      "       [ 8],\n",
      "       [10],\n",
      "       [11],\n",
      "       [16],\n",
      "       [22],\n",
      "       [24],\n",
      "       [26],\n",
      "       [30],\n",
      "       [52],\n",
      "       [74],\n",
      "       [79],\n",
      "       [80],\n",
      "       [88]], dtype=int64), array([[ 2],\n",
      "       [23],\n",
      "       [35],\n",
      "       [37]], dtype=int64)]}\n",
      " - Recommendations for user 10:  {10: [array([[19],\n",
      "       [25],\n",
      "       [27]], dtype=int64), array([[86]], dtype=int64), array([[33],\n",
      "       [40],\n",
      "       [45]], dtype=int64), array([[ 0],\n",
      "       [ 8],\n",
      "       [10],\n",
      "       [11],\n",
      "       [16],\n",
      "       [22],\n",
      "       [24],\n",
      "       [26],\n",
      "       [30],\n",
      "       [52],\n",
      "       [74],\n",
      "       [79],\n",
      "       [80],\n",
      "       [88]], dtype=int64), array([[ 2],\n",
      "       [23],\n",
      "       [35],\n",
      "       [37]], dtype=int64)]}\n"
     ]
    }
   ],
   "source": [
    "u1, u2 = 0,10\n",
    "print(f\" - Recommendations for user {u1}: \",mod2.block_recommend([0],5))\n",
    "print(f\" - Recommendations for user {u2}: \",mod2.block_recommend([10],5))"
   ]
  },
  {
   "cell_type": "code",
   "execution_count": 84,
   "metadata": {},
   "outputs": [
    {
     "data": {
      "text/plain": [
       "0.0628428927680798"
      ]
     },
     "execution_count": 84,
     "metadata": {},
     "output_type": "execute_result"
    }
   ],
   "source": [
    "mod2.precision_at_z(test_i, pred_i, threshold = 0.0)"
   ]
  },
  {
   "cell_type": "code",
   "execution_count": 85,
   "metadata": {},
   "outputs": [
    {
     "data": {
      "text/plain": [
       "0.25257731958762886"
      ]
     },
     "execution_count": 85,
     "metadata": {},
     "output_type": "execute_result"
    }
   ],
   "source": [
    "mod2.recall_at_z(test_i, pred_i, threshold = 0.1)"
   ]
  },
  {
   "cell_type": "code",
   "execution_count": 594,
   "metadata": {},
   "outputs": [],
   "source": [
    "# Recall much higher than precision: as expected, since the model is based on a block structure, \n",
    "# it will suggest many items that are in line with the preference of the user, but that the user never consumed.\n",
    "# Hence, on the one hand, we get a relatively low precision-at-z.\n",
    "# On the other hand, a high recall confirms that the model detects a high proportion of relevant items on the total."
   ]
  },
  {
   "cell_type": "code",
   "execution_count": 86,
   "metadata": {},
   "outputs": [
    {
     "data": {
      "text/plain": [
       "0.37897310513447435"
      ]
     },
     "execution_count": 86,
     "metadata": {},
     "output_type": "execute_result"
    }
   ],
   "source": [
    "reload(scoring)\n",
    "a, b, c = scoring.accuracy(train_i, test_i, pred_i, 0.1)\n",
    "a"
   ]
  },
  {
   "cell_type": "code",
   "execution_count": 87,
   "metadata": {},
   "outputs": [
    {
     "data": {
      "text/plain": [
       "<matplotlib.axes._subplots.AxesSubplot at 0x7f95f03f1e10>"
      ]
     },
     "execution_count": 87,
     "metadata": {},
     "output_type": "execute_result"
    },
    {
     "data": {
      "image/png": "[encoded data removed]",
      "text/plain": [
       "<Figure size 432x288 with 2 Axes>"
      ]
     },
     "metadata": {
      "needs_background": "light"
     },
     "output_type": "display_data"
    }
   ],
   "source": [
    "sns.heatmap(mod2.theta_est)"
   ]
  },
  {
   "cell_type": "code",
   "execution_count": 88,
   "metadata": {},
   "outputs": [
    {
     "data": {
      "text/plain": [
       "<matplotlib.axes._subplots.AxesSubplot at 0x7f95f02ba898>"
      ]
     },
     "execution_count": 88,
     "metadata": {},
     "output_type": "execute_result"
    },
    {
     "data": {
      "image/png": "[encoded data removed]",
      "text/plain": [
       "<Figure size 432x288 with 2 Axes>"
      ]
     },
     "metadata": {
      "needs_background": "light"
     },
     "output_type": "display_data"
    }
   ],
   "source": [
    "mod2.co_clustering_matrices()\n",
    "sns.heatmap(mod2.ccmatrix_i, cmap = 'YlGnBu')"
   ]
  },
  {
   "cell_type": "code",
   "execution_count": 89,
   "metadata": {},
   "outputs": [
    {
     "data": {
      "text/plain": [
       "<matplotlib.axes._subplots.AxesSubplot at 0x7f95f01aa780>"
      ]
     },
     "execution_count": 89,
     "metadata": {},
     "output_type": "execute_result"
    },
    {
     "data": {
      "image/png": "[encoded data removed]",
      "text/plain": [
       "<Figure size 432x288 with 2 Axes>"
      ]
     },
     "metadata": {
      "needs_background": "light"
     },
     "output_type": "display_data"
    }
   ],
   "source": [
    "sns.heatmap(mod2.ccmatrix_u, cmap = 'YlGnBu')"
   ]
  },
  {
   "cell_type": "markdown",
   "metadata": {},
   "source": [
    "## Aggiunta di informazioni nodali come covariate"
   ]
  },
  {
   "cell_type": "code",
   "execution_count": null,
   "metadata": {},
   "outputs": [],
   "source": []
  },
  {
   "cell_type": "code",
   "execution_count": null,
   "metadata": {},
   "outputs": [],
   "source": []
  },
  {
   "cell_type": "code",
   "execution_count": null,
   "metadata": {},
   "outputs": [],
   "source": []
  },
  {
   "cell_type": "markdown",
   "metadata": {},
   "source": [
    "### Implementazione stimatore cluster assignment basato su posterior similarity matrix\n",
    "(si veda codice)"
   ]
  }
 ],
 "metadata": {
  "kernelspec": {
   "display_name": "conda_python3",
   "language": "python",
   "name": "conda_python3"
  },
  "language_info": {
   "codemirror_mode": {
    "name": "ipython",
    "version": 3
   },
   "file_extension": ".py",
   "mimetype": "text/x-python",
   "name": "python",
   "nbconvert_exporter": "python",
   "pygments_lexer": "ipython3",
   "version": "3.6.10"
  }
 },
 "nbformat": 4,
 "nbformat_minor": 4
}
